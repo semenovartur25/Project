{
  "cells": [
    {
      "cell_type": "markdown",
      "id": "82f67a61",
      "metadata": {
        "id": "82f67a61"
      },
      "source": [
        "## **Начнем с загрузки датасетов**\n",
        "\n",
        "Структура наших датасетов:\n",
        "\n",
        "1. **Quality of life** - наш основной датасет.\n",
        "\n",
        "   Изначально в нем представлено 136 стран, каждой из которых присвоен рейтинг по 100-бальной шкале по следующим показателям:\n",
        "   \n",
        "   1) **Стабильность** - политическая и экономическая стабильность\n",
        "   2) **Права** - правовая система государства, ее прозрачность и справедливость, права человека, свобода слова\n",
        "   3) **Здоровье** - качество системы здравоохранения\n",
        "   4) **Безопасность** - отражает уровень преступности, качество защиты граждан силовыми структурами от преступлений\n",
        "   5) **Климат** - под ним стоит подразумевать экологическую обстановку в стране\n",
        "   6) **Стоимость жизни**\n",
        "   7) **Привлекательность страны для эмиграции**\n",
        "\n",
        "   Датасет взят со следующего ресурса: https://www.worlddata.info/quality-of-life.php(переделать на гиперссылку). Там можно подробнее почитать про методику оценки каждого из показателей.\n",
        "\n",
        "   На взгляд нашей команды, каждый из этих показателей по своему важен и влияет на продолжительность жизни, поэтому мы решили исключить умножение каждого из параметров на определенный коэффициент для подсчета итоговой оценки и присваивание ранга стране по нему, так как это не совсем объективно.\n",
        "\n",
        "2. **Life expectancy** - в нем представлена средняя продолжительность жизни по странам и годам. Мы из него возьмем последний доступный год для каждой страны(в основном это будет 2021, самый ранний вариант - 2019).\n",
        "3. **Inflation** - в нем представлена инфляция по странам и годам. Возьмем инфляцию за 2021 год.\n",
        "4. **GDP** - в нем представлен ВВП по странам и годам. Возьмем ВВП за 2021 год.\n",
        "5. **Gini** - индекс Джини по странам и годам. Он лежит в пределах от 0 до 100 и отражает уровень неравенства в стране(выше показатель - выше неравенство)\n",
        "6. **Education** - процент людей по странам, имеющих хотя бы базовое образование.\n",
        "\n",
        "Теперь, когда мы определились с датасетами и их наполнением - можно их загружать и приводить в красивый вид."
      ]
    },
    {
      "cell_type": "code",
      "execution_count": 77,
      "id": "e496816d",
      "metadata": {
        "id": "e496816d"
      },
      "outputs": [],
      "source": [
        "import pandas as pd\n",
        "import numpy as np\n",
        "import seaborn as sns\n",
        "import matplotlib.pyplot as plt\n",
        "import plotly.graph_objects as go\n",
        "import scipy.stats as stats\n",
        "from scipy.stats import pearsonr, spearmanr, linregress\n",
        "from typing import Any, Dict, Tuple\n",
        "from scipy.stats._stats_py import PearsonRResult, SignificanceResult\n",
        "from scipy.stats._stats_mstats_common import LinregressResult\n",
        "pd.set_option('display.float_format', '{:.2f}'.format)"
      ]
    },
    {
      "cell_type": "code",
      "execution_count": 78,
      "id": "eee22d78",
      "metadata": {
        "id": "eee22d78"
      },
      "outputs": [],
      "source": [
        "life_exp: pd.DataFrame = pd.read_csv('life-expectancy.csv')\n",
        "quality_life: pd.DataFrame = pd.read_csv('quality_life.csv')\n",
        "inflation: pd.DataFrame = pd.read_csv('inflation.csv')\n",
        "gdp: pd.DataFrame = pd.read_csv('GDP.csv')\n",
        "gini: pd.DataFrame = pd.read_csv('gini.csv')\n",
        "education: pd.DataFrame = pd.read_csv('education.csv')"
      ]
    },
    {
      "cell_type": "markdown",
      "id": "61847285",
      "metadata": {
        "id": "61847285"
      },
      "source": [
        "## **Соединение датасетов**\n",
        "\n",
        "Решил объединить данные разделы, так как с этого момента буду рассказывать какие-то свои мысли о данных. Как и обещал, основным датасетом будет **quality_life**, но с некоторыми изменениями: убираем ранг страны, итоговую общую оценку и сортируем страны в алфавитном порядке. Летс гоу!"
      ]
    },
    {
      "cell_type": "code",
      "execution_count": 79,
      "id": "5642af25",
      "metadata": {
        "colab": {
          "base_uri": "https://localhost:8080/",
          "height": 423
        },
        "id": "5642af25",
        "outputId": "021c7a7d-b170-49be-a1a4-9c35660446f6"
      },
      "outputs": [
        {
          "data": {
            "text/html": [
              "<div>\n",
              "<style scoped>\n",
              "    .dataframe tbody tr th:only-of-type {\n",
              "        vertical-align: middle;\n",
              "    }\n",
              "\n",
              "    .dataframe tbody tr th {\n",
              "        vertical-align: top;\n",
              "    }\n",
              "\n",
              "    .dataframe thead th {\n",
              "        text-align: right;\n",
              "    }\n",
              "</style>\n",
              "<table border=\"1\" class=\"dataframe\">\n",
              "  <thead>\n",
              "    <tr style=\"text-align: right;\">\n",
              "      <th></th>\n",
              "      <th>Country</th>\n",
              "      <th>Stability</th>\n",
              "      <th>Rights</th>\n",
              "      <th>Health</th>\n",
              "      <th>Safety</th>\n",
              "      <th>Climate</th>\n",
              "      <th>Costs</th>\n",
              "      <th>Popularity</th>\n",
              "    </tr>\n",
              "  </thead>\n",
              "  <tbody>\n",
              "    <tr>\n",
              "      <th>0</th>\n",
              "      <td>Afghanistan</td>\n",
              "      <td>28</td>\n",
              "      <td>9</td>\n",
              "      <td>20</td>\n",
              "      <td>19</td>\n",
              "      <td>58</td>\n",
              "      <td>63</td>\n",
              "      <td>63</td>\n",
              "    </tr>\n",
              "    <tr>\n",
              "      <th>1</th>\n",
              "      <td>Albania</td>\n",
              "      <td>58</td>\n",
              "      <td>43</td>\n",
              "      <td>64</td>\n",
              "      <td>84</td>\n",
              "      <td>55</td>\n",
              "      <td>57</td>\n",
              "      <td>26</td>\n",
              "    </tr>\n",
              "    <tr>\n",
              "      <th>2</th>\n",
              "      <td>Algeria</td>\n",
              "      <td>35</td>\n",
              "      <td>24</td>\n",
              "      <td>61</td>\n",
              "      <td>97</td>\n",
              "      <td>78</td>\n",
              "      <td>55</td>\n",
              "      <td>36</td>\n",
              "    </tr>\n",
              "    <tr>\n",
              "      <th>3</th>\n",
              "      <td>Angola</td>\n",
              "      <td>27</td>\n",
              "      <td>24</td>\n",
              "      <td>10</td>\n",
              "      <td>55</td>\n",
              "      <td>63</td>\n",
              "      <td>53</td>\n",
              "      <td>31</td>\n",
              "    </tr>\n",
              "    <tr>\n",
              "      <th>4</th>\n",
              "      <td>Argentina</td>\n",
              "      <td>41</td>\n",
              "      <td>44</td>\n",
              "      <td>79</td>\n",
              "      <td>78</td>\n",
              "      <td>77</td>\n",
              "      <td>41</td>\n",
              "      <td>38</td>\n",
              "    </tr>\n",
              "    <tr>\n",
              "      <th>...</th>\n",
              "      <td>...</td>\n",
              "      <td>...</td>\n",
              "      <td>...</td>\n",
              "      <td>...</td>\n",
              "      <td>...</td>\n",
              "      <td>...</td>\n",
              "      <td>...</td>\n",
              "      <td>...</td>\n",
              "    </tr>\n",
              "    <tr>\n",
              "      <th>132</th>\n",
              "      <td>United States</td>\n",
              "      <td>63</td>\n",
              "      <td>81</td>\n",
              "      <td>71</td>\n",
              "      <td>85</td>\n",
              "      <td>66</td>\n",
              "      <td>37</td>\n",
              "      <td>67</td>\n",
              "    </tr>\n",
              "    <tr>\n",
              "      <th>133</th>\n",
              "      <td>Uruguay</td>\n",
              "      <td>67</td>\n",
              "      <td>79</td>\n",
              "      <td>75</td>\n",
              "      <td>82</td>\n",
              "      <td>77</td>\n",
              "      <td>47</td>\n",
              "      <td>30</td>\n",
              "    </tr>\n",
              "    <tr>\n",
              "      <th>134</th>\n",
              "      <td>Vietnam</td>\n",
              "      <td>67</td>\n",
              "      <td>35</td>\n",
              "      <td>54</td>\n",
              "      <td>76</td>\n",
              "      <td>52</td>\n",
              "      <td>51</td>\n",
              "      <td>33</td>\n",
              "    </tr>\n",
              "    <tr>\n",
              "      <th>135</th>\n",
              "      <td>Zambia</td>\n",
              "      <td>34</td>\n",
              "      <td>32</td>\n",
              "      <td>18</td>\n",
              "      <td>60</td>\n",
              "      <td>68</td>\n",
              "      <td>58</td>\n",
              "      <td>47</td>\n",
              "    </tr>\n",
              "    <tr>\n",
              "      <th>136</th>\n",
              "      <td>Zimbabwe</td>\n",
              "      <td>29</td>\n",
              "      <td>14</td>\n",
              "      <td>13</td>\n",
              "      <td>74</td>\n",
              "      <td>91</td>\n",
              "      <td>37</td>\n",
              "      <td>36</td>\n",
              "    </tr>\n",
              "  </tbody>\n",
              "</table>\n",
              "<p>137 rows × 8 columns</p>\n",
              "</div>"
            ],
            "text/plain": [
              "           Country  Stability  Rights  Health  Safety  Climate  Costs  \\\n",
              "0      Afghanistan         28       9      20      19       58     63   \n",
              "1          Albania         58      43      64      84       55     57   \n",
              "2          Algeria         35      24      61      97       78     55   \n",
              "3           Angola         27      24      10      55       63     53   \n",
              "4        Argentina         41      44      79      78       77     41   \n",
              "..             ...        ...     ...     ...     ...      ...    ...   \n",
              "132  United States         63      81      71      85       66     37   \n",
              "133        Uruguay         67      79      75      82       77     47   \n",
              "134        Vietnam         67      35      54      76       52     51   \n",
              "135         Zambia         34      32      18      60       68     58   \n",
              "136       Zimbabwe         29      14      13      74       91     37   \n",
              "\n",
              "     Popularity  \n",
              "0            63  \n",
              "1            26  \n",
              "2            36  \n",
              "3            31  \n",
              "4            38  \n",
              "..          ...  \n",
              "132          67  \n",
              "133          30  \n",
              "134          33  \n",
              "135          47  \n",
              "136          36  \n",
              "\n",
              "[137 rows x 8 columns]"
            ]
          },
          "execution_count": 79,
          "metadata": {},
          "output_type": "execute_result"
        }
      ],
      "source": [
        "quality_life: pd.DataFrame\n",
        "quality_life = quality_life.drop(columns=['Unnamed: 0', 'Rank', 'TotalQuality of life(100%)'], errors='ignore')\n",
        "\n",
        "quality_life = quality_life.rename(columns={\n",
        "    'Stability(15%)': 'Stability',\n",
        "    'Rights(20%)': 'Rights',\n",
        "    'Health(15%)': 'Health',\n",
        "    'Safety(10%)': 'Safety',\n",
        "    'Climate(15%)': 'Climate',\n",
        "    'Costs(15%)': 'Costs',\n",
        "    'Popularity(10%)': 'Popularity'\n",
        "})\n",
        "\n",
        "quality_life = quality_life.sort_values(by='Country').reset_index(drop=True)\n",
        "\n",
        "quality_life"
      ]
    },
    {
      "cell_type": "markdown",
      "id": "f50c9ef1",
      "metadata": {
        "id": "f50c9ef1"
      },
      "source": [
        "Далее присоединим продолжительность жизни к основе, но до этого отфильтруем этот датасет. Выведем данные за последний доступный год(спойлер - это всегда будет 2021, кроме уже несуществующих стран, которые нас не интересуют), удалим ненужные колонки, переименуем столбцы."
      ]
    },
    {
      "cell_type": "code",
      "execution_count": 80,
      "id": "21d36fd5",
      "metadata": {
        "colab": {
          "base_uri": "https://localhost:8080/",
          "height": 423
        },
        "id": "21d36fd5",
        "outputId": "76469496-f277-4145-d5ab-c3c48b10d5f7"
      },
      "outputs": [
        {
          "data": {
            "text/html": [
              "<div>\n",
              "<style scoped>\n",
              "    .dataframe tbody tr th:only-of-type {\n",
              "        vertical-align: middle;\n",
              "    }\n",
              "\n",
              "    .dataframe tbody tr th {\n",
              "        vertical-align: top;\n",
              "    }\n",
              "\n",
              "    .dataframe thead th {\n",
              "        text-align: right;\n",
              "    }\n",
              "</style>\n",
              "<table border=\"1\" class=\"dataframe\">\n",
              "  <thead>\n",
              "    <tr style=\"text-align: right;\">\n",
              "      <th></th>\n",
              "      <th>Country</th>\n",
              "      <th>Life expectancy</th>\n",
              "    </tr>\n",
              "  </thead>\n",
              "  <tbody>\n",
              "    <tr>\n",
              "      <th>71</th>\n",
              "      <td>Afghanistan</td>\n",
              "      <td>61.98</td>\n",
              "    </tr>\n",
              "    <tr>\n",
              "      <th>143</th>\n",
              "      <td>Africa</td>\n",
              "      <td>61.66</td>\n",
              "    </tr>\n",
              "    <tr>\n",
              "      <th>217</th>\n",
              "      <td>Albania</td>\n",
              "      <td>76.46</td>\n",
              "    </tr>\n",
              "    <tr>\n",
              "      <th>289</th>\n",
              "      <td>Algeria</td>\n",
              "      <td>76.38</td>\n",
              "    </tr>\n",
              "    <tr>\n",
              "      <th>364</th>\n",
              "      <td>American Samoa</td>\n",
              "      <td>72.54</td>\n",
              "    </tr>\n",
              "    <tr>\n",
              "      <th>...</th>\n",
              "      <td>...</td>\n",
              "      <td>...</td>\n",
              "    </tr>\n",
              "    <tr>\n",
              "      <th>20459</th>\n",
              "      <td>Western Sahara</td>\n",
              "      <td>70.78</td>\n",
              "    </tr>\n",
              "    <tr>\n",
              "      <th>20531</th>\n",
              "      <td>World</td>\n",
              "      <td>71.05</td>\n",
              "    </tr>\n",
              "    <tr>\n",
              "      <th>20610</th>\n",
              "      <td>Yemen</td>\n",
              "      <td>63.75</td>\n",
              "    </tr>\n",
              "    <tr>\n",
              "      <th>20682</th>\n",
              "      <td>Zambia</td>\n",
              "      <td>61.22</td>\n",
              "    </tr>\n",
              "    <tr>\n",
              "      <th>20754</th>\n",
              "      <td>Zimbabwe</td>\n",
              "      <td>59.25</td>\n",
              "    </tr>\n",
              "  </tbody>\n",
              "</table>\n",
              "<p>261 rows × 2 columns</p>\n",
              "</div>"
            ],
            "text/plain": [
              "              Country  Life expectancy\n",
              "71        Afghanistan            61.98\n",
              "143            Africa            61.66\n",
              "217           Albania            76.46\n",
              "289           Algeria            76.38\n",
              "364    American Samoa            72.54\n",
              "...               ...              ...\n",
              "20459  Western Sahara            70.78\n",
              "20531           World            71.05\n",
              "20610           Yemen            63.75\n",
              "20682          Zambia            61.22\n",
              "20754        Zimbabwe            59.25\n",
              "\n",
              "[261 rows x 2 columns]"
            ]
          },
          "execution_count": 80,
          "metadata": {},
          "output_type": "execute_result"
        }
      ],
      "source": [
        "life: pd.DataFrame\n",
        "life = life_exp.loc[life_exp.groupby('Entity')['Year'].idxmax()]\n",
        "\n",
        "life = life.drop(columns=['Code', 'Year'], errors='ignore')\n",
        "\n",
        "life = life.rename(columns={\n",
        "    'Entity': 'Country',\n",
        "    'Period life expectancy at birth - Sex: all - Age: 0': 'Life expectancy'\n",
        "})\n",
        "\n",
        "life"
      ]
    },
    {
      "cell_type": "markdown",
      "id": "934dd70f",
      "metadata": {
        "id": "934dd70f"
      },
      "source": [
        "Теперь соединим датасеты:"
      ]
    },
    {
      "cell_type": "code",
      "execution_count": 81,
      "id": "9878a674",
      "metadata": {
        "id": "9878a674"
      },
      "outputs": [],
      "source": [
        "quality_life = quality_life.merge(life, how='left', on='Country')"
      ]
    },
    {
      "cell_type": "markdown",
      "id": "90d8d811",
      "metadata": {
        "id": "90d8d811"
      },
      "source": [
        "С этого момента присоединение буду расписывать тезисно, чтобы не отнимать мое время(и проверяющего): в инфляции брал данные за 2021 год(если их не было - последние доступные по стране).\n",
        "\n",
        "Потом просто присоединил к основному датасету."
      ]
    },
    {
      "cell_type": "code",
      "execution_count": 82,
      "id": "de529c75",
      "metadata": {
        "colab": {
          "base_uri": "https://localhost:8080/",
          "height": 423
        },
        "id": "de529c75",
        "outputId": "411be40a-b690-40bf-f4f3-ec117963358d"
      },
      "outputs": [
        {
          "data": {
            "text/html": [
              "<div>\n",
              "<style scoped>\n",
              "    .dataframe tbody tr th:only-of-type {\n",
              "        vertical-align: middle;\n",
              "    }\n",
              "\n",
              "    .dataframe tbody tr th {\n",
              "        vertical-align: top;\n",
              "    }\n",
              "\n",
              "    .dataframe thead th {\n",
              "        text-align: right;\n",
              "    }\n",
              "</style>\n",
              "<table border=\"1\" class=\"dataframe\">\n",
              "  <thead>\n",
              "    <tr style=\"text-align: right;\">\n",
              "      <th></th>\n",
              "      <th>Country</th>\n",
              "      <th>Stability</th>\n",
              "      <th>Rights</th>\n",
              "      <th>Health</th>\n",
              "      <th>Safety</th>\n",
              "      <th>Climate</th>\n",
              "      <th>Costs</th>\n",
              "      <th>Popularity</th>\n",
              "      <th>Life expectancy</th>\n",
              "      <th>Inflation</th>\n",
              "    </tr>\n",
              "  </thead>\n",
              "  <tbody>\n",
              "    <tr>\n",
              "      <th>0</th>\n",
              "      <td>Afghanistan</td>\n",
              "      <td>28</td>\n",
              "      <td>9</td>\n",
              "      <td>20</td>\n",
              "      <td>19</td>\n",
              "      <td>58</td>\n",
              "      <td>63</td>\n",
              "      <td>63</td>\n",
              "      <td>61.98</td>\n",
              "      <td>2.30</td>\n",
              "    </tr>\n",
              "    <tr>\n",
              "      <th>1</th>\n",
              "      <td>Albania</td>\n",
              "      <td>58</td>\n",
              "      <td>43</td>\n",
              "      <td>64</td>\n",
              "      <td>84</td>\n",
              "      <td>55</td>\n",
              "      <td>57</td>\n",
              "      <td>26</td>\n",
              "      <td>76.46</td>\n",
              "      <td>2.04</td>\n",
              "    </tr>\n",
              "    <tr>\n",
              "      <th>2</th>\n",
              "      <td>Algeria</td>\n",
              "      <td>35</td>\n",
              "      <td>24</td>\n",
              "      <td>61</td>\n",
              "      <td>97</td>\n",
              "      <td>78</td>\n",
              "      <td>55</td>\n",
              "      <td>36</td>\n",
              "      <td>76.38</td>\n",
              "      <td>7.23</td>\n",
              "    </tr>\n",
              "    <tr>\n",
              "      <th>3</th>\n",
              "      <td>Angola</td>\n",
              "      <td>27</td>\n",
              "      <td>24</td>\n",
              "      <td>10</td>\n",
              "      <td>55</td>\n",
              "      <td>63</td>\n",
              "      <td>53</td>\n",
              "      <td>31</td>\n",
              "      <td>61.64</td>\n",
              "      <td>25.75</td>\n",
              "    </tr>\n",
              "    <tr>\n",
              "      <th>4</th>\n",
              "      <td>Argentina</td>\n",
              "      <td>41</td>\n",
              "      <td>44</td>\n",
              "      <td>79</td>\n",
              "      <td>78</td>\n",
              "      <td>77</td>\n",
              "      <td>41</td>\n",
              "      <td>38</td>\n",
              "      <td>75.39</td>\n",
              "      <td>NaN</td>\n",
              "    </tr>\n",
              "    <tr>\n",
              "      <th>...</th>\n",
              "      <td>...</td>\n",
              "      <td>...</td>\n",
              "      <td>...</td>\n",
              "      <td>...</td>\n",
              "      <td>...</td>\n",
              "      <td>...</td>\n",
              "      <td>...</td>\n",
              "      <td>...</td>\n",
              "      <td>...</td>\n",
              "      <td>...</td>\n",
              "    </tr>\n",
              "    <tr>\n",
              "      <th>132</th>\n",
              "      <td>United States</td>\n",
              "      <td>63</td>\n",
              "      <td>81</td>\n",
              "      <td>71</td>\n",
              "      <td>85</td>\n",
              "      <td>66</td>\n",
              "      <td>37</td>\n",
              "      <td>67</td>\n",
              "      <td>77.20</td>\n",
              "      <td>4.70</td>\n",
              "    </tr>\n",
              "    <tr>\n",
              "      <th>133</th>\n",
              "      <td>Uruguay</td>\n",
              "      <td>67</td>\n",
              "      <td>79</td>\n",
              "      <td>75</td>\n",
              "      <td>82</td>\n",
              "      <td>77</td>\n",
              "      <td>47</td>\n",
              "      <td>30</td>\n",
              "      <td>75.44</td>\n",
              "      <td>7.75</td>\n",
              "    </tr>\n",
              "    <tr>\n",
              "      <th>134</th>\n",
              "      <td>Vietnam</td>\n",
              "      <td>67</td>\n",
              "      <td>35</td>\n",
              "      <td>54</td>\n",
              "      <td>76</td>\n",
              "      <td>52</td>\n",
              "      <td>51</td>\n",
              "      <td>33</td>\n",
              "      <td>73.62</td>\n",
              "      <td>NaN</td>\n",
              "    </tr>\n",
              "    <tr>\n",
              "      <th>135</th>\n",
              "      <td>Zambia</td>\n",
              "      <td>34</td>\n",
              "      <td>32</td>\n",
              "      <td>18</td>\n",
              "      <td>60</td>\n",
              "      <td>68</td>\n",
              "      <td>58</td>\n",
              "      <td>47</td>\n",
              "      <td>61.22</td>\n",
              "      <td>22.02</td>\n",
              "    </tr>\n",
              "    <tr>\n",
              "      <th>136</th>\n",
              "      <td>Zimbabwe</td>\n",
              "      <td>29</td>\n",
              "      <td>14</td>\n",
              "      <td>13</td>\n",
              "      <td>74</td>\n",
              "      <td>91</td>\n",
              "      <td>37</td>\n",
              "      <td>36</td>\n",
              "      <td>59.25</td>\n",
              "      <td>98.55</td>\n",
              "    </tr>\n",
              "  </tbody>\n",
              "</table>\n",
              "<p>137 rows × 10 columns</p>\n",
              "</div>"
            ],
            "text/plain": [
              "           Country  Stability  Rights  Health  Safety  Climate  Costs  \\\n",
              "0      Afghanistan         28       9      20      19       58     63   \n",
              "1          Albania         58      43      64      84       55     57   \n",
              "2          Algeria         35      24      61      97       78     55   \n",
              "3           Angola         27      24      10      55       63     53   \n",
              "4        Argentina         41      44      79      78       77     41   \n",
              "..             ...        ...     ...     ...     ...      ...    ...   \n",
              "132  United States         63      81      71      85       66     37   \n",
              "133        Uruguay         67      79      75      82       77     47   \n",
              "134        Vietnam         67      35      54      76       52     51   \n",
              "135         Zambia         34      32      18      60       68     58   \n",
              "136       Zimbabwe         29      14      13      74       91     37   \n",
              "\n",
              "     Popularity  Life expectancy  Inflation  \n",
              "0            63            61.98       2.30  \n",
              "1            26            76.46       2.04  \n",
              "2            36            76.38       7.23  \n",
              "3            31            61.64      25.75  \n",
              "4            38            75.39        NaN  \n",
              "..          ...              ...        ...  \n",
              "132          67            77.20       4.70  \n",
              "133          30            75.44       7.75  \n",
              "134          33            73.62        NaN  \n",
              "135          47            61.22      22.02  \n",
              "136          36            59.25      98.55  \n",
              "\n",
              "[137 rows x 10 columns]"
            ]
          },
          "execution_count": 82,
          "metadata": {},
          "output_type": "execute_result"
        }
      ],
      "source": [
        "inflation: pd.DataFrame\n",
        "inflation = inflation[inflation['Year'] <= 2021]\n",
        "inflation = inflation.loc[inflation.groupby('Country')['Year'].idxmax()]\n",
        "\n",
        "inflation = inflation.drop(columns=['Country Code', 'Year'])\n",
        "quality_life = quality_life.merge(inflation, how='left', on='Country')\n",
        "\n",
        "quality_life"
      ]
    },
    {
      "cell_type": "markdown",
      "id": "5a44def9",
      "metadata": {
        "id": "5a44def9"
      },
      "source": [
        "По ВВП берем 2021 год."
      ]
    },
    {
      "cell_type": "code",
      "execution_count": 83,
      "id": "6a26abe4",
      "metadata": {
        "colab": {
          "base_uri": "https://localhost:8080/",
          "height": 423
        },
        "id": "6a26abe4",
        "outputId": "bb3f015d-4873-4bef-99d6-4b9e8b8ae0a2"
      },
      "outputs": [
        {
          "data": {
            "text/html": [
              "<div>\n",
              "<style scoped>\n",
              "    .dataframe tbody tr th:only-of-type {\n",
              "        vertical-align: middle;\n",
              "    }\n",
              "\n",
              "    .dataframe tbody tr th {\n",
              "        vertical-align: top;\n",
              "    }\n",
              "\n",
              "    .dataframe thead th {\n",
              "        text-align: right;\n",
              "    }\n",
              "</style>\n",
              "<table border=\"1\" class=\"dataframe\">\n",
              "  <thead>\n",
              "    <tr style=\"text-align: right;\">\n",
              "      <th></th>\n",
              "      <th>Country</th>\n",
              "      <th>Stability</th>\n",
              "      <th>Rights</th>\n",
              "      <th>Health</th>\n",
              "      <th>Safety</th>\n",
              "      <th>Climate</th>\n",
              "      <th>Costs</th>\n",
              "      <th>Popularity</th>\n",
              "      <th>Life expectancy</th>\n",
              "      <th>Inflation</th>\n",
              "      <th>GDP</th>\n",
              "    </tr>\n",
              "  </thead>\n",
              "  <tbody>\n",
              "    <tr>\n",
              "      <th>0</th>\n",
              "      <td>Afghanistan</td>\n",
              "      <td>28</td>\n",
              "      <td>9</td>\n",
              "      <td>20</td>\n",
              "      <td>19</td>\n",
              "      <td>58</td>\n",
              "      <td>63</td>\n",
              "      <td>63</td>\n",
              "      <td>61.98</td>\n",
              "      <td>2.30</td>\n",
              "      <td>14583135237.00</td>\n",
              "    </tr>\n",
              "    <tr>\n",
              "      <th>1</th>\n",
              "      <td>Albania</td>\n",
              "      <td>58</td>\n",
              "      <td>43</td>\n",
              "      <td>64</td>\n",
              "      <td>84</td>\n",
              "      <td>55</td>\n",
              "      <td>57</td>\n",
              "      <td>26</td>\n",
              "      <td>76.46</td>\n",
              "      <td>2.04</td>\n",
              "      <td>17930565119.00</td>\n",
              "    </tr>\n",
              "    <tr>\n",
              "      <th>2</th>\n",
              "      <td>Algeria</td>\n",
              "      <td>35</td>\n",
              "      <td>24</td>\n",
              "      <td>61</td>\n",
              "      <td>97</td>\n",
              "      <td>78</td>\n",
              "      <td>55</td>\n",
              "      <td>36</td>\n",
              "      <td>76.38</td>\n",
              "      <td>7.23</td>\n",
              "      <td>163472233246.00</td>\n",
              "    </tr>\n",
              "    <tr>\n",
              "      <th>3</th>\n",
              "      <td>Angola</td>\n",
              "      <td>27</td>\n",
              "      <td>24</td>\n",
              "      <td>10</td>\n",
              "      <td>55</td>\n",
              "      <td>63</td>\n",
              "      <td>53</td>\n",
              "      <td>31</td>\n",
              "      <td>61.64</td>\n",
              "      <td>25.75</td>\n",
              "      <td>65685435100.00</td>\n",
              "    </tr>\n",
              "    <tr>\n",
              "      <th>4</th>\n",
              "      <td>Argentina</td>\n",
              "      <td>41</td>\n",
              "      <td>44</td>\n",
              "      <td>79</td>\n",
              "      <td>78</td>\n",
              "      <td>77</td>\n",
              "      <td>41</td>\n",
              "      <td>38</td>\n",
              "      <td>75.39</td>\n",
              "      <td>NaN</td>\n",
              "      <td>487227125386.00</td>\n",
              "    </tr>\n",
              "    <tr>\n",
              "      <th>...</th>\n",
              "      <td>...</td>\n",
              "      <td>...</td>\n",
              "      <td>...</td>\n",
              "      <td>...</td>\n",
              "      <td>...</td>\n",
              "      <td>...</td>\n",
              "      <td>...</td>\n",
              "      <td>...</td>\n",
              "      <td>...</td>\n",
              "      <td>...</td>\n",
              "      <td>...</td>\n",
              "    </tr>\n",
              "    <tr>\n",
              "      <th>132</th>\n",
              "      <td>United States</td>\n",
              "      <td>63</td>\n",
              "      <td>81</td>\n",
              "      <td>71</td>\n",
              "      <td>85</td>\n",
              "      <td>66</td>\n",
              "      <td>37</td>\n",
              "      <td>67</td>\n",
              "      <td>77.20</td>\n",
              "      <td>4.70</td>\n",
              "      <td>23315080560000.00</td>\n",
              "    </tr>\n",
              "    <tr>\n",
              "      <th>133</th>\n",
              "      <td>Uruguay</td>\n",
              "      <td>67</td>\n",
              "      <td>79</td>\n",
              "      <td>75</td>\n",
              "      <td>82</td>\n",
              "      <td>77</td>\n",
              "      <td>47</td>\n",
              "      <td>30</td>\n",
              "      <td>75.44</td>\n",
              "      <td>7.75</td>\n",
              "      <td>61412268249.00</td>\n",
              "    </tr>\n",
              "    <tr>\n",
              "      <th>134</th>\n",
              "      <td>Vietnam</td>\n",
              "      <td>67</td>\n",
              "      <td>35</td>\n",
              "      <td>54</td>\n",
              "      <td>76</td>\n",
              "      <td>52</td>\n",
              "      <td>51</td>\n",
              "      <td>33</td>\n",
              "      <td>73.62</td>\n",
              "      <td>NaN</td>\n",
              "      <td>366137590718.00</td>\n",
              "    </tr>\n",
              "    <tr>\n",
              "      <th>135</th>\n",
              "      <td>Zambia</td>\n",
              "      <td>34</td>\n",
              "      <td>32</td>\n",
              "      <td>18</td>\n",
              "      <td>60</td>\n",
              "      <td>68</td>\n",
              "      <td>58</td>\n",
              "      <td>47</td>\n",
              "      <td>61.22</td>\n",
              "      <td>22.02</td>\n",
              "      <td>22147649569.00</td>\n",
              "    </tr>\n",
              "    <tr>\n",
              "      <th>136</th>\n",
              "      <td>Zimbabwe</td>\n",
              "      <td>29</td>\n",
              "      <td>14</td>\n",
              "      <td>13</td>\n",
              "      <td>74</td>\n",
              "      <td>91</td>\n",
              "      <td>37</td>\n",
              "      <td>36</td>\n",
              "      <td>59.25</td>\n",
              "      <td>98.55</td>\n",
              "      <td>28371238666.00</td>\n",
              "    </tr>\n",
              "  </tbody>\n",
              "</table>\n",
              "<p>137 rows × 11 columns</p>\n",
              "</div>"
            ],
            "text/plain": [
              "           Country  Stability  Rights  Health  Safety  Climate  Costs  \\\n",
              "0      Afghanistan         28       9      20      19       58     63   \n",
              "1          Albania         58      43      64      84       55     57   \n",
              "2          Algeria         35      24      61      97       78     55   \n",
              "3           Angola         27      24      10      55       63     53   \n",
              "4        Argentina         41      44      79      78       77     41   \n",
              "..             ...        ...     ...     ...     ...      ...    ...   \n",
              "132  United States         63      81      71      85       66     37   \n",
              "133        Uruguay         67      79      75      82       77     47   \n",
              "134        Vietnam         67      35      54      76       52     51   \n",
              "135         Zambia         34      32      18      60       68     58   \n",
              "136       Zimbabwe         29      14      13      74       91     37   \n",
              "\n",
              "     Popularity  Life expectancy  Inflation               GDP  \n",
              "0            63            61.98       2.30    14583135237.00  \n",
              "1            26            76.46       2.04    17930565119.00  \n",
              "2            36            76.38       7.23   163472233246.00  \n",
              "3            31            61.64      25.75    65685435100.00  \n",
              "4            38            75.39        NaN   487227125386.00  \n",
              "..          ...              ...        ...               ...  \n",
              "132          67            77.20       4.70 23315080560000.00  \n",
              "133          30            75.44       7.75    61412268249.00  \n",
              "134          33            73.62        NaN   366137590718.00  \n",
              "135          47            61.22      22.02    22147649569.00  \n",
              "136          36            59.25      98.55    28371238666.00  \n",
              "\n",
              "[137 rows x 11 columns]"
            ]
          },
          "execution_count": 83,
          "metadata": {},
          "output_type": "execute_result"
        }
      ],
      "source": [
        "gdp: pd.DataFrame\n",
        "gdp = gdp[['Country', '2021']]\n",
        "gdp = gdp.rename(columns={'2021': 'GDP'})\n",
        "\n",
        "quality_life = quality_life.merge(gdp, how='left', on='Country')\n",
        "\n",
        "quality_life"
      ]
    },
    {
      "cell_type": "markdown",
      "id": "f47c550b",
      "metadata": {
        "id": "f47c550b"
      },
      "source": [
        "По Джини берем последний доступный год. Этот самый год чаще всего лежит в 10-х годах, что является вполне допустимым для целей EDA, так как даже за 10 лет неравенство в стране не может сильно измениться."
      ]
    },
    {
      "cell_type": "code",
      "execution_count": 84,
      "id": "81f9d2b8",
      "metadata": {
        "colab": {
          "base_uri": "https://localhost:8080/",
          "height": 423
        },
        "id": "81f9d2b8",
        "outputId": "09353772-5668-401d-d511-9e1049b602f7"
      },
      "outputs": [
        {
          "data": {
            "text/html": [
              "<div>\n",
              "<style scoped>\n",
              "    .dataframe tbody tr th:only-of-type {\n",
              "        vertical-align: middle;\n",
              "    }\n",
              "\n",
              "    .dataframe tbody tr th {\n",
              "        vertical-align: top;\n",
              "    }\n",
              "\n",
              "    .dataframe thead th {\n",
              "        text-align: right;\n",
              "    }\n",
              "</style>\n",
              "<table border=\"1\" class=\"dataframe\">\n",
              "  <thead>\n",
              "    <tr style=\"text-align: right;\">\n",
              "      <th></th>\n",
              "      <th>Country</th>\n",
              "      <th>Stability</th>\n",
              "      <th>Rights</th>\n",
              "      <th>Health</th>\n",
              "      <th>Safety</th>\n",
              "      <th>Climate</th>\n",
              "      <th>Costs</th>\n",
              "      <th>Popularity</th>\n",
              "      <th>Life expectancy</th>\n",
              "      <th>Inflation</th>\n",
              "      <th>GDP</th>\n",
              "      <th>Gini</th>\n",
              "    </tr>\n",
              "  </thead>\n",
              "  <tbody>\n",
              "    <tr>\n",
              "      <th>0</th>\n",
              "      <td>Afghanistan</td>\n",
              "      <td>28</td>\n",
              "      <td>9</td>\n",
              "      <td>20</td>\n",
              "      <td>19</td>\n",
              "      <td>58</td>\n",
              "      <td>63</td>\n",
              "      <td>63</td>\n",
              "      <td>61.98</td>\n",
              "      <td>2.30</td>\n",
              "      <td>14583135237.00</td>\n",
              "      <td>NaN</td>\n",
              "    </tr>\n",
              "    <tr>\n",
              "      <th>1</th>\n",
              "      <td>Albania</td>\n",
              "      <td>58</td>\n",
              "      <td>43</td>\n",
              "      <td>64</td>\n",
              "      <td>84</td>\n",
              "      <td>55</td>\n",
              "      <td>57</td>\n",
              "      <td>26</td>\n",
              "      <td>76.46</td>\n",
              "      <td>2.04</td>\n",
              "      <td>17930565119.00</td>\n",
              "      <td>0.29</td>\n",
              "    </tr>\n",
              "    <tr>\n",
              "      <th>2</th>\n",
              "      <td>Algeria</td>\n",
              "      <td>35</td>\n",
              "      <td>24</td>\n",
              "      <td>61</td>\n",
              "      <td>97</td>\n",
              "      <td>78</td>\n",
              "      <td>55</td>\n",
              "      <td>36</td>\n",
              "      <td>76.38</td>\n",
              "      <td>7.23</td>\n",
              "      <td>163472233246.00</td>\n",
              "      <td>0.28</td>\n",
              "    </tr>\n",
              "    <tr>\n",
              "      <th>3</th>\n",
              "      <td>Angola</td>\n",
              "      <td>27</td>\n",
              "      <td>24</td>\n",
              "      <td>10</td>\n",
              "      <td>55</td>\n",
              "      <td>63</td>\n",
              "      <td>53</td>\n",
              "      <td>31</td>\n",
              "      <td>61.64</td>\n",
              "      <td>25.75</td>\n",
              "      <td>65685435100.00</td>\n",
              "      <td>0.51</td>\n",
              "    </tr>\n",
              "    <tr>\n",
              "      <th>4</th>\n",
              "      <td>Argentina</td>\n",
              "      <td>41</td>\n",
              "      <td>44</td>\n",
              "      <td>79</td>\n",
              "      <td>78</td>\n",
              "      <td>77</td>\n",
              "      <td>41</td>\n",
              "      <td>38</td>\n",
              "      <td>75.39</td>\n",
              "      <td>NaN</td>\n",
              "      <td>487227125386.00</td>\n",
              "      <td>NaN</td>\n",
              "    </tr>\n",
              "    <tr>\n",
              "      <th>...</th>\n",
              "      <td>...</td>\n",
              "      <td>...</td>\n",
              "      <td>...</td>\n",
              "      <td>...</td>\n",
              "      <td>...</td>\n",
              "      <td>...</td>\n",
              "      <td>...</td>\n",
              "      <td>...</td>\n",
              "      <td>...</td>\n",
              "      <td>...</td>\n",
              "      <td>...</td>\n",
              "      <td>...</td>\n",
              "    </tr>\n",
              "    <tr>\n",
              "      <th>132</th>\n",
              "      <td>United States</td>\n",
              "      <td>63</td>\n",
              "      <td>81</td>\n",
              "      <td>71</td>\n",
              "      <td>85</td>\n",
              "      <td>66</td>\n",
              "      <td>37</td>\n",
              "      <td>67</td>\n",
              "      <td>77.20</td>\n",
              "      <td>4.70</td>\n",
              "      <td>23315080560000.00</td>\n",
              "      <td>0.41</td>\n",
              "    </tr>\n",
              "    <tr>\n",
              "      <th>133</th>\n",
              "      <td>Uruguay</td>\n",
              "      <td>67</td>\n",
              "      <td>79</td>\n",
              "      <td>75</td>\n",
              "      <td>82</td>\n",
              "      <td>77</td>\n",
              "      <td>47</td>\n",
              "      <td>30</td>\n",
              "      <td>75.44</td>\n",
              "      <td>7.75</td>\n",
              "      <td>61412268249.00</td>\n",
              "      <td>0.41</td>\n",
              "    </tr>\n",
              "    <tr>\n",
              "      <th>134</th>\n",
              "      <td>Vietnam</td>\n",
              "      <td>67</td>\n",
              "      <td>35</td>\n",
              "      <td>54</td>\n",
              "      <td>76</td>\n",
              "      <td>52</td>\n",
              "      <td>51</td>\n",
              "      <td>33</td>\n",
              "      <td>73.62</td>\n",
              "      <td>NaN</td>\n",
              "      <td>366137590718.00</td>\n",
              "      <td>0.36</td>\n",
              "    </tr>\n",
              "    <tr>\n",
              "      <th>135</th>\n",
              "      <td>Zambia</td>\n",
              "      <td>34</td>\n",
              "      <td>32</td>\n",
              "      <td>18</td>\n",
              "      <td>60</td>\n",
              "      <td>68</td>\n",
              "      <td>58</td>\n",
              "      <td>47</td>\n",
              "      <td>61.22</td>\n",
              "      <td>22.02</td>\n",
              "      <td>22147649569.00</td>\n",
              "      <td>0.51</td>\n",
              "    </tr>\n",
              "    <tr>\n",
              "      <th>136</th>\n",
              "      <td>Zimbabwe</td>\n",
              "      <td>29</td>\n",
              "      <td>14</td>\n",
              "      <td>13</td>\n",
              "      <td>74</td>\n",
              "      <td>91</td>\n",
              "      <td>37</td>\n",
              "      <td>36</td>\n",
              "      <td>59.25</td>\n",
              "      <td>98.55</td>\n",
              "      <td>28371238666.00</td>\n",
              "      <td>0.50</td>\n",
              "    </tr>\n",
              "  </tbody>\n",
              "</table>\n",
              "<p>137 rows × 12 columns</p>\n",
              "</div>"
            ],
            "text/plain": [
              "           Country  Stability  Rights  Health  Safety  Climate  Costs  \\\n",
              "0      Afghanistan         28       9      20      19       58     63   \n",
              "1          Albania         58      43      64      84       55     57   \n",
              "2          Algeria         35      24      61      97       78     55   \n",
              "3           Angola         27      24      10      55       63     53   \n",
              "4        Argentina         41      44      79      78       77     41   \n",
              "..             ...        ...     ...     ...     ...      ...    ...   \n",
              "132  United States         63      81      71      85       66     37   \n",
              "133        Uruguay         67      79      75      82       77     47   \n",
              "134        Vietnam         67      35      54      76       52     51   \n",
              "135         Zambia         34      32      18      60       68     58   \n",
              "136       Zimbabwe         29      14      13      74       91     37   \n",
              "\n",
              "     Popularity  Life expectancy  Inflation               GDP  Gini  \n",
              "0            63            61.98       2.30    14583135237.00   NaN  \n",
              "1            26            76.46       2.04    17930565119.00  0.29  \n",
              "2            36            76.38       7.23   163472233246.00  0.28  \n",
              "3            31            61.64      25.75    65685435100.00  0.51  \n",
              "4            38            75.39        NaN   487227125386.00   NaN  \n",
              "..          ...              ...        ...               ...   ...  \n",
              "132          67            77.20       4.70 23315080560000.00  0.41  \n",
              "133          30            75.44       7.75    61412268249.00  0.41  \n",
              "134          33            73.62        NaN   366137590718.00  0.36  \n",
              "135          47            61.22      22.02    22147649569.00  0.51  \n",
              "136          36            59.25      98.55    28371238666.00  0.50  \n",
              "\n",
              "[137 rows x 12 columns]"
            ]
          },
          "execution_count": 84,
          "metadata": {},
          "output_type": "execute_result"
        }
      ],
      "source": [
        "gini: pd.DataFrame\n",
        "gini = gini.loc[gini.groupby('Country')['Year'].idxmax()]\n",
        "gini = gini.drop(columns=['Year'])\n",
        "gini = gini.rename(columns={\n",
        "    'Gini coefficient': 'Gini'\n",
        "})\n",
        "\n",
        "quality_life = quality_life.merge(gini, how='left', on='Country')\n",
        "\n",
        "quality_life"
      ]
    },
    {
      "cell_type": "markdown",
      "id": "225e1870",
      "metadata": {
        "id": "225e1870"
      },
      "source": [
        "И напоследок, присоединим данные по образованию, берем данные по последнему году(2020 в основном).\n"
      ]
    },
    {
      "cell_type": "code",
      "execution_count": 85,
      "id": "ef6f7122",
      "metadata": {
        "colab": {
          "base_uri": "https://localhost:8080/",
          "height": 458
        },
        "id": "ef6f7122",
        "outputId": "905ade1b-0b08-4e34-f3e5-8866db8febb5"
      },
      "outputs": [
        {
          "data": {
            "text/html": [
              "<div>\n",
              "<style scoped>\n",
              "    .dataframe tbody tr th:only-of-type {\n",
              "        vertical-align: middle;\n",
              "    }\n",
              "\n",
              "    .dataframe tbody tr th {\n",
              "        vertical-align: top;\n",
              "    }\n",
              "\n",
              "    .dataframe thead th {\n",
              "        text-align: right;\n",
              "    }\n",
              "</style>\n",
              "<table border=\"1\" class=\"dataframe\">\n",
              "  <thead>\n",
              "    <tr style=\"text-align: right;\">\n",
              "      <th></th>\n",
              "      <th>Country</th>\n",
              "      <th>Stability</th>\n",
              "      <th>Rights</th>\n",
              "      <th>Health</th>\n",
              "      <th>Safety</th>\n",
              "      <th>Climate</th>\n",
              "      <th>Costs</th>\n",
              "      <th>Popularity</th>\n",
              "      <th>Life expectancy</th>\n",
              "      <th>Inflation</th>\n",
              "      <th>GDP</th>\n",
              "      <th>Gini</th>\n",
              "      <th>Education level</th>\n",
              "    </tr>\n",
              "  </thead>\n",
              "  <tbody>\n",
              "    <tr>\n",
              "      <th>0</th>\n",
              "      <td>Afghanistan</td>\n",
              "      <td>28</td>\n",
              "      <td>9</td>\n",
              "      <td>20</td>\n",
              "      <td>19</td>\n",
              "      <td>58</td>\n",
              "      <td>63</td>\n",
              "      <td>63</td>\n",
              "      <td>61.98</td>\n",
              "      <td>2.30</td>\n",
              "      <td>14583135237.00</td>\n",
              "      <td>NaN</td>\n",
              "      <td>NaN</td>\n",
              "    </tr>\n",
              "    <tr>\n",
              "      <th>1</th>\n",
              "      <td>Albania</td>\n",
              "      <td>58</td>\n",
              "      <td>43</td>\n",
              "      <td>64</td>\n",
              "      <td>84</td>\n",
              "      <td>55</td>\n",
              "      <td>57</td>\n",
              "      <td>26</td>\n",
              "      <td>76.46</td>\n",
              "      <td>2.04</td>\n",
              "      <td>17930565119.00</td>\n",
              "      <td>0.29</td>\n",
              "      <td>99.00</td>\n",
              "    </tr>\n",
              "    <tr>\n",
              "      <th>2</th>\n",
              "      <td>Algeria</td>\n",
              "      <td>35</td>\n",
              "      <td>24</td>\n",
              "      <td>61</td>\n",
              "      <td>97</td>\n",
              "      <td>78</td>\n",
              "      <td>55</td>\n",
              "      <td>36</td>\n",
              "      <td>76.38</td>\n",
              "      <td>7.23</td>\n",
              "      <td>163472233246.00</td>\n",
              "      <td>0.28</td>\n",
              "      <td>87.00</td>\n",
              "    </tr>\n",
              "    <tr>\n",
              "      <th>3</th>\n",
              "      <td>Angola</td>\n",
              "      <td>27</td>\n",
              "      <td>24</td>\n",
              "      <td>10</td>\n",
              "      <td>55</td>\n",
              "      <td>63</td>\n",
              "      <td>53</td>\n",
              "      <td>31</td>\n",
              "      <td>61.64</td>\n",
              "      <td>25.75</td>\n",
              "      <td>65685435100.00</td>\n",
              "      <td>0.51</td>\n",
              "      <td>NaN</td>\n",
              "    </tr>\n",
              "    <tr>\n",
              "      <th>4</th>\n",
              "      <td>Argentina</td>\n",
              "      <td>41</td>\n",
              "      <td>44</td>\n",
              "      <td>79</td>\n",
              "      <td>78</td>\n",
              "      <td>77</td>\n",
              "      <td>41</td>\n",
              "      <td>38</td>\n",
              "      <td>75.39</td>\n",
              "      <td>NaN</td>\n",
              "      <td>487227125386.00</td>\n",
              "      <td>NaN</td>\n",
              "      <td>98.00</td>\n",
              "    </tr>\n",
              "    <tr>\n",
              "      <th>...</th>\n",
              "      <td>...</td>\n",
              "      <td>...</td>\n",
              "      <td>...</td>\n",
              "      <td>...</td>\n",
              "      <td>...</td>\n",
              "      <td>...</td>\n",
              "      <td>...</td>\n",
              "      <td>...</td>\n",
              "      <td>...</td>\n",
              "      <td>...</td>\n",
              "      <td>...</td>\n",
              "      <td>...</td>\n",
              "      <td>...</td>\n",
              "    </tr>\n",
              "    <tr>\n",
              "      <th>132</th>\n",
              "      <td>United States</td>\n",
              "      <td>63</td>\n",
              "      <td>81</td>\n",
              "      <td>71</td>\n",
              "      <td>85</td>\n",
              "      <td>66</td>\n",
              "      <td>37</td>\n",
              "      <td>67</td>\n",
              "      <td>77.20</td>\n",
              "      <td>4.70</td>\n",
              "      <td>23315080560000.00</td>\n",
              "      <td>0.41</td>\n",
              "      <td>100.00</td>\n",
              "    </tr>\n",
              "    <tr>\n",
              "      <th>133</th>\n",
              "      <td>Uruguay</td>\n",
              "      <td>67</td>\n",
              "      <td>79</td>\n",
              "      <td>75</td>\n",
              "      <td>82</td>\n",
              "      <td>77</td>\n",
              "      <td>47</td>\n",
              "      <td>30</td>\n",
              "      <td>75.44</td>\n",
              "      <td>7.75</td>\n",
              "      <td>61412268249.00</td>\n",
              "      <td>0.41</td>\n",
              "      <td>99.00</td>\n",
              "    </tr>\n",
              "    <tr>\n",
              "      <th>134</th>\n",
              "      <td>Vietnam</td>\n",
              "      <td>67</td>\n",
              "      <td>35</td>\n",
              "      <td>54</td>\n",
              "      <td>76</td>\n",
              "      <td>52</td>\n",
              "      <td>51</td>\n",
              "      <td>33</td>\n",
              "      <td>73.62</td>\n",
              "      <td>NaN</td>\n",
              "      <td>366137590718.00</td>\n",
              "      <td>0.36</td>\n",
              "      <td>95.00</td>\n",
              "    </tr>\n",
              "    <tr>\n",
              "      <th>135</th>\n",
              "      <td>Zambia</td>\n",
              "      <td>34</td>\n",
              "      <td>32</td>\n",
              "      <td>18</td>\n",
              "      <td>60</td>\n",
              "      <td>68</td>\n",
              "      <td>58</td>\n",
              "      <td>47</td>\n",
              "      <td>61.22</td>\n",
              "      <td>22.02</td>\n",
              "      <td>22147649569.00</td>\n",
              "      <td>0.51</td>\n",
              "      <td>95.00</td>\n",
              "    </tr>\n",
              "    <tr>\n",
              "      <th>136</th>\n",
              "      <td>Zimbabwe</td>\n",
              "      <td>29</td>\n",
              "      <td>14</td>\n",
              "      <td>13</td>\n",
              "      <td>74</td>\n",
              "      <td>91</td>\n",
              "      <td>37</td>\n",
              "      <td>36</td>\n",
              "      <td>59.25</td>\n",
              "      <td>98.55</td>\n",
              "      <td>28371238666.00</td>\n",
              "      <td>0.50</td>\n",
              "      <td>97.00</td>\n",
              "    </tr>\n",
              "  </tbody>\n",
              "</table>\n",
              "<p>137 rows × 13 columns</p>\n",
              "</div>"
            ],
            "text/plain": [
              "           Country  Stability  Rights  Health  Safety  Climate  Costs  \\\n",
              "0      Afghanistan         28       9      20      19       58     63   \n",
              "1          Albania         58      43      64      84       55     57   \n",
              "2          Algeria         35      24      61      97       78     55   \n",
              "3           Angola         27      24      10      55       63     53   \n",
              "4        Argentina         41      44      79      78       77     41   \n",
              "..             ...        ...     ...     ...     ...      ...    ...   \n",
              "132  United States         63      81      71      85       66     37   \n",
              "133        Uruguay         67      79      75      82       77     47   \n",
              "134        Vietnam         67      35      54      76       52     51   \n",
              "135         Zambia         34      32      18      60       68     58   \n",
              "136       Zimbabwe         29      14      13      74       91     37   \n",
              "\n",
              "     Popularity  Life expectancy  Inflation               GDP  Gini  \\\n",
              "0            63            61.98       2.30    14583135237.00   NaN   \n",
              "1            26            76.46       2.04    17930565119.00  0.29   \n",
              "2            36            76.38       7.23   163472233246.00  0.28   \n",
              "3            31            61.64      25.75    65685435100.00  0.51   \n",
              "4            38            75.39        NaN   487227125386.00   NaN   \n",
              "..          ...              ...        ...               ...   ...   \n",
              "132          67            77.20       4.70 23315080560000.00  0.41   \n",
              "133          30            75.44       7.75    61412268249.00  0.41   \n",
              "134          33            73.62        NaN   366137590718.00  0.36   \n",
              "135          47            61.22      22.02    22147649569.00  0.51   \n",
              "136          36            59.25      98.55    28371238666.00  0.50   \n",
              "\n",
              "     Education level  \n",
              "0                NaN  \n",
              "1              99.00  \n",
              "2              87.00  \n",
              "3                NaN  \n",
              "4              98.00  \n",
              "..               ...  \n",
              "132           100.00  \n",
              "133            99.00  \n",
              "134            95.00  \n",
              "135            95.00  \n",
              "136            97.00  \n",
              "\n",
              "[137 rows x 13 columns]"
            ]
          },
          "execution_count": 85,
          "metadata": {},
          "output_type": "execute_result"
        }
      ],
      "source": [
        "education: pd.DataFrame\n",
        "education = education.loc[education.groupby('Entity')['Year'].idxmax()]\n",
        "education = education.drop(columns=['Code',\n",
        "                                    'Share of population with no formal education, 1820-2020',\n",
        "                                    'Year'])\n",
        "education = education.rename(columns={\n",
        "    'Share of population with some formal education, 1820-2020': 'Education level',\n",
        "    'Entity': 'Country'\n",
        "})\n",
        "\n",
        "quality_life = quality_life.merge(education, how='left', on='Country')\n",
        "\n",
        "quality_life"
      ]
    },
    {
      "cell_type": "markdown",
      "id": "d965436f",
      "metadata": {
        "id": "d965436f"
      },
      "source": [
        "## **Предобработка данных**\n",
        "\n",
        "На мой взгляд, в нашем случае частичная предобработка была еще на этапе соединения датасетов, поэтому не стоит пренебрегать чтением предыдущего раздела)\n",
        "\n",
        "Давайте посмотрим на основные характеристики итогового датасета."
      ]
    },
    {
      "cell_type": "code",
      "execution_count": 86,
      "id": "cb136637",
      "metadata": {
        "colab": {
          "base_uri": "https://localhost:8080/"
        },
        "id": "cb136637",
        "outputId": "1a55d9a4-6ebe-4e3f-8bd5-4ef079173be3"
      },
      "outputs": [
        {
          "name": "stdout",
          "output_type": "stream",
          "text": [
            "<class 'pandas.core.frame.DataFrame'>\n",
            "RangeIndex: 137 entries, 0 to 136\n",
            "Data columns (total 13 columns):\n",
            " #   Column           Non-Null Count  Dtype  \n",
            "---  ------           --------------  -----  \n",
            " 0   Country          137 non-null    object \n",
            " 1   Stability        137 non-null    int64  \n",
            " 2   Rights           137 non-null    int64  \n",
            " 3   Health           137 non-null    int64  \n",
            " 4   Safety           137 non-null    int64  \n",
            " 5   Climate          137 non-null    int64  \n",
            " 6   Costs            137 non-null    int64  \n",
            " 7   Popularity       137 non-null    int64  \n",
            " 8   Life expectancy  133 non-null    float64\n",
            " 9   Inflation        120 non-null    float64\n",
            " 10  GDP              123 non-null    float64\n",
            " 11  Gini             120 non-null    float64\n",
            " 12  Education level  126 non-null    float64\n",
            "dtypes: float64(5), int64(7), object(1)\n",
            "memory usage: 14.0+ KB\n"
          ]
        }
      ],
      "source": [
        "quality_life.info()"
      ]
    },
    {
      "cell_type": "markdown",
      "id": "349d6cd2",
      "metadata": {
        "id": "349d6cd2"
      },
      "source": [
        "Из хорошего: все данные правильного типа, числовые - числового, буквенные - object. Стоит заметить, что все float округлены до двух знаков после запятой, чтобы не захламлять табличку, не сильно уменьшая точность расчетов."
      ]
    },
    {
      "cell_type": "markdown",
      "id": "f85fa0ce",
      "metadata": {
        "id": "f85fa0ce"
      },
      "source": [
        "Из плохого: довольно много пропусков, с которыми надо бороться. Давайте чуть пристальнее на них поглядим."
      ]
    },
    {
      "cell_type": "code",
      "execution_count": 87,
      "id": "d2e374a2",
      "metadata": {
        "colab": {
          "base_uri": "https://localhost:8080/",
          "height": 209
        },
        "id": "d2e374a2",
        "outputId": "9dd887d4-6cb4-47f8-84c7-973475a08bab"
      },
      "outputs": [
        {
          "data": {
            "text/html": [
              "<div>\n",
              "<style scoped>\n",
              "    .dataframe tbody tr th:only-of-type {\n",
              "        vertical-align: middle;\n",
              "    }\n",
              "\n",
              "    .dataframe tbody tr th {\n",
              "        vertical-align: top;\n",
              "    }\n",
              "\n",
              "    .dataframe thead th {\n",
              "        text-align: right;\n",
              "    }\n",
              "</style>\n",
              "<table border=\"1\" class=\"dataframe\">\n",
              "  <thead>\n",
              "    <tr style=\"text-align: right;\">\n",
              "      <th></th>\n",
              "      <th>Country</th>\n",
              "      <th>Stability</th>\n",
              "      <th>Rights</th>\n",
              "      <th>Health</th>\n",
              "      <th>Safety</th>\n",
              "      <th>Climate</th>\n",
              "      <th>Costs</th>\n",
              "      <th>Popularity</th>\n",
              "      <th>Life expectancy</th>\n",
              "      <th>Inflation</th>\n",
              "      <th>GDP</th>\n",
              "      <th>Gini</th>\n",
              "      <th>Education level</th>\n",
              "    </tr>\n",
              "  </thead>\n",
              "  <tbody>\n",
              "    <tr>\n",
              "      <th>18</th>\n",
              "      <td>Burma</td>\n",
              "      <td>31</td>\n",
              "      <td>24</td>\n",
              "      <td>32</td>\n",
              "      <td>63</td>\n",
              "      <td>50</td>\n",
              "      <td>73</td>\n",
              "      <td>33</td>\n",
              "      <td>NaN</td>\n",
              "      <td>NaN</td>\n",
              "      <td>NaN</td>\n",
              "      <td>NaN</td>\n",
              "      <td>NaN</td>\n",
              "    </tr>\n",
              "    <tr>\n",
              "      <th>27</th>\n",
              "      <td>Congo (Dem. Republic)</td>\n",
              "      <td>32</td>\n",
              "      <td>7</td>\n",
              "      <td>6</td>\n",
              "      <td>10</td>\n",
              "      <td>54</td>\n",
              "      <td>60</td>\n",
              "      <td>36</td>\n",
              "      <td>NaN</td>\n",
              "      <td>NaN</td>\n",
              "      <td>NaN</td>\n",
              "      <td>NaN</td>\n",
              "      <td>NaN</td>\n",
              "    </tr>\n",
              "    <tr>\n",
              "      <th>59</th>\n",
              "      <td>Ivory Coast</td>\n",
              "      <td>47</td>\n",
              "      <td>36</td>\n",
              "      <td>11</td>\n",
              "      <td>58</td>\n",
              "      <td>52</td>\n",
              "      <td>57</td>\n",
              "      <td>37</td>\n",
              "      <td>NaN</td>\n",
              "      <td>NaN</td>\n",
              "      <td>NaN</td>\n",
              "      <td>NaN</td>\n",
              "      <td>NaN</td>\n",
              "    </tr>\n",
              "    <tr>\n",
              "      <th>123</th>\n",
              "      <td>Timor-Leste</td>\n",
              "      <td>65</td>\n",
              "      <td>37</td>\n",
              "      <td>42</td>\n",
              "      <td>42</td>\n",
              "      <td>72</td>\n",
              "      <td>67</td>\n",
              "      <td>23</td>\n",
              "      <td>NaN</td>\n",
              "      <td>3.70</td>\n",
              "      <td>3621222400.00</td>\n",
              "      <td>NaN</td>\n",
              "      <td>NaN</td>\n",
              "    </tr>\n",
              "  </tbody>\n",
              "</table>\n",
              "</div>"
            ],
            "text/plain": [
              "                   Country  Stability  Rights  Health  Safety  Climate  Costs  \\\n",
              "18                   Burma         31      24      32      63       50     73   \n",
              "27   Congo (Dem. Republic)         32       7       6      10       54     60   \n",
              "59             Ivory Coast         47      36      11      58       52     57   \n",
              "123            Timor-Leste         65      37      42      42       72     67   \n",
              "\n",
              "     Popularity  Life expectancy  Inflation           GDP  Gini  \\\n",
              "18           33              NaN        NaN           NaN   NaN   \n",
              "27           36              NaN        NaN           NaN   NaN   \n",
              "59           37              NaN        NaN           NaN   NaN   \n",
              "123          23              NaN       3.70 3621222400.00   NaN   \n",
              "\n",
              "     Education level  \n",
              "18               NaN  \n",
              "27               NaN  \n",
              "59               NaN  \n",
              "123              NaN  "
            ]
          },
          "execution_count": 87,
          "metadata": {},
          "output_type": "execute_result"
        }
      ],
      "source": [
        "quality_life[quality_life['Life expectancy'].isna()]"
      ]
    },
    {
      "cell_type": "markdown",
      "id": "f4b3fc82",
      "metadata": {
        "id": "f4b3fc82"
      },
      "source": [
        "Что делать с такими пропусками? На наш взгляд, применять любое усреднение продолжительности жизни неэффективно - это показатель, который мы анализируем, поэтому он должен быть точным. Зато есть интернет, с помощью которого можно легко достать недостающие данные. Это немножко запарно, зато максимально эффективно:)\n",
        "\n",
        "Также не поленюсь, и заполню другие пропуски тоже ручками, инфа важная, хоть и лень очень:("
      ]
    },
    {
      "cell_type": "code",
      "execution_count": 88,
      "id": "0d95597f",
      "metadata": {
        "id": "0d95597f"
      },
      "outputs": [],
      "source": [
        "# Burma\n",
        "quality_life.at[18, 'GDP'] = 65000000000.00\n",
        "quality_life.at[18, 'Life expectancy'] = 69.10\n",
        "quality_life.at[18, 'Gini'] = 0.31\n",
        "quality_life.at[18, 'Education level'] = 93.10\n",
        "quality_life.at[18, 'Inflation'] = 21.40\n",
        "\n",
        "# Congo\n",
        "quality_life.at[27, 'GDP'] = 14830000000.00\n",
        "quality_life.at[27, 'Life expectancy'] = 63.50\n",
        "quality_life.at[27, 'Gini'] = 0.49\n",
        "quality_life.at[27, 'Education level'] = 80.60\n",
        "quality_life.at[27, 'Inflation'] = 19.00\n",
        "\n",
        "# Ivory Coast\n",
        "quality_life.at[59, 'GDP'] = 14830000000.00\n",
        "quality_life.at[59, 'Life expectancy'] = 61.90\n",
        "quality_life.at[59, 'Gini'] = 0.35\n",
        "quality_life.at[59, 'Education level'] = 93.60\n",
        "quality_life.at[59, 'Inflation'] = 17.40\n",
        "\n",
        "# Timor-Leste\n",
        "quality_life.at[123, 'GDP'] = 2080000000.00\n",
        "quality_life.at[123, 'Life expectancy'] = 67.00\n",
        "quality_life.at[123, 'Gini'] = 0.28\n",
        "quality_life.at[123, 'Education level'] = 68.10\n",
        "quality_life.at[123, 'Inflation'] = 6.10\n",
        "\n",
        "# Egypt\n",
        "quality_life.at[35, 'GDP'] = 404140000000.00\n",
        "quality_life.at[35, 'Inflation'] = 13.89\n",
        "\n",
        "# Gambia\n",
        "quality_life.at[42, 'GDP'] = 2014000000.00\n",
        "quality_life.at[42, 'Inflation'] = 7.37\n",
        "\n",
        "# Hong Kong\n",
        "quality_life.at[49, 'GDP'] = 368130000000.00\n",
        "quality_life.at[49, 'Inflation'] = 1.57\n",
        "quality_life.at[49, 'Gini'] = 0.35\n",
        "\n",
        "# Iran\n",
        "quality_life.at[54, 'GDP'] = 359100000000.00\n",
        "quality_life.at[54, 'Inflation'] = 43.38\n",
        "\n",
        "# Kyrgyztan\n",
        "quality_life.at[66, 'GDP'] = 9350000000.00\n",
        "quality_life.at[66, 'Inflation'] = 11.90\n",
        "\n",
        "# Laos\n",
        "quality_life.at[67, 'GDP'] = 18827000000.00\n",
        "quality_life.at[67, 'Inflation'] = 3.75\n",
        "\n",
        "# Macao\n",
        "quality_life.at[73, 'GDP'] = 30500000000.00\n",
        "quality_life.at[73, 'Inflation'] = 0.30\n",
        "quality_life.at[73, 'Gini'] = 0.35\n",
        "\n",
        "# Russia\n",
        "quality_life.at[101, 'GDP'] = 1840000000000.00\n",
        "quality_life.at[101, 'Inflation'] = 8.39\n",
        "\n",
        "# Slovakia\n",
        "quality_life.at[110, 'GDP'] = 115000000000.00\n",
        "quality_life.at[110, 'Inflation'] = 3.15\n",
        "\n",
        "# South Korea\n",
        "quality_life.at[113, 'GDP'] = 2514520000000.00\n",
        "quality_life.at[113, 'Inflation'] = 2.49\n",
        "\n",
        "# South Korea\n",
        "quality_life.at[127, 'GDP'] = 819865000000.00\n",
        "quality_life.at[127, 'Inflation'] = 19.59\n",
        "\n",
        "# Afghanistan\n",
        "quality_life.at[0, 'Gini'] = 0.41\n",
        "quality_life.at[0, 'Education level'] = 37.30\n",
        "\n",
        "# Argentina\n",
        "quality_life.at[4, 'Gini'] = 0.42\n",
        "quality_life.at[4, 'Inflation'] = 50.94\n",
        "\n",
        "# Bermuda\n",
        "quality_life.at[13, 'Inflation'] = 3.00\n",
        "quality_life.at[13, 'Education level'] = 77.70\n",
        "\n",
        "# San Marino\n",
        "quality_life.at[104, 'Education level'] = 100.00\n",
        "\n",
        "# Oman\n",
        "quality_life.at[92, 'Education level'] = 94.86\n",
        "\n",
        "# Angola\n",
        "quality_life.at[3, 'Education level'] = 72.40\n",
        "\n",
        "# Sri Lanka\n",
        "quality_life.at[115, 'Education level'] = 92.00\n",
        "\n",
        "# Angola\n",
        "quality_life.at[124, 'Education level'] = 67.00\n",
        "\n",
        "# Vietnam\n",
        "quality_life.at[134, 'Inflation'] = 1.84"
      ]
    },
    {
      "cell_type": "markdown",
      "id": "863d487d",
      "metadata": {
        "id": "863d487d"
      },
      "source": [
        "По Бахрейну, Бермудах, Камбодже, Кувейту, Новой Зеландии, Оману, Сан-Марино, Саудовской Аравии, Сингапуру данных по индексу Джини нет, поэтому заполним данные поля средним значением, так как получить лучшее приближение не представляется возможным, а из-за большого объема выборки на итоговый результат это сильно не повлияет."
      ]
    },
    {
      "cell_type": "code",
      "execution_count": 89,
      "id": "e3c056aa",
      "metadata": {
        "id": "e3c056aa"
      },
      "outputs": [],
      "source": [
        "quality_life['Gini'] = quality_life['Gini'].fillna(quality_life['Gini'].mean())"
      ]
    },
    {
      "cell_type": "markdown",
      "id": "be1341fc",
      "metadata": {
        "id": "be1341fc"
      },
      "source": [
        "Теперь приведем данные в вид, комфортный для анализа.\n",
        "\n",
        "Во-первых, разделим на миллион ВВП, чтобы считать его в млн долларов(запись будет короче и комфортнее).\n",
        "\n",
        "Во-вторых, умножим к/ф Джини на 100, чтобы считать его в более удобном виде в процентах."
      ]
    },
    {
      "cell_type": "code",
      "execution_count": 90,
      "id": "07796551",
      "metadata": {
        "id": "07796551"
      },
      "outputs": [],
      "source": [
        "quality_life['Gini'] = quality_life['Gini'] * 100\n",
        "quality_life['GDP'] = quality_life['GDP'] / 1000000"
      ]
    },
    {
      "cell_type": "markdown",
      "id": "bc5e5eb2",
      "metadata": {
        "id": "bc5e5eb2"
      },
      "source": [
        "Посмотрим на описание данных и со спокойной душой перейдем к следующему разделу:)"
      ]
    },
    {
      "cell_type": "code",
      "execution_count": 91,
      "id": "bdcc476e",
      "metadata": {
        "colab": {
          "base_uri": "https://localhost:8080/",
          "height": 300
        },
        "id": "bdcc476e",
        "outputId": "aa1ac366-7950-4bec-d0a3-7282e6de7945"
      },
      "outputs": [
        {
          "data": {
            "text/html": [
              "<div>\n",
              "<style scoped>\n",
              "    .dataframe tbody tr th:only-of-type {\n",
              "        vertical-align: middle;\n",
              "    }\n",
              "\n",
              "    .dataframe tbody tr th {\n",
              "        vertical-align: top;\n",
              "    }\n",
              "\n",
              "    .dataframe thead th {\n",
              "        text-align: right;\n",
              "    }\n",
              "</style>\n",
              "<table border=\"1\" class=\"dataframe\">\n",
              "  <thead>\n",
              "    <tr style=\"text-align: right;\">\n",
              "      <th></th>\n",
              "      <th>Stability</th>\n",
              "      <th>Rights</th>\n",
              "      <th>Health</th>\n",
              "      <th>Safety</th>\n",
              "      <th>Climate</th>\n",
              "      <th>Costs</th>\n",
              "      <th>Popularity</th>\n",
              "      <th>Life expectancy</th>\n",
              "      <th>Inflation</th>\n",
              "      <th>GDP</th>\n",
              "      <th>Gini</th>\n",
              "      <th>Education level</th>\n",
              "    </tr>\n",
              "  </thead>\n",
              "  <tbody>\n",
              "    <tr>\n",
              "      <th>count</th>\n",
              "      <td>137.00</td>\n",
              "      <td>137.00</td>\n",
              "      <td>137.00</td>\n",
              "      <td>137.00</td>\n",
              "      <td>137.00</td>\n",
              "      <td>137.00</td>\n",
              "      <td>137.00</td>\n",
              "      <td>137.00</td>\n",
              "      <td>137.00</td>\n",
              "      <td>137.00</td>\n",
              "      <td>137.00</td>\n",
              "      <td>137.00</td>\n",
              "    </tr>\n",
              "    <tr>\n",
              "      <th>mean</th>\n",
              "      <td>57.58</td>\n",
              "      <td>50.69</td>\n",
              "      <td>58.12</td>\n",
              "      <td>76.78</td>\n",
              "      <td>53.23</td>\n",
              "      <td>52.34</td>\n",
              "      <td>37.98</td>\n",
              "      <td>73.04</td>\n",
              "      <td>10.41</td>\n",
              "      <td>696484.41</td>\n",
              "      <td>35.94</td>\n",
              "      <td>90.84</td>\n",
              "    </tr>\n",
              "    <tr>\n",
              "      <th>std</th>\n",
              "      <td>19.33</td>\n",
              "      <td>25.14</td>\n",
              "      <td>26.09</td>\n",
              "      <td>21.79</td>\n",
              "      <td>19.96</td>\n",
              "      <td>11.61</td>\n",
              "      <td>12.05</td>\n",
              "      <td>7.52</td>\n",
              "      <td>34.55</td>\n",
              "      <td>2577649.55</td>\n",
              "      <td>6.87</td>\n",
              "      <td>13.57</td>\n",
              "    </tr>\n",
              "    <tr>\n",
              "      <th>min</th>\n",
              "      <td>8.00</td>\n",
              "      <td>7.00</td>\n",
              "      <td>0.00</td>\n",
              "      <td>4.00</td>\n",
              "      <td>2.00</td>\n",
              "      <td>23.00</td>\n",
              "      <td>11.00</td>\n",
              "      <td>52.53</td>\n",
              "      <td>-0.77</td>\n",
              "      <td>843.85</td>\n",
              "      <td>24.11</td>\n",
              "      <td>37.30</td>\n",
              "    </tr>\n",
              "    <tr>\n",
              "      <th>25%</th>\n",
              "      <td>46.00</td>\n",
              "      <td>32.00</td>\n",
              "      <td>42.00</td>\n",
              "      <td>69.00</td>\n",
              "      <td>42.00</td>\n",
              "      <td>44.00</td>\n",
              "      <td>31.00</td>\n",
              "      <td>68.85</td>\n",
              "      <td>2.19</td>\n",
              "      <td>23131.94</td>\n",
              "      <td>31.50</td>\n",
              "      <td>88.00</td>\n",
              "    </tr>\n",
              "    <tr>\n",
              "      <th>50%</th>\n",
              "      <td>57.00</td>\n",
              "      <td>45.00</td>\n",
              "      <td>63.00</td>\n",
              "      <td>85.00</td>\n",
              "      <td>53.00</td>\n",
              "      <td>54.00</td>\n",
              "      <td>37.00</td>\n",
              "      <td>73.67</td>\n",
              "      <td>3.75</td>\n",
              "      <td>84061.40</td>\n",
              "      <td>35.00</td>\n",
              "      <td>97.00</td>\n",
              "    </tr>\n",
              "    <tr>\n",
              "      <th>75%</th>\n",
              "      <td>72.00</td>\n",
              "      <td>72.00</td>\n",
              "      <td>80.00</td>\n",
              "      <td>93.00</td>\n",
              "      <td>68.00</td>\n",
              "      <td>61.00</td>\n",
              "      <td>42.00</td>\n",
              "      <td>78.94</td>\n",
              "      <td>6.65</td>\n",
              "      <td>404140.00</td>\n",
              "      <td>39.18</td>\n",
              "      <td>99.00</td>\n",
              "    </tr>\n",
              "    <tr>\n",
              "      <th>max</th>\n",
              "      <td>93.00</td>\n",
              "      <td>100.00</td>\n",
              "      <td>100.00</td>\n",
              "      <td>100.00</td>\n",
              "      <td>95.00</td>\n",
              "      <td>76.00</td>\n",
              "      <td>73.00</td>\n",
              "      <td>85.47</td>\n",
              "      <td>359.09</td>\n",
              "      <td>23315080.56</td>\n",
              "      <td>63.03</td>\n",
              "      <td>100.00</td>\n",
              "    </tr>\n",
              "  </tbody>\n",
              "</table>\n",
              "</div>"
            ],
            "text/plain": [
              "       Stability  Rights  Health  Safety  Climate  Costs  Popularity  \\\n",
              "count     137.00  137.00  137.00  137.00   137.00 137.00      137.00   \n",
              "mean       57.58   50.69   58.12   76.78    53.23  52.34       37.98   \n",
              "std        19.33   25.14   26.09   21.79    19.96  11.61       12.05   \n",
              "min         8.00    7.00    0.00    4.00     2.00  23.00       11.00   \n",
              "25%        46.00   32.00   42.00   69.00    42.00  44.00       31.00   \n",
              "50%        57.00   45.00   63.00   85.00    53.00  54.00       37.00   \n",
              "75%        72.00   72.00   80.00   93.00    68.00  61.00       42.00   \n",
              "max        93.00  100.00  100.00  100.00    95.00  76.00       73.00   \n",
              "\n",
              "       Life expectancy  Inflation         GDP   Gini  Education level  \n",
              "count           137.00     137.00      137.00 137.00           137.00  \n",
              "mean             73.04      10.41   696484.41  35.94            90.84  \n",
              "std               7.52      34.55  2577649.55   6.87            13.57  \n",
              "min              52.53      -0.77      843.85  24.11            37.30  \n",
              "25%              68.85       2.19    23131.94  31.50            88.00  \n",
              "50%              73.67       3.75    84061.40  35.00            97.00  \n",
              "75%              78.94       6.65   404140.00  39.18            99.00  \n",
              "max              85.47     359.09 23315080.56  63.03           100.00  "
            ]
          },
          "execution_count": 91,
          "metadata": {},
          "output_type": "execute_result"
        }
      ],
      "source": [
        "quality_life.describe()"
      ]
    },
    {
      "cell_type": "markdown",
      "id": "ULAPEN8Mv_5-",
      "metadata": {
        "id": "ULAPEN8Mv_5-"
      },
      "source": [
        "## **Создание новых признаков**\n",
        "\n"
      ]
    },
    {
      "cell_type": "code",
      "execution_count": 92,
      "id": "zL317lRoyQDh",
      "metadata": {
        "colab": {
          "base_uri": "https://localhost:8080/"
        },
        "id": "zL317lRoyQDh",
        "outputId": "7a132fcc-7d8f-44a8-a02e-a0f589303041"
      },
      "outputs": [
        {
          "name": "stdout",
          "output_type": "stream",
          "text": [
            "Country            98\n",
            "Stability          98\n",
            "Rights             98\n",
            "Health             98\n",
            "Safety             98\n",
            "Climate            98\n",
            "Costs              98\n",
            "Popularity         98\n",
            "Life expectancy    98\n",
            "Inflation          98\n",
            "GDP                98\n",
            "Gini               98\n",
            "Education level    98\n",
            "dtype: int64\n"
          ]
        }
      ],
      "source": [
        "print(quality_life[quality_life['Education level'] > 90].count())"
      ]
    },
    {
      "cell_type": "markdown",
      "id": "U_85JPVjzNCp",
      "metadata": {
        "id": "U_85JPVjzNCp"
      },
      "source": [
        "Если посмотреть на наши данные, то можно заметить, что в большинстве стран мира показатель Education level больше 90. Это и логично, ведь он показывает процент населения, имеющих хотя бы базовое образование. Тогда мы можем создать отдельный признак, чтобы отделить страны с грамотным населением от стран с низким уровнем образования. Это будет более логично, так как при оценке страны смотрят на систему образования в целом."
      ]
    },
    {
      "cell_type": "code",
      "execution_count": 93,
      "id": "r9xsWOP00FKp",
      "metadata": {
        "colab": {
          "base_uri": "https://localhost:8080/",
          "height": 478
        },
        "id": "r9xsWOP00FKp",
        "outputId": "82782ca0-68a6-49fb-9c50-06a788b80d4d"
      },
      "outputs": [
        {
          "data": {
            "text/html": [
              "<div>\n",
              "<style scoped>\n",
              "    .dataframe tbody tr th:only-of-type {\n",
              "        vertical-align: middle;\n",
              "    }\n",
              "\n",
              "    .dataframe tbody tr th {\n",
              "        vertical-align: top;\n",
              "    }\n",
              "\n",
              "    .dataframe thead th {\n",
              "        text-align: right;\n",
              "    }\n",
              "</style>\n",
              "<table border=\"1\" class=\"dataframe\">\n",
              "  <thead>\n",
              "    <tr style=\"text-align: right;\">\n",
              "      <th></th>\n",
              "      <th>Country</th>\n",
              "      <th>Stability</th>\n",
              "      <th>Rights</th>\n",
              "      <th>Health</th>\n",
              "      <th>Safety</th>\n",
              "      <th>Climate</th>\n",
              "      <th>Costs</th>\n",
              "      <th>Popularity</th>\n",
              "      <th>Life expectancy</th>\n",
              "      <th>Inflation</th>\n",
              "      <th>GDP</th>\n",
              "      <th>Gini</th>\n",
              "      <th>Education level</th>\n",
              "      <th>Literacy</th>\n",
              "    </tr>\n",
              "  </thead>\n",
              "  <tbody>\n",
              "    <tr>\n",
              "      <th>0</th>\n",
              "      <td>Afghanistan</td>\n",
              "      <td>28</td>\n",
              "      <td>9</td>\n",
              "      <td>20</td>\n",
              "      <td>19</td>\n",
              "      <td>58</td>\n",
              "      <td>63</td>\n",
              "      <td>63</td>\n",
              "      <td>61.98</td>\n",
              "      <td>2.30</td>\n",
              "      <td>14583.14</td>\n",
              "      <td>41.00</td>\n",
              "      <td>37.30</td>\n",
              "      <td>0</td>\n",
              "    </tr>\n",
              "    <tr>\n",
              "      <th>1</th>\n",
              "      <td>Albania</td>\n",
              "      <td>58</td>\n",
              "      <td>43</td>\n",
              "      <td>64</td>\n",
              "      <td>84</td>\n",
              "      <td>55</td>\n",
              "      <td>57</td>\n",
              "      <td>26</td>\n",
              "      <td>76.46</td>\n",
              "      <td>2.04</td>\n",
              "      <td>17930.57</td>\n",
              "      <td>29.42</td>\n",
              "      <td>99.00</td>\n",
              "      <td>1</td>\n",
              "    </tr>\n",
              "    <tr>\n",
              "      <th>2</th>\n",
              "      <td>Algeria</td>\n",
              "      <td>35</td>\n",
              "      <td>24</td>\n",
              "      <td>61</td>\n",
              "      <td>97</td>\n",
              "      <td>78</td>\n",
              "      <td>55</td>\n",
              "      <td>36</td>\n",
              "      <td>76.38</td>\n",
              "      <td>7.23</td>\n",
              "      <td>163472.23</td>\n",
              "      <td>27.62</td>\n",
              "      <td>87.00</td>\n",
              "      <td>0</td>\n",
              "    </tr>\n",
              "    <tr>\n",
              "      <th>3</th>\n",
              "      <td>Angola</td>\n",
              "      <td>27</td>\n",
              "      <td>24</td>\n",
              "      <td>10</td>\n",
              "      <td>55</td>\n",
              "      <td>63</td>\n",
              "      <td>53</td>\n",
              "      <td>31</td>\n",
              "      <td>61.64</td>\n",
              "      <td>25.75</td>\n",
              "      <td>65685.44</td>\n",
              "      <td>51.26</td>\n",
              "      <td>72.40</td>\n",
              "      <td>0</td>\n",
              "    </tr>\n",
              "    <tr>\n",
              "      <th>4</th>\n",
              "      <td>Argentina</td>\n",
              "      <td>41</td>\n",
              "      <td>44</td>\n",
              "      <td>79</td>\n",
              "      <td>78</td>\n",
              "      <td>77</td>\n",
              "      <td>41</td>\n",
              "      <td>38</td>\n",
              "      <td>75.39</td>\n",
              "      <td>50.94</td>\n",
              "      <td>487227.13</td>\n",
              "      <td>42.00</td>\n",
              "      <td>98.00</td>\n",
              "      <td>1</td>\n",
              "    </tr>\n",
              "    <tr>\n",
              "      <th>...</th>\n",
              "      <td>...</td>\n",
              "      <td>...</td>\n",
              "      <td>...</td>\n",
              "      <td>...</td>\n",
              "      <td>...</td>\n",
              "      <td>...</td>\n",
              "      <td>...</td>\n",
              "      <td>...</td>\n",
              "      <td>...</td>\n",
              "      <td>...</td>\n",
              "      <td>...</td>\n",
              "      <td>...</td>\n",
              "      <td>...</td>\n",
              "      <td>...</td>\n",
              "    </tr>\n",
              "    <tr>\n",
              "      <th>132</th>\n",
              "      <td>United States</td>\n",
              "      <td>63</td>\n",
              "      <td>81</td>\n",
              "      <td>71</td>\n",
              "      <td>85</td>\n",
              "      <td>66</td>\n",
              "      <td>37</td>\n",
              "      <td>67</td>\n",
              "      <td>77.20</td>\n",
              "      <td>4.70</td>\n",
              "      <td>23315080.56</td>\n",
              "      <td>41.33</td>\n",
              "      <td>100.00</td>\n",
              "      <td>1</td>\n",
              "    </tr>\n",
              "    <tr>\n",
              "      <th>133</th>\n",
              "      <td>Uruguay</td>\n",
              "      <td>67</td>\n",
              "      <td>79</td>\n",
              "      <td>75</td>\n",
              "      <td>82</td>\n",
              "      <td>77</td>\n",
              "      <td>47</td>\n",
              "      <td>30</td>\n",
              "      <td>75.44</td>\n",
              "      <td>7.75</td>\n",
              "      <td>61412.27</td>\n",
              "      <td>40.55</td>\n",
              "      <td>99.00</td>\n",
              "      <td>1</td>\n",
              "    </tr>\n",
              "    <tr>\n",
              "      <th>134</th>\n",
              "      <td>Vietnam</td>\n",
              "      <td>67</td>\n",
              "      <td>35</td>\n",
              "      <td>54</td>\n",
              "      <td>76</td>\n",
              "      <td>52</td>\n",
              "      <td>51</td>\n",
              "      <td>33</td>\n",
              "      <td>73.62</td>\n",
              "      <td>1.84</td>\n",
              "      <td>366137.59</td>\n",
              "      <td>36.09</td>\n",
              "      <td>95.00</td>\n",
              "      <td>1</td>\n",
              "    </tr>\n",
              "    <tr>\n",
              "      <th>135</th>\n",
              "      <td>Zambia</td>\n",
              "      <td>34</td>\n",
              "      <td>32</td>\n",
              "      <td>18</td>\n",
              "      <td>60</td>\n",
              "      <td>68</td>\n",
              "      <td>58</td>\n",
              "      <td>47</td>\n",
              "      <td>61.22</td>\n",
              "      <td>22.02</td>\n",
              "      <td>22147.65</td>\n",
              "      <td>51.48</td>\n",
              "      <td>95.00</td>\n",
              "      <td>1</td>\n",
              "    </tr>\n",
              "    <tr>\n",
              "      <th>136</th>\n",
              "      <td>Zimbabwe</td>\n",
              "      <td>29</td>\n",
              "      <td>14</td>\n",
              "      <td>13</td>\n",
              "      <td>74</td>\n",
              "      <td>91</td>\n",
              "      <td>37</td>\n",
              "      <td>36</td>\n",
              "      <td>59.25</td>\n",
              "      <td>98.55</td>\n",
              "      <td>28371.24</td>\n",
              "      <td>50.26</td>\n",
              "      <td>97.00</td>\n",
              "      <td>1</td>\n",
              "    </tr>\n",
              "  </tbody>\n",
              "</table>\n",
              "<p>137 rows × 14 columns</p>\n",
              "</div>"
            ],
            "text/plain": [
              "           Country  Stability  Rights  Health  Safety  Climate  Costs  \\\n",
              "0      Afghanistan         28       9      20      19       58     63   \n",
              "1          Albania         58      43      64      84       55     57   \n",
              "2          Algeria         35      24      61      97       78     55   \n",
              "3           Angola         27      24      10      55       63     53   \n",
              "4        Argentina         41      44      79      78       77     41   \n",
              "..             ...        ...     ...     ...     ...      ...    ...   \n",
              "132  United States         63      81      71      85       66     37   \n",
              "133        Uruguay         67      79      75      82       77     47   \n",
              "134        Vietnam         67      35      54      76       52     51   \n",
              "135         Zambia         34      32      18      60       68     58   \n",
              "136       Zimbabwe         29      14      13      74       91     37   \n",
              "\n",
              "     Popularity  Life expectancy  Inflation         GDP  Gini  \\\n",
              "0            63            61.98       2.30    14583.14 41.00   \n",
              "1            26            76.46       2.04    17930.57 29.42   \n",
              "2            36            76.38       7.23   163472.23 27.62   \n",
              "3            31            61.64      25.75    65685.44 51.26   \n",
              "4            38            75.39      50.94   487227.13 42.00   \n",
              "..          ...              ...        ...         ...   ...   \n",
              "132          67            77.20       4.70 23315080.56 41.33   \n",
              "133          30            75.44       7.75    61412.27 40.55   \n",
              "134          33            73.62       1.84   366137.59 36.09   \n",
              "135          47            61.22      22.02    22147.65 51.48   \n",
              "136          36            59.25      98.55    28371.24 50.26   \n",
              "\n",
              "     Education level  Literacy  \n",
              "0              37.30         0  \n",
              "1              99.00         1  \n",
              "2              87.00         0  \n",
              "3              72.40         0  \n",
              "4              98.00         1  \n",
              "..               ...       ...  \n",
              "132           100.00         1  \n",
              "133            99.00         1  \n",
              "134            95.00         1  \n",
              "135            95.00         1  \n",
              "136            97.00         1  \n",
              "\n",
              "[137 rows x 14 columns]"
            ]
          },
          "execution_count": 93,
          "metadata": {},
          "output_type": "execute_result"
        }
      ],
      "source": [
        "quality_life['Literacy'] = (quality_life['Education level'] > 90).astype(int)\n",
        "quality_life"
      ]
    },
    {
      "cell_type": "markdown",
      "id": "ohkTaXv00uD7",
      "metadata": {
        "id": "ohkTaXv00uD7"
      },
      "source": [
        "Аналогичные рассуждения можно применить и к инфляции, что разница между тем в стране инфляция 5 или 8 процентных пунктов глобально не сильно влияет на состояние экономики и общественной жизни в стране. Поэтому исходя из макроэкономики поделим её на низкую (до 5%), умеренную (до 10%), галопирующую (до 100%) и гиперинфляцию (свыше 100% в год)."
      ]
    },
    {
      "cell_type": "code",
      "execution_count": 94,
      "id": "EBM4vVy_3PUK",
      "metadata": {
        "id": "EBM4vVy_3PUK"
      },
      "outputs": [],
      "source": [
        "def classification(inflation) -> str:\n",
        "    if inflation <= 5:\n",
        "        return 'Creeping'\n",
        "    elif 5 < inflation <= 10:\n",
        "        return 'Walking'\n",
        "    elif 10 < inflation <= 100:\n",
        "        return 'Galloping'\n",
        "    else:\n",
        "        return 'Hyperinflation'\n",
        "quality_life['Type of inflation'] = quality_life['Inflation'].apply(classification)"
      ]
    },
    {
      "cell_type": "markdown",
      "id": "CyT78I5liFsU",
      "metadata": {
        "id": "CyT78I5liFsU"
      },
      "source": [
        "Рассуждая о ВВП, нетрудно заметить, что этот показатель не отражает богатство населения страны, так как весь доход от производства товаров и услуг может быть сосредоточен в руках узкого круга лиц. Тогда введем скорректированный ВВП с учётом неравенства и на единицу стоимости жизни, чтобы учесть уровень цен в разных странах.\n",
        "\n",
        "$Corrected$ $GDP = \\frac{GDP * (1 - Gini/100)}{costs + 1}$\n",
        "\n",
        "Это позволит нам оценить \"эффективный\" ВВП, доступный для большинства населения."
      ]
    },
    {
      "cell_type": "code",
      "execution_count": 95,
      "id": "7GOxeqGJi7Vx",
      "metadata": {
        "id": "7GOxeqGJi7Vx"
      },
      "outputs": [],
      "source": [
        "quality_life['Corrected_GDP'] = (quality_life['GDP'] * (1 - quality_life['Gini'] / 100)) / (quality_life['Costs'] + 1)"
      ]
    },
    {
      "cell_type": "markdown",
      "id": "aDnrOzTZjIzq",
      "metadata": {
        "id": "aDnrOzTZjIzq"
      },
      "source": [
        "## **Визуализация**"
      ]
    },
    {
      "cell_type": "markdown",
      "id": "n12KUxDs7HaV",
      "metadata": {
        "id": "n12KUxDs7HaV"
      },
      "source": [
        "Начнём с самого простого. Давайте посмотрим на то, в каких странах самая высокая продолжительность жизни. Скорее всего там будет высокий уровень грамотности, низкая инфляция и развиты различные институты, а возможно и нет. Сейчас и узнаем :)"
      ]
    },
    {
      "cell_type": "code",
      "execution_count": 96,
      "id": "rW8h516s7vDT",
      "metadata": {
        "colab": {
          "base_uri": "https://localhost:8080/",
          "height": 419
        },
        "id": "rW8h516s7vDT",
        "outputId": "70ad32f8-d547-4795-805a-e564c3f5e7c1"
      },
      "outputs": [
        {
          "data": {
            "application/vnd.plotly.v1+json": {
              "config": {
                "plotlyServerURL": "https://plot.ly"
              },
              "data": [
                {
                  "marker": {
                    "color": "skyblue"
                  },
                  "name": "Продолжительность жизни",
                  "orientation": "h",
                  "type": "bar",
                  "x": [
                    85.4734,
                    85.3994,
                    84.7839,
                    84.5265,
                    83.9872,
                    83.7769,
                    83.6978,
                    83.2339,
                    83.01,
                    82.9833,
                    82.8502,
                    82.7545,
                    82.6782,
                    82.6565,
                    82.6287
                  ],
                  "y": [
                    "Hong Kong",
                    "Macao",
                    "Japan",
                    "Australia",
                    "Switzerland",
                    "Malta",
                    "South Korea",
                    "Norway",
                    "Spain",
                    "Sweden",
                    "Italy",
                    "Singapore",
                    "Iceland",
                    "Canada",
                    "Luxembourg"
                  ]
                }
              ],
              "layout": {
                "height": 500,
                "template": {
                  "data": {
                    "bar": [
                      {
                        "error_x": {
                          "color": "#2a3f5f"
                        },
                        "error_y": {
                          "color": "#2a3f5f"
                        },
                        "marker": {
                          "line": {
                            "color": "#E5ECF6",
                            "width": 0.5
                          },
                          "pattern": {
                            "fillmode": "overlay",
                            "size": 10,
                            "solidity": 0.2
                          }
                        },
                        "type": "bar"
                      }
                    ],
                    "barpolar": [
                      {
                        "marker": {
                          "line": {
                            "color": "#E5ECF6",
                            "width": 0.5
                          },
                          "pattern": {
                            "fillmode": "overlay",
                            "size": 10,
                            "solidity": 0.2
                          }
                        },
                        "type": "barpolar"
                      }
                    ],
                    "carpet": [
                      {
                        "aaxis": {
                          "endlinecolor": "#2a3f5f",
                          "gridcolor": "white",
                          "linecolor": "white",
                          "minorgridcolor": "white",
                          "startlinecolor": "#2a3f5f"
                        },
                        "baxis": {
                          "endlinecolor": "#2a3f5f",
                          "gridcolor": "white",
                          "linecolor": "white",
                          "minorgridcolor": "white",
                          "startlinecolor": "#2a3f5f"
                        },
                        "type": "carpet"
                      }
                    ],
                    "choropleth": [
                      {
                        "colorbar": {
                          "outlinewidth": 0,
                          "ticks": ""
                        },
                        "type": "choropleth"
                      }
                    ],
                    "contour": [
                      {
                        "colorbar": {
                          "outlinewidth": 0,
                          "ticks": ""
                        },
                        "colorscale": [
                          [
                            0,
                            "#0d0887"
                          ],
                          [
                            0.1111111111111111,
                            "#46039f"
                          ],
                          [
                            0.2222222222222222,
                            "#7201a8"
                          ],
                          [
                            0.3333333333333333,
                            "#9c179e"
                          ],
                          [
                            0.4444444444444444,
                            "#bd3786"
                          ],
                          [
                            0.5555555555555556,
                            "#d8576b"
                          ],
                          [
                            0.6666666666666666,
                            "#ed7953"
                          ],
                          [
                            0.7777777777777778,
                            "#fb9f3a"
                          ],
                          [
                            0.8888888888888888,
                            "#fdca26"
                          ],
                          [
                            1,
                            "#f0f921"
                          ]
                        ],
                        "type": "contour"
                      }
                    ],
                    "contourcarpet": [
                      {
                        "colorbar": {
                          "outlinewidth": 0,
                          "ticks": ""
                        },
                        "type": "contourcarpet"
                      }
                    ],
                    "heatmap": [
                      {
                        "colorbar": {
                          "outlinewidth": 0,
                          "ticks": ""
                        },
                        "colorscale": [
                          [
                            0,
                            "#0d0887"
                          ],
                          [
                            0.1111111111111111,
                            "#46039f"
                          ],
                          [
                            0.2222222222222222,
                            "#7201a8"
                          ],
                          [
                            0.3333333333333333,
                            "#9c179e"
                          ],
                          [
                            0.4444444444444444,
                            "#bd3786"
                          ],
                          [
                            0.5555555555555556,
                            "#d8576b"
                          ],
                          [
                            0.6666666666666666,
                            "#ed7953"
                          ],
                          [
                            0.7777777777777778,
                            "#fb9f3a"
                          ],
                          [
                            0.8888888888888888,
                            "#fdca26"
                          ],
                          [
                            1,
                            "#f0f921"
                          ]
                        ],
                        "type": "heatmap"
                      }
                    ],
                    "heatmapgl": [
                      {
                        "colorbar": {
                          "outlinewidth": 0,
                          "ticks": ""
                        },
                        "colorscale": [
                          [
                            0,
                            "#0d0887"
                          ],
                          [
                            0.1111111111111111,
                            "#46039f"
                          ],
                          [
                            0.2222222222222222,
                            "#7201a8"
                          ],
                          [
                            0.3333333333333333,
                            "#9c179e"
                          ],
                          [
                            0.4444444444444444,
                            "#bd3786"
                          ],
                          [
                            0.5555555555555556,
                            "#d8576b"
                          ],
                          [
                            0.6666666666666666,
                            "#ed7953"
                          ],
                          [
                            0.7777777777777778,
                            "#fb9f3a"
                          ],
                          [
                            0.8888888888888888,
                            "#fdca26"
                          ],
                          [
                            1,
                            "#f0f921"
                          ]
                        ],
                        "type": "heatmapgl"
                      }
                    ],
                    "histogram": [
                      {
                        "marker": {
                          "pattern": {
                            "fillmode": "overlay",
                            "size": 10,
                            "solidity": 0.2
                          }
                        },
                        "type": "histogram"
                      }
                    ],
                    "histogram2d": [
                      {
                        "colorbar": {
                          "outlinewidth": 0,
                          "ticks": ""
                        },
                        "colorscale": [
                          [
                            0,
                            "#0d0887"
                          ],
                          [
                            0.1111111111111111,
                            "#46039f"
                          ],
                          [
                            0.2222222222222222,
                            "#7201a8"
                          ],
                          [
                            0.3333333333333333,
                            "#9c179e"
                          ],
                          [
                            0.4444444444444444,
                            "#bd3786"
                          ],
                          [
                            0.5555555555555556,
                            "#d8576b"
                          ],
                          [
                            0.6666666666666666,
                            "#ed7953"
                          ],
                          [
                            0.7777777777777778,
                            "#fb9f3a"
                          ],
                          [
                            0.8888888888888888,
                            "#fdca26"
                          ],
                          [
                            1,
                            "#f0f921"
                          ]
                        ],
                        "type": "histogram2d"
                      }
                    ],
                    "histogram2dcontour": [
                      {
                        "colorbar": {
                          "outlinewidth": 0,
                          "ticks": ""
                        },
                        "colorscale": [
                          [
                            0,
                            "#0d0887"
                          ],
                          [
                            0.1111111111111111,
                            "#46039f"
                          ],
                          [
                            0.2222222222222222,
                            "#7201a8"
                          ],
                          [
                            0.3333333333333333,
                            "#9c179e"
                          ],
                          [
                            0.4444444444444444,
                            "#bd3786"
                          ],
                          [
                            0.5555555555555556,
                            "#d8576b"
                          ],
                          [
                            0.6666666666666666,
                            "#ed7953"
                          ],
                          [
                            0.7777777777777778,
                            "#fb9f3a"
                          ],
                          [
                            0.8888888888888888,
                            "#fdca26"
                          ],
                          [
                            1,
                            "#f0f921"
                          ]
                        ],
                        "type": "histogram2dcontour"
                      }
                    ],
                    "mesh3d": [
                      {
                        "colorbar": {
                          "outlinewidth": 0,
                          "ticks": ""
                        },
                        "type": "mesh3d"
                      }
                    ],
                    "parcoords": [
                      {
                        "line": {
                          "colorbar": {
                            "outlinewidth": 0,
                            "ticks": ""
                          }
                        },
                        "type": "parcoords"
                      }
                    ],
                    "pie": [
                      {
                        "automargin": true,
                        "type": "pie"
                      }
                    ],
                    "scatter": [
                      {
                        "fillpattern": {
                          "fillmode": "overlay",
                          "size": 10,
                          "solidity": 0.2
                        },
                        "type": "scatter"
                      }
                    ],
                    "scatter3d": [
                      {
                        "line": {
                          "colorbar": {
                            "outlinewidth": 0,
                            "ticks": ""
                          }
                        },
                        "marker": {
                          "colorbar": {
                            "outlinewidth": 0,
                            "ticks": ""
                          }
                        },
                        "type": "scatter3d"
                      }
                    ],
                    "scattercarpet": [
                      {
                        "marker": {
                          "colorbar": {
                            "outlinewidth": 0,
                            "ticks": ""
                          }
                        },
                        "type": "scattercarpet"
                      }
                    ],
                    "scattergeo": [
                      {
                        "marker": {
                          "colorbar": {
                            "outlinewidth": 0,
                            "ticks": ""
                          }
                        },
                        "type": "scattergeo"
                      }
                    ],
                    "scattergl": [
                      {
                        "marker": {
                          "colorbar": {
                            "outlinewidth": 0,
                            "ticks": ""
                          }
                        },
                        "type": "scattergl"
                      }
                    ],
                    "scattermapbox": [
                      {
                        "marker": {
                          "colorbar": {
                            "outlinewidth": 0,
                            "ticks": ""
                          }
                        },
                        "type": "scattermapbox"
                      }
                    ],
                    "scatterpolar": [
                      {
                        "marker": {
                          "colorbar": {
                            "outlinewidth": 0,
                            "ticks": ""
                          }
                        },
                        "type": "scatterpolar"
                      }
                    ],
                    "scatterpolargl": [
                      {
                        "marker": {
                          "colorbar": {
                            "outlinewidth": 0,
                            "ticks": ""
                          }
                        },
                        "type": "scatterpolargl"
                      }
                    ],
                    "scatterternary": [
                      {
                        "marker": {
                          "colorbar": {
                            "outlinewidth": 0,
                            "ticks": ""
                          }
                        },
                        "type": "scatterternary"
                      }
                    ],
                    "surface": [
                      {
                        "colorbar": {
                          "outlinewidth": 0,
                          "ticks": ""
                        },
                        "colorscale": [
                          [
                            0,
                            "#0d0887"
                          ],
                          [
                            0.1111111111111111,
                            "#46039f"
                          ],
                          [
                            0.2222222222222222,
                            "#7201a8"
                          ],
                          [
                            0.3333333333333333,
                            "#9c179e"
                          ],
                          [
                            0.4444444444444444,
                            "#bd3786"
                          ],
                          [
                            0.5555555555555556,
                            "#d8576b"
                          ],
                          [
                            0.6666666666666666,
                            "#ed7953"
                          ],
                          [
                            0.7777777777777778,
                            "#fb9f3a"
                          ],
                          [
                            0.8888888888888888,
                            "#fdca26"
                          ],
                          [
                            1,
                            "#f0f921"
                          ]
                        ],
                        "type": "surface"
                      }
                    ],
                    "table": [
                      {
                        "cells": {
                          "fill": {
                            "color": "#EBF0F8"
                          },
                          "line": {
                            "color": "white"
                          }
                        },
                        "header": {
                          "fill": {
                            "color": "#C8D4E3"
                          },
                          "line": {
                            "color": "white"
                          }
                        },
                        "type": "table"
                      }
                    ]
                  },
                  "layout": {
                    "annotationdefaults": {
                      "arrowcolor": "#2a3f5f",
                      "arrowhead": 0,
                      "arrowwidth": 1
                    },
                    "autotypenumbers": "strict",
                    "coloraxis": {
                      "colorbar": {
                        "outlinewidth": 0,
                        "ticks": ""
                      }
                    },
                    "colorscale": {
                      "diverging": [
                        [
                          0,
                          "#8e0152"
                        ],
                        [
                          0.1,
                          "#c51b7d"
                        ],
                        [
                          0.2,
                          "#de77ae"
                        ],
                        [
                          0.3,
                          "#f1b6da"
                        ],
                        [
                          0.4,
                          "#fde0ef"
                        ],
                        [
                          0.5,
                          "#f7f7f7"
                        ],
                        [
                          0.6,
                          "#e6f5d0"
                        ],
                        [
                          0.7,
                          "#b8e186"
                        ],
                        [
                          0.8,
                          "#7fbc41"
                        ],
                        [
                          0.9,
                          "#4d9221"
                        ],
                        [
                          1,
                          "#276419"
                        ]
                      ],
                      "sequential": [
                        [
                          0,
                          "#0d0887"
                        ],
                        [
                          0.1111111111111111,
                          "#46039f"
                        ],
                        [
                          0.2222222222222222,
                          "#7201a8"
                        ],
                        [
                          0.3333333333333333,
                          "#9c179e"
                        ],
                        [
                          0.4444444444444444,
                          "#bd3786"
                        ],
                        [
                          0.5555555555555556,
                          "#d8576b"
                        ],
                        [
                          0.6666666666666666,
                          "#ed7953"
                        ],
                        [
                          0.7777777777777778,
                          "#fb9f3a"
                        ],
                        [
                          0.8888888888888888,
                          "#fdca26"
                        ],
                        [
                          1,
                          "#f0f921"
                        ]
                      ],
                      "sequentialminus": [
                        [
                          0,
                          "#0d0887"
                        ],
                        [
                          0.1111111111111111,
                          "#46039f"
                        ],
                        [
                          0.2222222222222222,
                          "#7201a8"
                        ],
                        [
                          0.3333333333333333,
                          "#9c179e"
                        ],
                        [
                          0.4444444444444444,
                          "#bd3786"
                        ],
                        [
                          0.5555555555555556,
                          "#d8576b"
                        ],
                        [
                          0.6666666666666666,
                          "#ed7953"
                        ],
                        [
                          0.7777777777777778,
                          "#fb9f3a"
                        ],
                        [
                          0.8888888888888888,
                          "#fdca26"
                        ],
                        [
                          1,
                          "#f0f921"
                        ]
                      ]
                    },
                    "colorway": [
                      "#636efa",
                      "#EF553B",
                      "#00cc96",
                      "#ab63fa",
                      "#FFA15A",
                      "#19d3f3",
                      "#FF6692",
                      "#B6E880",
                      "#FF97FF",
                      "#FECB52"
                    ],
                    "font": {
                      "color": "#2a3f5f"
                    },
                    "geo": {
                      "bgcolor": "white",
                      "lakecolor": "white",
                      "landcolor": "#E5ECF6",
                      "showlakes": true,
                      "showland": true,
                      "subunitcolor": "white"
                    },
                    "hoverlabel": {
                      "align": "left"
                    },
                    "hovermode": "closest",
                    "mapbox": {
                      "style": "light"
                    },
                    "paper_bgcolor": "white",
                    "plot_bgcolor": "#E5ECF6",
                    "polar": {
                      "angularaxis": {
                        "gridcolor": "white",
                        "linecolor": "white",
                        "ticks": ""
                      },
                      "bgcolor": "#E5ECF6",
                      "radialaxis": {
                        "gridcolor": "white",
                        "linecolor": "white",
                        "ticks": ""
                      }
                    },
                    "scene": {
                      "xaxis": {
                        "backgroundcolor": "#E5ECF6",
                        "gridcolor": "white",
                        "gridwidth": 2,
                        "linecolor": "white",
                        "showbackground": true,
                        "ticks": "",
                        "zerolinecolor": "white"
                      },
                      "yaxis": {
                        "backgroundcolor": "#E5ECF6",
                        "gridcolor": "white",
                        "gridwidth": 2,
                        "linecolor": "white",
                        "showbackground": true,
                        "ticks": "",
                        "zerolinecolor": "white"
                      },
                      "zaxis": {
                        "backgroundcolor": "#E5ECF6",
                        "gridcolor": "white",
                        "gridwidth": 2,
                        "linecolor": "white",
                        "showbackground": true,
                        "ticks": "",
                        "zerolinecolor": "white"
                      }
                    },
                    "shapedefaults": {
                      "line": {
                        "color": "#2a3f5f"
                      }
                    },
                    "ternary": {
                      "aaxis": {
                        "gridcolor": "white",
                        "linecolor": "white",
                        "ticks": ""
                      },
                      "baxis": {
                        "gridcolor": "white",
                        "linecolor": "white",
                        "ticks": ""
                      },
                      "bgcolor": "#E5ECF6",
                      "caxis": {
                        "gridcolor": "white",
                        "linecolor": "white",
                        "ticks": ""
                      }
                    },
                    "title": {
                      "x": 0.05
                    },
                    "xaxis": {
                      "automargin": true,
                      "gridcolor": "white",
                      "linecolor": "white",
                      "ticks": "",
                      "title": {
                        "standoff": 15
                      },
                      "zerolinecolor": "white",
                      "zerolinewidth": 2
                    },
                    "yaxis": {
                      "automargin": true,
                      "gridcolor": "white",
                      "linecolor": "white",
                      "ticks": "",
                      "title": {
                        "standoff": 15
                      },
                      "zerolinecolor": "white",
                      "zerolinewidth": 2
                    }
                  }
                },
                "title": {
                  "text": "Продолжительность жизни в разных странах мира"
                },
                "width": 900,
                "xaxis": {
                  "title": {
                    "text": "Продолжительность жизни"
                  }
                },
                "yaxis": {
                  "categoryorder": "total ascending",
                  "title": {
                    "text": "Страна"
                  }
                }
              }
            }
          },
          "metadata": {},
          "output_type": "display_data"
        }
      ],
      "source": [
        "quality_life_sorted: pd.DataFrame = quality_life.sort_values(by='Life expectancy', ascending=False).head(15)\n",
        "\n",
        "fig = go.Figure()\n",
        "\n",
        "fig.add_trace(go.Bar(\n",
        "    x = quality_life_sorted['Life expectancy'],\n",
        "    y = quality_life_sorted['Country'],\n",
        "    orientation = 'h',\n",
        "    marker = dict(color='skyblue'),\n",
        "    name = \"Продолжительность жизни\"\n",
        "))\n",
        "\n",
        "fig.update_layout(\n",
        "    title = \"Продолжительность жизни в разных странах мира\",\n",
        "    xaxis_title = \"Продолжительность жизни\",\n",
        "    yaxis_title = \"Страна\",\n",
        "    width = 900, \n",
        "    height = 500, \n",
        "    yaxis = dict(categoryorder = 'total ascending')\n",
        ")\n",
        "\n",
        "\n",
        "fig.show()"
      ]
    },
    {
      "cell_type": "code",
      "execution_count": 97,
      "id": "UOAyhx9uCj6I",
      "metadata": {
        "colab": {
          "base_uri": "https://localhost:8080/",
          "height": 419
        },
        "id": "UOAyhx9uCj6I",
        "outputId": "b8ea2984-4ac2-4626-f2b0-cc02fe30eabb"
      },
      "outputs": [
        {
          "data": {
            "application/vnd.plotly.v1+json": {
              "config": {
                "plotlyServerURL": "https://plot.ly"
              },
              "data": [
                {
                  "marker": {
                    "color": "skyblue"
                  },
                  "name": "Продолжительность жизни",
                  "orientation": "h",
                  "type": "bar",
                  "x": [
                    62.083,
                    61.9824,
                    61.9,
                    61.6627,
                    61.6434,
                    61.6194,
                    61.427,
                    61.2234,
                    60.3334,
                    60.0624,
                    59.3247,
                    59.2531,
                    53.062,
                    52.676,
                    52.5254
                  ],
                  "y": [
                    "Gambia",
                    "Afghanistan",
                    "Ivory Coast",
                    "Burundi",
                    "Angola",
                    "Togo",
                    "Kenya",
                    "Zambia",
                    "Cameroon",
                    "Sierra Leone",
                    "Mozambique",
                    "Zimbabwe",
                    "Lesotho",
                    "Nigeria",
                    "Chad"
                  ]
                }
              ],
              "layout": {
                "height": 500,
                "template": {
                  "data": {
                    "bar": [
                      {
                        "error_x": {
                          "color": "#2a3f5f"
                        },
                        "error_y": {
                          "color": "#2a3f5f"
                        },
                        "marker": {
                          "line": {
                            "color": "#E5ECF6",
                            "width": 0.5
                          },
                          "pattern": {
                            "fillmode": "overlay",
                            "size": 10,
                            "solidity": 0.2
                          }
                        },
                        "type": "bar"
                      }
                    ],
                    "barpolar": [
                      {
                        "marker": {
                          "line": {
                            "color": "#E5ECF6",
                            "width": 0.5
                          },
                          "pattern": {
                            "fillmode": "overlay",
                            "size": 10,
                            "solidity": 0.2
                          }
                        },
                        "type": "barpolar"
                      }
                    ],
                    "carpet": [
                      {
                        "aaxis": {
                          "endlinecolor": "#2a3f5f",
                          "gridcolor": "white",
                          "linecolor": "white",
                          "minorgridcolor": "white",
                          "startlinecolor": "#2a3f5f"
                        },
                        "baxis": {
                          "endlinecolor": "#2a3f5f",
                          "gridcolor": "white",
                          "linecolor": "white",
                          "minorgridcolor": "white",
                          "startlinecolor": "#2a3f5f"
                        },
                        "type": "carpet"
                      }
                    ],
                    "choropleth": [
                      {
                        "colorbar": {
                          "outlinewidth": 0,
                          "ticks": ""
                        },
                        "type": "choropleth"
                      }
                    ],
                    "contour": [
                      {
                        "colorbar": {
                          "outlinewidth": 0,
                          "ticks": ""
                        },
                        "colorscale": [
                          [
                            0,
                            "#0d0887"
                          ],
                          [
                            0.1111111111111111,
                            "#46039f"
                          ],
                          [
                            0.2222222222222222,
                            "#7201a8"
                          ],
                          [
                            0.3333333333333333,
                            "#9c179e"
                          ],
                          [
                            0.4444444444444444,
                            "#bd3786"
                          ],
                          [
                            0.5555555555555556,
                            "#d8576b"
                          ],
                          [
                            0.6666666666666666,
                            "#ed7953"
                          ],
                          [
                            0.7777777777777778,
                            "#fb9f3a"
                          ],
                          [
                            0.8888888888888888,
                            "#fdca26"
                          ],
                          [
                            1,
                            "#f0f921"
                          ]
                        ],
                        "type": "contour"
                      }
                    ],
                    "contourcarpet": [
                      {
                        "colorbar": {
                          "outlinewidth": 0,
                          "ticks": ""
                        },
                        "type": "contourcarpet"
                      }
                    ],
                    "heatmap": [
                      {
                        "colorbar": {
                          "outlinewidth": 0,
                          "ticks": ""
                        },
                        "colorscale": [
                          [
                            0,
                            "#0d0887"
                          ],
                          [
                            0.1111111111111111,
                            "#46039f"
                          ],
                          [
                            0.2222222222222222,
                            "#7201a8"
                          ],
                          [
                            0.3333333333333333,
                            "#9c179e"
                          ],
                          [
                            0.4444444444444444,
                            "#bd3786"
                          ],
                          [
                            0.5555555555555556,
                            "#d8576b"
                          ],
                          [
                            0.6666666666666666,
                            "#ed7953"
                          ],
                          [
                            0.7777777777777778,
                            "#fb9f3a"
                          ],
                          [
                            0.8888888888888888,
                            "#fdca26"
                          ],
                          [
                            1,
                            "#f0f921"
                          ]
                        ],
                        "type": "heatmap"
                      }
                    ],
                    "heatmapgl": [
                      {
                        "colorbar": {
                          "outlinewidth": 0,
                          "ticks": ""
                        },
                        "colorscale": [
                          [
                            0,
                            "#0d0887"
                          ],
                          [
                            0.1111111111111111,
                            "#46039f"
                          ],
                          [
                            0.2222222222222222,
                            "#7201a8"
                          ],
                          [
                            0.3333333333333333,
                            "#9c179e"
                          ],
                          [
                            0.4444444444444444,
                            "#bd3786"
                          ],
                          [
                            0.5555555555555556,
                            "#d8576b"
                          ],
                          [
                            0.6666666666666666,
                            "#ed7953"
                          ],
                          [
                            0.7777777777777778,
                            "#fb9f3a"
                          ],
                          [
                            0.8888888888888888,
                            "#fdca26"
                          ],
                          [
                            1,
                            "#f0f921"
                          ]
                        ],
                        "type": "heatmapgl"
                      }
                    ],
                    "histogram": [
                      {
                        "marker": {
                          "pattern": {
                            "fillmode": "overlay",
                            "size": 10,
                            "solidity": 0.2
                          }
                        },
                        "type": "histogram"
                      }
                    ],
                    "histogram2d": [
                      {
                        "colorbar": {
                          "outlinewidth": 0,
                          "ticks": ""
                        },
                        "colorscale": [
                          [
                            0,
                            "#0d0887"
                          ],
                          [
                            0.1111111111111111,
                            "#46039f"
                          ],
                          [
                            0.2222222222222222,
                            "#7201a8"
                          ],
                          [
                            0.3333333333333333,
                            "#9c179e"
                          ],
                          [
                            0.4444444444444444,
                            "#bd3786"
                          ],
                          [
                            0.5555555555555556,
                            "#d8576b"
                          ],
                          [
                            0.6666666666666666,
                            "#ed7953"
                          ],
                          [
                            0.7777777777777778,
                            "#fb9f3a"
                          ],
                          [
                            0.8888888888888888,
                            "#fdca26"
                          ],
                          [
                            1,
                            "#f0f921"
                          ]
                        ],
                        "type": "histogram2d"
                      }
                    ],
                    "histogram2dcontour": [
                      {
                        "colorbar": {
                          "outlinewidth": 0,
                          "ticks": ""
                        },
                        "colorscale": [
                          [
                            0,
                            "#0d0887"
                          ],
                          [
                            0.1111111111111111,
                            "#46039f"
                          ],
                          [
                            0.2222222222222222,
                            "#7201a8"
                          ],
                          [
                            0.3333333333333333,
                            "#9c179e"
                          ],
                          [
                            0.4444444444444444,
                            "#bd3786"
                          ],
                          [
                            0.5555555555555556,
                            "#d8576b"
                          ],
                          [
                            0.6666666666666666,
                            "#ed7953"
                          ],
                          [
                            0.7777777777777778,
                            "#fb9f3a"
                          ],
                          [
                            0.8888888888888888,
                            "#fdca26"
                          ],
                          [
                            1,
                            "#f0f921"
                          ]
                        ],
                        "type": "histogram2dcontour"
                      }
                    ],
                    "mesh3d": [
                      {
                        "colorbar": {
                          "outlinewidth": 0,
                          "ticks": ""
                        },
                        "type": "mesh3d"
                      }
                    ],
                    "parcoords": [
                      {
                        "line": {
                          "colorbar": {
                            "outlinewidth": 0,
                            "ticks": ""
                          }
                        },
                        "type": "parcoords"
                      }
                    ],
                    "pie": [
                      {
                        "automargin": true,
                        "type": "pie"
                      }
                    ],
                    "scatter": [
                      {
                        "fillpattern": {
                          "fillmode": "overlay",
                          "size": 10,
                          "solidity": 0.2
                        },
                        "type": "scatter"
                      }
                    ],
                    "scatter3d": [
                      {
                        "line": {
                          "colorbar": {
                            "outlinewidth": 0,
                            "ticks": ""
                          }
                        },
                        "marker": {
                          "colorbar": {
                            "outlinewidth": 0,
                            "ticks": ""
                          }
                        },
                        "type": "scatter3d"
                      }
                    ],
                    "scattercarpet": [
                      {
                        "marker": {
                          "colorbar": {
                            "outlinewidth": 0,
                            "ticks": ""
                          }
                        },
                        "type": "scattercarpet"
                      }
                    ],
                    "scattergeo": [
                      {
                        "marker": {
                          "colorbar": {
                            "outlinewidth": 0,
                            "ticks": ""
                          }
                        },
                        "type": "scattergeo"
                      }
                    ],
                    "scattergl": [
                      {
                        "marker": {
                          "colorbar": {
                            "outlinewidth": 0,
                            "ticks": ""
                          }
                        },
                        "type": "scattergl"
                      }
                    ],
                    "scattermapbox": [
                      {
                        "marker": {
                          "colorbar": {
                            "outlinewidth": 0,
                            "ticks": ""
                          }
                        },
                        "type": "scattermapbox"
                      }
                    ],
                    "scatterpolar": [
                      {
                        "marker": {
                          "colorbar": {
                            "outlinewidth": 0,
                            "ticks": ""
                          }
                        },
                        "type": "scatterpolar"
                      }
                    ],
                    "scatterpolargl": [
                      {
                        "marker": {
                          "colorbar": {
                            "outlinewidth": 0,
                            "ticks": ""
                          }
                        },
                        "type": "scatterpolargl"
                      }
                    ],
                    "scatterternary": [
                      {
                        "marker": {
                          "colorbar": {
                            "outlinewidth": 0,
                            "ticks": ""
                          }
                        },
                        "type": "scatterternary"
                      }
                    ],
                    "surface": [
                      {
                        "colorbar": {
                          "outlinewidth": 0,
                          "ticks": ""
                        },
                        "colorscale": [
                          [
                            0,
                            "#0d0887"
                          ],
                          [
                            0.1111111111111111,
                            "#46039f"
                          ],
                          [
                            0.2222222222222222,
                            "#7201a8"
                          ],
                          [
                            0.3333333333333333,
                            "#9c179e"
                          ],
                          [
                            0.4444444444444444,
                            "#bd3786"
                          ],
                          [
                            0.5555555555555556,
                            "#d8576b"
                          ],
                          [
                            0.6666666666666666,
                            "#ed7953"
                          ],
                          [
                            0.7777777777777778,
                            "#fb9f3a"
                          ],
                          [
                            0.8888888888888888,
                            "#fdca26"
                          ],
                          [
                            1,
                            "#f0f921"
                          ]
                        ],
                        "type": "surface"
                      }
                    ],
                    "table": [
                      {
                        "cells": {
                          "fill": {
                            "color": "#EBF0F8"
                          },
                          "line": {
                            "color": "white"
                          }
                        },
                        "header": {
                          "fill": {
                            "color": "#C8D4E3"
                          },
                          "line": {
                            "color": "white"
                          }
                        },
                        "type": "table"
                      }
                    ]
                  },
                  "layout": {
                    "annotationdefaults": {
                      "arrowcolor": "#2a3f5f",
                      "arrowhead": 0,
                      "arrowwidth": 1
                    },
                    "autotypenumbers": "strict",
                    "coloraxis": {
                      "colorbar": {
                        "outlinewidth": 0,
                        "ticks": ""
                      }
                    },
                    "colorscale": {
                      "diverging": [
                        [
                          0,
                          "#8e0152"
                        ],
                        [
                          0.1,
                          "#c51b7d"
                        ],
                        [
                          0.2,
                          "#de77ae"
                        ],
                        [
                          0.3,
                          "#f1b6da"
                        ],
                        [
                          0.4,
                          "#fde0ef"
                        ],
                        [
                          0.5,
                          "#f7f7f7"
                        ],
                        [
                          0.6,
                          "#e6f5d0"
                        ],
                        [
                          0.7,
                          "#b8e186"
                        ],
                        [
                          0.8,
                          "#7fbc41"
                        ],
                        [
                          0.9,
                          "#4d9221"
                        ],
                        [
                          1,
                          "#276419"
                        ]
                      ],
                      "sequential": [
                        [
                          0,
                          "#0d0887"
                        ],
                        [
                          0.1111111111111111,
                          "#46039f"
                        ],
                        [
                          0.2222222222222222,
                          "#7201a8"
                        ],
                        [
                          0.3333333333333333,
                          "#9c179e"
                        ],
                        [
                          0.4444444444444444,
                          "#bd3786"
                        ],
                        [
                          0.5555555555555556,
                          "#d8576b"
                        ],
                        [
                          0.6666666666666666,
                          "#ed7953"
                        ],
                        [
                          0.7777777777777778,
                          "#fb9f3a"
                        ],
                        [
                          0.8888888888888888,
                          "#fdca26"
                        ],
                        [
                          1,
                          "#f0f921"
                        ]
                      ],
                      "sequentialminus": [
                        [
                          0,
                          "#0d0887"
                        ],
                        [
                          0.1111111111111111,
                          "#46039f"
                        ],
                        [
                          0.2222222222222222,
                          "#7201a8"
                        ],
                        [
                          0.3333333333333333,
                          "#9c179e"
                        ],
                        [
                          0.4444444444444444,
                          "#bd3786"
                        ],
                        [
                          0.5555555555555556,
                          "#d8576b"
                        ],
                        [
                          0.6666666666666666,
                          "#ed7953"
                        ],
                        [
                          0.7777777777777778,
                          "#fb9f3a"
                        ],
                        [
                          0.8888888888888888,
                          "#fdca26"
                        ],
                        [
                          1,
                          "#f0f921"
                        ]
                      ]
                    },
                    "colorway": [
                      "#636efa",
                      "#EF553B",
                      "#00cc96",
                      "#ab63fa",
                      "#FFA15A",
                      "#19d3f3",
                      "#FF6692",
                      "#B6E880",
                      "#FF97FF",
                      "#FECB52"
                    ],
                    "font": {
                      "color": "#2a3f5f"
                    },
                    "geo": {
                      "bgcolor": "white",
                      "lakecolor": "white",
                      "landcolor": "#E5ECF6",
                      "showlakes": true,
                      "showland": true,
                      "subunitcolor": "white"
                    },
                    "hoverlabel": {
                      "align": "left"
                    },
                    "hovermode": "closest",
                    "mapbox": {
                      "style": "light"
                    },
                    "paper_bgcolor": "white",
                    "plot_bgcolor": "#E5ECF6",
                    "polar": {
                      "angularaxis": {
                        "gridcolor": "white",
                        "linecolor": "white",
                        "ticks": ""
                      },
                      "bgcolor": "#E5ECF6",
                      "radialaxis": {
                        "gridcolor": "white",
                        "linecolor": "white",
                        "ticks": ""
                      }
                    },
                    "scene": {
                      "xaxis": {
                        "backgroundcolor": "#E5ECF6",
                        "gridcolor": "white",
                        "gridwidth": 2,
                        "linecolor": "white",
                        "showbackground": true,
                        "ticks": "",
                        "zerolinecolor": "white"
                      },
                      "yaxis": {
                        "backgroundcolor": "#E5ECF6",
                        "gridcolor": "white",
                        "gridwidth": 2,
                        "linecolor": "white",
                        "showbackground": true,
                        "ticks": "",
                        "zerolinecolor": "white"
                      },
                      "zaxis": {
                        "backgroundcolor": "#E5ECF6",
                        "gridcolor": "white",
                        "gridwidth": 2,
                        "linecolor": "white",
                        "showbackground": true,
                        "ticks": "",
                        "zerolinecolor": "white"
                      }
                    },
                    "shapedefaults": {
                      "line": {
                        "color": "#2a3f5f"
                      }
                    },
                    "ternary": {
                      "aaxis": {
                        "gridcolor": "white",
                        "linecolor": "white",
                        "ticks": ""
                      },
                      "baxis": {
                        "gridcolor": "white",
                        "linecolor": "white",
                        "ticks": ""
                      },
                      "bgcolor": "#E5ECF6",
                      "caxis": {
                        "gridcolor": "white",
                        "linecolor": "white",
                        "ticks": ""
                      }
                    },
                    "title": {
                      "x": 0.05
                    },
                    "xaxis": {
                      "automargin": true,
                      "gridcolor": "white",
                      "linecolor": "white",
                      "ticks": "",
                      "title": {
                        "standoff": 15
                      },
                      "zerolinecolor": "white",
                      "zerolinewidth": 2
                    },
                    "yaxis": {
                      "automargin": true,
                      "gridcolor": "white",
                      "linecolor": "white",
                      "ticks": "",
                      "title": {
                        "standoff": 15
                      },
                      "zerolinecolor": "white",
                      "zerolinewidth": 2
                    }
                  }
                },
                "title": {
                  "text": "Продолжительность жизни в разных странах мира"
                },
                "width": 900,
                "xaxis": {
                  "title": {
                    "text": "Продолжительность жизни"
                  }
                },
                "yaxis": {
                  "categoryorder": "total ascending",
                  "title": {
                    "text": "Страна"
                  }
                }
              }
            }
          },
          "metadata": {},
          "output_type": "display_data"
        }
      ],
      "source": [
        "quality_life_sorted = quality_life.sort_values(by='Life expectancy', ascending=False).tail(15)\n",
        "fig = go.Figure()\n",
        "\n",
        "fig.add_trace(go.Bar(\n",
        "    x = quality_life_sorted['Life expectancy'],\n",
        "    y = quality_life_sorted['Country'],\n",
        "    orientation = 'h',\n",
        "    marker = dict(color='skyblue'),\n",
        "    name = \"Продолжительность жизни\"\n",
        "))\n",
        "\n",
        "fig.update_layout(\n",
        "    title = \"Продолжительность жизни в разных странах мира\",\n",
        "    xaxis_title = \"Продолжительность жизни\",\n",
        "    yaxis_title = \"Страна\",\n",
        "    width = 900,\n",
        "    height = 500, \n",
        "    yaxis = dict(categoryorder='total ascending'),  \n",
        ")\n",
        "\n",
        "fig.show()"
      ]
    },
    {
      "cell_type": "markdown",
      "id": "Q0ZtasYBCtQc",
      "metadata": {
        "id": "Q0ZtasYBCtQc"
      },
      "source": [
        "Самая высокая продолжительность жизни на удивление оказалась в азиатских регионах (Гонконг, Макао, Япония, Южная Корея), Австралии и европейских госудрствах. Исходя из общеэкономических представлений, их объединяет высокий уровень благосостояния на душу населения, комфортный климат и высокий уровень медицины, образования и системы права."
      ]
    },
    {
      "cell_type": "markdown",
      "id": "Qxv7bhmFDu05",
      "metadata": {
        "id": "Qxv7bhmFDu05"
      },
      "source": [
        "Самая низкая продолжительность жизни, как и ожидалось, наблюдается в бедных африканских странах (практически все страны из топ-15 аутсайдеров расположены в Африке), хотя у них довольно хороший климат и низкая стоимость жизни, но видимо экономические факторы имеют куда больший вес))"
      ]
    },
    {
      "cell_type": "code",
      "execution_count": 98,
      "id": "6b05f6fc",
      "metadata": {},
      "outputs": [
        {
          "data": {
            "application/vnd.plotly.v1+json": {
              "config": {
                "plotlyServerURL": "https://plot.ly"
              },
              "data": [
                {
                  "labels": [
                    "United States",
                    "China",
                    "Japan",
                    "France",
                    "Germany",
                    "United Kingdom",
                    "India",
                    "Italy",
                    "Australia",
                    "South Korea",
                    "Canada",
                    "Spain",
                    "Mexico",
                    "Russia",
                    "Netherlands"
                  ],
                  "textinfo": "percent+label",
                  "type": "pie",
                  "values": [
                    359947.2636178658,
                    293609.1935852432,
                    120035.04131672064,
                    67537.31488339115,
                    63962.02338141483,
                    60295.47374600222,
                    46035.7214060446,
                    44439.27011972567,
                    42484.1831224381,
                    39234.36315012093,
                    35947.94076276905,
                    21447.721551681578,
                    20563.97291878883,
                    18672.132203174602,
                    18324.943211420188
                  ]
                }
              ],
              "layout": {
                "height": 900,
                "template": {
                  "data": {
                    "bar": [
                      {
                        "error_x": {
                          "color": "#2a3f5f"
                        },
                        "error_y": {
                          "color": "#2a3f5f"
                        },
                        "marker": {
                          "line": {
                            "color": "#E5ECF6",
                            "width": 0.5
                          },
                          "pattern": {
                            "fillmode": "overlay",
                            "size": 10,
                            "solidity": 0.2
                          }
                        },
                        "type": "bar"
                      }
                    ],
                    "barpolar": [
                      {
                        "marker": {
                          "line": {
                            "color": "#E5ECF6",
                            "width": 0.5
                          },
                          "pattern": {
                            "fillmode": "overlay",
                            "size": 10,
                            "solidity": 0.2
                          }
                        },
                        "type": "barpolar"
                      }
                    ],
                    "carpet": [
                      {
                        "aaxis": {
                          "endlinecolor": "#2a3f5f",
                          "gridcolor": "white",
                          "linecolor": "white",
                          "minorgridcolor": "white",
                          "startlinecolor": "#2a3f5f"
                        },
                        "baxis": {
                          "endlinecolor": "#2a3f5f",
                          "gridcolor": "white",
                          "linecolor": "white",
                          "minorgridcolor": "white",
                          "startlinecolor": "#2a3f5f"
                        },
                        "type": "carpet"
                      }
                    ],
                    "choropleth": [
                      {
                        "colorbar": {
                          "outlinewidth": 0,
                          "ticks": ""
                        },
                        "type": "choropleth"
                      }
                    ],
                    "contour": [
                      {
                        "colorbar": {
                          "outlinewidth": 0,
                          "ticks": ""
                        },
                        "colorscale": [
                          [
                            0,
                            "#0d0887"
                          ],
                          [
                            0.1111111111111111,
                            "#46039f"
                          ],
                          [
                            0.2222222222222222,
                            "#7201a8"
                          ],
                          [
                            0.3333333333333333,
                            "#9c179e"
                          ],
                          [
                            0.4444444444444444,
                            "#bd3786"
                          ],
                          [
                            0.5555555555555556,
                            "#d8576b"
                          ],
                          [
                            0.6666666666666666,
                            "#ed7953"
                          ],
                          [
                            0.7777777777777778,
                            "#fb9f3a"
                          ],
                          [
                            0.8888888888888888,
                            "#fdca26"
                          ],
                          [
                            1,
                            "#f0f921"
                          ]
                        ],
                        "type": "contour"
                      }
                    ],
                    "contourcarpet": [
                      {
                        "colorbar": {
                          "outlinewidth": 0,
                          "ticks": ""
                        },
                        "type": "contourcarpet"
                      }
                    ],
                    "heatmap": [
                      {
                        "colorbar": {
                          "outlinewidth": 0,
                          "ticks": ""
                        },
                        "colorscale": [
                          [
                            0,
                            "#0d0887"
                          ],
                          [
                            0.1111111111111111,
                            "#46039f"
                          ],
                          [
                            0.2222222222222222,
                            "#7201a8"
                          ],
                          [
                            0.3333333333333333,
                            "#9c179e"
                          ],
                          [
                            0.4444444444444444,
                            "#bd3786"
                          ],
                          [
                            0.5555555555555556,
                            "#d8576b"
                          ],
                          [
                            0.6666666666666666,
                            "#ed7953"
                          ],
                          [
                            0.7777777777777778,
                            "#fb9f3a"
                          ],
                          [
                            0.8888888888888888,
                            "#fdca26"
                          ],
                          [
                            1,
                            "#f0f921"
                          ]
                        ],
                        "type": "heatmap"
                      }
                    ],
                    "heatmapgl": [
                      {
                        "colorbar": {
                          "outlinewidth": 0,
                          "ticks": ""
                        },
                        "colorscale": [
                          [
                            0,
                            "#0d0887"
                          ],
                          [
                            0.1111111111111111,
                            "#46039f"
                          ],
                          [
                            0.2222222222222222,
                            "#7201a8"
                          ],
                          [
                            0.3333333333333333,
                            "#9c179e"
                          ],
                          [
                            0.4444444444444444,
                            "#bd3786"
                          ],
                          [
                            0.5555555555555556,
                            "#d8576b"
                          ],
                          [
                            0.6666666666666666,
                            "#ed7953"
                          ],
                          [
                            0.7777777777777778,
                            "#fb9f3a"
                          ],
                          [
                            0.8888888888888888,
                            "#fdca26"
                          ],
                          [
                            1,
                            "#f0f921"
                          ]
                        ],
                        "type": "heatmapgl"
                      }
                    ],
                    "histogram": [
                      {
                        "marker": {
                          "pattern": {
                            "fillmode": "overlay",
                            "size": 10,
                            "solidity": 0.2
                          }
                        },
                        "type": "histogram"
                      }
                    ],
                    "histogram2d": [
                      {
                        "colorbar": {
                          "outlinewidth": 0,
                          "ticks": ""
                        },
                        "colorscale": [
                          [
                            0,
                            "#0d0887"
                          ],
                          [
                            0.1111111111111111,
                            "#46039f"
                          ],
                          [
                            0.2222222222222222,
                            "#7201a8"
                          ],
                          [
                            0.3333333333333333,
                            "#9c179e"
                          ],
                          [
                            0.4444444444444444,
                            "#bd3786"
                          ],
                          [
                            0.5555555555555556,
                            "#d8576b"
                          ],
                          [
                            0.6666666666666666,
                            "#ed7953"
                          ],
                          [
                            0.7777777777777778,
                            "#fb9f3a"
                          ],
                          [
                            0.8888888888888888,
                            "#fdca26"
                          ],
                          [
                            1,
                            "#f0f921"
                          ]
                        ],
                        "type": "histogram2d"
                      }
                    ],
                    "histogram2dcontour": [
                      {
                        "colorbar": {
                          "outlinewidth": 0,
                          "ticks": ""
                        },
                        "colorscale": [
                          [
                            0,
                            "#0d0887"
                          ],
                          [
                            0.1111111111111111,
                            "#46039f"
                          ],
                          [
                            0.2222222222222222,
                            "#7201a8"
                          ],
                          [
                            0.3333333333333333,
                            "#9c179e"
                          ],
                          [
                            0.4444444444444444,
                            "#bd3786"
                          ],
                          [
                            0.5555555555555556,
                            "#d8576b"
                          ],
                          [
                            0.6666666666666666,
                            "#ed7953"
                          ],
                          [
                            0.7777777777777778,
                            "#fb9f3a"
                          ],
                          [
                            0.8888888888888888,
                            "#fdca26"
                          ],
                          [
                            1,
                            "#f0f921"
                          ]
                        ],
                        "type": "histogram2dcontour"
                      }
                    ],
                    "mesh3d": [
                      {
                        "colorbar": {
                          "outlinewidth": 0,
                          "ticks": ""
                        },
                        "type": "mesh3d"
                      }
                    ],
                    "parcoords": [
                      {
                        "line": {
                          "colorbar": {
                            "outlinewidth": 0,
                            "ticks": ""
                          }
                        },
                        "type": "parcoords"
                      }
                    ],
                    "pie": [
                      {
                        "automargin": true,
                        "type": "pie"
                      }
                    ],
                    "scatter": [
                      {
                        "fillpattern": {
                          "fillmode": "overlay",
                          "size": 10,
                          "solidity": 0.2
                        },
                        "type": "scatter"
                      }
                    ],
                    "scatter3d": [
                      {
                        "line": {
                          "colorbar": {
                            "outlinewidth": 0,
                            "ticks": ""
                          }
                        },
                        "marker": {
                          "colorbar": {
                            "outlinewidth": 0,
                            "ticks": ""
                          }
                        },
                        "type": "scatter3d"
                      }
                    ],
                    "scattercarpet": [
                      {
                        "marker": {
                          "colorbar": {
                            "outlinewidth": 0,
                            "ticks": ""
                          }
                        },
                        "type": "scattercarpet"
                      }
                    ],
                    "scattergeo": [
                      {
                        "marker": {
                          "colorbar": {
                            "outlinewidth": 0,
                            "ticks": ""
                          }
                        },
                        "type": "scattergeo"
                      }
                    ],
                    "scattergl": [
                      {
                        "marker": {
                          "colorbar": {
                            "outlinewidth": 0,
                            "ticks": ""
                          }
                        },
                        "type": "scattergl"
                      }
                    ],
                    "scattermapbox": [
                      {
                        "marker": {
                          "colorbar": {
                            "outlinewidth": 0,
                            "ticks": ""
                          }
                        },
                        "type": "scattermapbox"
                      }
                    ],
                    "scatterpolar": [
                      {
                        "marker": {
                          "colorbar": {
                            "outlinewidth": 0,
                            "ticks": ""
                          }
                        },
                        "type": "scatterpolar"
                      }
                    ],
                    "scatterpolargl": [
                      {
                        "marker": {
                          "colorbar": {
                            "outlinewidth": 0,
                            "ticks": ""
                          }
                        },
                        "type": "scatterpolargl"
                      }
                    ],
                    "scatterternary": [
                      {
                        "marker": {
                          "colorbar": {
                            "outlinewidth": 0,
                            "ticks": ""
                          }
                        },
                        "type": "scatterternary"
                      }
                    ],
                    "surface": [
                      {
                        "colorbar": {
                          "outlinewidth": 0,
                          "ticks": ""
                        },
                        "colorscale": [
                          [
                            0,
                            "#0d0887"
                          ],
                          [
                            0.1111111111111111,
                            "#46039f"
                          ],
                          [
                            0.2222222222222222,
                            "#7201a8"
                          ],
                          [
                            0.3333333333333333,
                            "#9c179e"
                          ],
                          [
                            0.4444444444444444,
                            "#bd3786"
                          ],
                          [
                            0.5555555555555556,
                            "#d8576b"
                          ],
                          [
                            0.6666666666666666,
                            "#ed7953"
                          ],
                          [
                            0.7777777777777778,
                            "#fb9f3a"
                          ],
                          [
                            0.8888888888888888,
                            "#fdca26"
                          ],
                          [
                            1,
                            "#f0f921"
                          ]
                        ],
                        "type": "surface"
                      }
                    ],
                    "table": [
                      {
                        "cells": {
                          "fill": {
                            "color": "#EBF0F8"
                          },
                          "line": {
                            "color": "white"
                          }
                        },
                        "header": {
                          "fill": {
                            "color": "#C8D4E3"
                          },
                          "line": {
                            "color": "white"
                          }
                        },
                        "type": "table"
                      }
                    ]
                  },
                  "layout": {
                    "annotationdefaults": {
                      "arrowcolor": "#2a3f5f",
                      "arrowhead": 0,
                      "arrowwidth": 1
                    },
                    "autotypenumbers": "strict",
                    "coloraxis": {
                      "colorbar": {
                        "outlinewidth": 0,
                        "ticks": ""
                      }
                    },
                    "colorscale": {
                      "diverging": [
                        [
                          0,
                          "#8e0152"
                        ],
                        [
                          0.1,
                          "#c51b7d"
                        ],
                        [
                          0.2,
                          "#de77ae"
                        ],
                        [
                          0.3,
                          "#f1b6da"
                        ],
                        [
                          0.4,
                          "#fde0ef"
                        ],
                        [
                          0.5,
                          "#f7f7f7"
                        ],
                        [
                          0.6,
                          "#e6f5d0"
                        ],
                        [
                          0.7,
                          "#b8e186"
                        ],
                        [
                          0.8,
                          "#7fbc41"
                        ],
                        [
                          0.9,
                          "#4d9221"
                        ],
                        [
                          1,
                          "#276419"
                        ]
                      ],
                      "sequential": [
                        [
                          0,
                          "#0d0887"
                        ],
                        [
                          0.1111111111111111,
                          "#46039f"
                        ],
                        [
                          0.2222222222222222,
                          "#7201a8"
                        ],
                        [
                          0.3333333333333333,
                          "#9c179e"
                        ],
                        [
                          0.4444444444444444,
                          "#bd3786"
                        ],
                        [
                          0.5555555555555556,
                          "#d8576b"
                        ],
                        [
                          0.6666666666666666,
                          "#ed7953"
                        ],
                        [
                          0.7777777777777778,
                          "#fb9f3a"
                        ],
                        [
                          0.8888888888888888,
                          "#fdca26"
                        ],
                        [
                          1,
                          "#f0f921"
                        ]
                      ],
                      "sequentialminus": [
                        [
                          0,
                          "#0d0887"
                        ],
                        [
                          0.1111111111111111,
                          "#46039f"
                        ],
                        [
                          0.2222222222222222,
                          "#7201a8"
                        ],
                        [
                          0.3333333333333333,
                          "#9c179e"
                        ],
                        [
                          0.4444444444444444,
                          "#bd3786"
                        ],
                        [
                          0.5555555555555556,
                          "#d8576b"
                        ],
                        [
                          0.6666666666666666,
                          "#ed7953"
                        ],
                        [
                          0.7777777777777778,
                          "#fb9f3a"
                        ],
                        [
                          0.8888888888888888,
                          "#fdca26"
                        ],
                        [
                          1,
                          "#f0f921"
                        ]
                      ]
                    },
                    "colorway": [
                      "#636efa",
                      "#EF553B",
                      "#00cc96",
                      "#ab63fa",
                      "#FFA15A",
                      "#19d3f3",
                      "#FF6692",
                      "#B6E880",
                      "#FF97FF",
                      "#FECB52"
                    ],
                    "font": {
                      "color": "#2a3f5f"
                    },
                    "geo": {
                      "bgcolor": "white",
                      "lakecolor": "white",
                      "landcolor": "#E5ECF6",
                      "showlakes": true,
                      "showland": true,
                      "subunitcolor": "white"
                    },
                    "hoverlabel": {
                      "align": "left"
                    },
                    "hovermode": "closest",
                    "mapbox": {
                      "style": "light"
                    },
                    "paper_bgcolor": "white",
                    "plot_bgcolor": "#E5ECF6",
                    "polar": {
                      "angularaxis": {
                        "gridcolor": "white",
                        "linecolor": "white",
                        "ticks": ""
                      },
                      "bgcolor": "#E5ECF6",
                      "radialaxis": {
                        "gridcolor": "white",
                        "linecolor": "white",
                        "ticks": ""
                      }
                    },
                    "scene": {
                      "xaxis": {
                        "backgroundcolor": "#E5ECF6",
                        "gridcolor": "white",
                        "gridwidth": 2,
                        "linecolor": "white",
                        "showbackground": true,
                        "ticks": "",
                        "zerolinecolor": "white"
                      },
                      "yaxis": {
                        "backgroundcolor": "#E5ECF6",
                        "gridcolor": "white",
                        "gridwidth": 2,
                        "linecolor": "white",
                        "showbackground": true,
                        "ticks": "",
                        "zerolinecolor": "white"
                      },
                      "zaxis": {
                        "backgroundcolor": "#E5ECF6",
                        "gridcolor": "white",
                        "gridwidth": 2,
                        "linecolor": "white",
                        "showbackground": true,
                        "ticks": "",
                        "zerolinecolor": "white"
                      }
                    },
                    "shapedefaults": {
                      "line": {
                        "color": "#2a3f5f"
                      }
                    },
                    "ternary": {
                      "aaxis": {
                        "gridcolor": "white",
                        "linecolor": "white",
                        "ticks": ""
                      },
                      "baxis": {
                        "gridcolor": "white",
                        "linecolor": "white",
                        "ticks": ""
                      },
                      "bgcolor": "#E5ECF6",
                      "caxis": {
                        "gridcolor": "white",
                        "linecolor": "white",
                        "ticks": ""
                      }
                    },
                    "title": {
                      "x": 0.05
                    },
                    "xaxis": {
                      "automargin": true,
                      "gridcolor": "white",
                      "linecolor": "white",
                      "ticks": "",
                      "title": {
                        "standoff": 15
                      },
                      "zerolinecolor": "white",
                      "zerolinewidth": 2
                    },
                    "yaxis": {
                      "automargin": true,
                      "gridcolor": "white",
                      "linecolor": "white",
                      "ticks": "",
                      "title": {
                        "standoff": 15
                      },
                      "zerolinecolor": "white",
                      "zerolinewidth": 2
                    }
                  }
                },
                "title": {
                  "text": "Распределение скорректированного ВВП среди топ-15 стран"
                },
                "width": 900
              }
            }
          },
          "metadata": {},
          "output_type": "display_data"
        }
      ],
      "source": [
        "df_gdp: pd.DataFrame = quality_life.sort_values(by='Corrected_GDP', ascending=False).head(15)\n",
        "\n",
        "fig = go.Figure()\n",
        "\n",
        "fig.add_trace(go.Pie(\n",
        "    labels = df_gdp['Country'],\n",
        "    values = df_gdp['Corrected_GDP'],\n",
        "    textinfo = 'percent+label'\n",
        "))\n",
        "\n",
        "fig.update_layout(\n",
        "    title = \"Распределение скорректированного ВВП среди топ-15 стран\",\n",
        "    width = 900,\n",
        "    height = 900\n",
        ")\n",
        "fig.show()"
      ]
    },
    {
      "cell_type": "markdown",
      "id": "TsdLprE6GBXv",
      "metadata": {
        "id": "TsdLprE6GBXv"
      },
      "source": [
        "Давайте теперь посмотрим на наш новый признак - скорректированный ВВП с учетом неравенства и стоимости жизни. Если мы рассмотрим только топ-15 стран по данному показателю, то половина суммарного скорректированного ВВП приходится на Китай и США. Далее идут Япония, Франция и Германия, но уже с заметно сильным отрывом. Удивительно, что из всех этих стран только Япония была в лидерах по продолжительности жизни. Значит, всё-таки даже пусть и скорректированный ВВП не прям сильно связан с продолжительностью жизни."
      ]
    },
    {
      "cell_type": "code",
      "execution_count": 99,
      "id": "78b0d98e",
      "metadata": {},
      "outputs": [
        {
          "data": {
            "application/vnd.plotly.v1+json": {
              "config": {
                "plotlyServerURL": "https://plot.ly"
              },
              "data": [
                {
                  "marker": {
                    "color": "blue",
                    "opacity": 0.7,
                    "size": 9
                  },
                  "mode": "markers+text",
                  "name": "Страны",
                  "text": [
                    "Afghanistan",
                    "Albania",
                    "Algeria",
                    "Angola",
                    "Argentina",
                    "Armenia",
                    "Australia",
                    "Austria",
                    "Azerbaijan",
                    "Bahrain",
                    "Bangladesh",
                    "Belarus",
                    "Belgium",
                    "Bermuda",
                    "Bolivia",
                    "Bosnia and Herzegovina",
                    "Brazil",
                    "Bulgaria",
                    "Burma",
                    "Burundi",
                    "Cambodia",
                    "Cameroon",
                    "Canada",
                    "Chad",
                    "Chile",
                    "China",
                    "Colombia",
                    "Congo (Dem. Republic)",
                    "Costa Rica",
                    "Croatia",
                    "Cyprus",
                    "Czechia",
                    "Denmark",
                    "Dominican Republic",
                    "Ecuador",
                    "Egypt",
                    "El Salvador",
                    "Estonia",
                    "Ethiopia",
                    "Finland",
                    "France",
                    "Gabon",
                    "Gambia",
                    "Georgia",
                    "Germany",
                    "Ghana",
                    "Greece",
                    "Guatemala",
                    "Honduras",
                    "Hong Kong",
                    "Hungary",
                    "Iceland",
                    "India",
                    "Indonesia",
                    "Iran",
                    "Iraq",
                    "Ireland",
                    "Israel",
                    "Italy",
                    "Ivory Coast",
                    "Jamaica",
                    "Japan",
                    "Jordan",
                    "Kazakhstan",
                    "Kenya",
                    "Kuwait",
                    "Kyrgyzstan",
                    "Laos",
                    "Latvia",
                    "Lebanon",
                    "Lesotho",
                    "Lithuania",
                    "Luxembourg",
                    "Macao",
                    "Madagascar",
                    "Malawi",
                    "Malaysia",
                    "Maldives",
                    "Malta",
                    "Mexico",
                    "Moldova",
                    "Mongolia",
                    "Montenegro",
                    "Morocco",
                    "Mozambique",
                    "Nepal",
                    "Netherlands",
                    "New Zealand",
                    "Nicaragua",
                    "Nigeria",
                    "North Macedonia",
                    "Norway",
                    "Oman",
                    "Pakistan",
                    "Paraguay",
                    "Peru",
                    "Philippines",
                    "Poland",
                    "Portugal",
                    "Qatar",
                    "Romania",
                    "Russia",
                    "Rwanda",
                    "Samoa",
                    "San Marino",
                    "Saudi Arabia",
                    "Senegal",
                    "Serbia",
                    "Sierra Leone",
                    "Singapore",
                    "Slovakia",
                    "Slovenia",
                    "South Africa",
                    "South Korea",
                    "Spain",
                    "Sri Lanka",
                    "Sudan",
                    "Suriname",
                    "Sweden",
                    "Switzerland",
                    "Tajikistan",
                    "Tanzania",
                    "Thailand",
                    "Timor-Leste",
                    "Togo",
                    "Trinidad and Tobago",
                    "Tunisia",
                    "Turkey",
                    "Uganda",
                    "Ukraine",
                    "United Arab Emirates",
                    "United Kingdom",
                    "United States",
                    "Uruguay",
                    "Vietnam",
                    "Zambia",
                    "Zimbabwe"
                  ],
                  "textposition": "top left",
                  "type": "scatter",
                  "x": [
                    20,
                    64,
                    61,
                    10,
                    79,
                    70,
                    87,
                    97,
                    70,
                    61,
                    44,
                    82,
                    88,
                    96,
                    45,
                    69,
                    63,
                    81,
                    32,
                    9,
                    28,
                    9,
                    78,
                    0,
                    68,
                    67,
                    62,
                    6,
                    64,
                    80,
                    77,
                    90,
                    85,
                    52,
                    60,
                    44,
                    49,
                    81,
                    16,
                    87,
                    91,
                    32,
                    21,
                    67,
                    96,
                    26,
                    89,
                    44,
                    46,
                    100,
                    81,
                    87,
                    35,
                    39,
                    60,
                    42,
                    82,
                    84,
                    87,
                    11,
                    51,
                    92,
                    60,
                    69,
                    25,
                    66,
                    57,
                    30,
                    77,
                    65,
                    12,
                    82,
                    85,
                    100,
                    22,
                    20,
                    61,
                    72,
                    91,
                    54,
                    67,
                    60,
                    68,
                    53,
                    10,
                    34,
                    83,
                    81,
                    45,
                    12,
                    70,
                    90,
                    64,
                    31,
                    51,
                    54,
                    45,
                    79,
                    82,
                    62,
                    73,
                    74,
                    27,
                    50,
                    91,
                    61,
                    33,
                    71,
                    6,
                    79,
                    77,
                    83,
                    31,
                    92,
                    87,
                    62,
                    18,
                    50,
                    85,
                    93,
                    53,
                    21,
                    65,
                    42,
                    12,
                    61,
                    60,
                    64,
                    14,
                    71,
                    65,
                    78,
                    71,
                    75,
                    54,
                    18,
                    13
                  ],
                  "y": [
                    61.9824,
                    76.4626,
                    76.3767,
                    61.6434,
                    75.3899,
                    72.0431,
                    84.5265,
                    81.5797,
                    69.3658,
                    78.7605,
                    72.3811,
                    72.438,
                    81.8787,
                    79.2801,
                    63.6304,
                    75.3003,
                    72.7504,
                    71.798,
                    69.1,
                    61.6627,
                    69.5835,
                    60.3334,
                    82.6565,
                    52.5254,
                    78.9435,
                    78.2107,
                    72.8296,
                    63.5,
                    77.0232,
                    77.5804,
                    81.2033,
                    77.7283,
                    81.3753,
                    72.6146,
                    73.67,
                    70.2207,
                    70.7479,
                    77.1436,
                    64.9748,
                    82.0381,
                    82.4988,
                    65.821,
                    62.083,
                    71.694,
                    80.6301,
                    63.7954,
                    80.1106,
                    69.2368,
                    70.1229,
                    85.4734,
                    74.5301,
                    82.6782,
                    67.2398,
                    67.5703,
                    73.8749,
                    70.3779,
                    81.9976,
                    82.255,
                    82.8502,
                    61.9,
                    70.5003,
                    84.7839,
                    74.2563,
                    69.3622,
                    61.427,
                    78.6729,
                    69.9774,
                    68.0608,
                    73.5786,
                    75.0472,
                    53.062,
                    73.7201,
                    82.6287,
                    85.3994,
                    64.4853,
                    62.9044,
                    74.8839,
                    79.9182,
                    83.7769,
                    70.2127,
                    68.8459,
                    70.9754,
                    76.3426,
                    74.0419,
                    59.3247,
                    68.4495,
                    81.6873,
                    82.4513,
                    73.8368,
                    52.676,
                    73.8415,
                    83.2339,
                    72.5406,
                    66.0979,
                    70.2617,
                    72.3769,
                    69.2664,
                    76.4572,
                    81.0443,
                    79.2716,
                    74.1847,
                    69.419,
                    66.0722,
                    72.7675,
                    80.8786,
                    76.936,
                    67.0926,
                    74.1923,
                    60.0624,
                    82.7545,
                    74.9101,
                    80.6904,
                    62.341,
                    83.6978,
                    83.01,
                    76.3991,
                    65.2667,
                    70.2743,
                    82.9833,
                    83.9872,
                    71.5942,
                    66.2007,
                    78.7154,
                    67,
                    61.6194,
                    72.9709,
                    73.7719,
                    76.0324,
                    62.7048,
                    71.624,
                    78.7104,
                    80.7422,
                    77.1982,
                    75.4356,
                    73.6181,
                    61.2234,
                    59.2531
                  ]
                }
              ],
              "layout": {
                "height": 600,
                "template": {
                  "data": {
                    "bar": [
                      {
                        "error_x": {
                          "color": "#2a3f5f"
                        },
                        "error_y": {
                          "color": "#2a3f5f"
                        },
                        "marker": {
                          "line": {
                            "color": "#E5ECF6",
                            "width": 0.5
                          },
                          "pattern": {
                            "fillmode": "overlay",
                            "size": 10,
                            "solidity": 0.2
                          }
                        },
                        "type": "bar"
                      }
                    ],
                    "barpolar": [
                      {
                        "marker": {
                          "line": {
                            "color": "#E5ECF6",
                            "width": 0.5
                          },
                          "pattern": {
                            "fillmode": "overlay",
                            "size": 10,
                            "solidity": 0.2
                          }
                        },
                        "type": "barpolar"
                      }
                    ],
                    "carpet": [
                      {
                        "aaxis": {
                          "endlinecolor": "#2a3f5f",
                          "gridcolor": "white",
                          "linecolor": "white",
                          "minorgridcolor": "white",
                          "startlinecolor": "#2a3f5f"
                        },
                        "baxis": {
                          "endlinecolor": "#2a3f5f",
                          "gridcolor": "white",
                          "linecolor": "white",
                          "minorgridcolor": "white",
                          "startlinecolor": "#2a3f5f"
                        },
                        "type": "carpet"
                      }
                    ],
                    "choropleth": [
                      {
                        "colorbar": {
                          "outlinewidth": 0,
                          "ticks": ""
                        },
                        "type": "choropleth"
                      }
                    ],
                    "contour": [
                      {
                        "colorbar": {
                          "outlinewidth": 0,
                          "ticks": ""
                        },
                        "colorscale": [
                          [
                            0,
                            "#0d0887"
                          ],
                          [
                            0.1111111111111111,
                            "#46039f"
                          ],
                          [
                            0.2222222222222222,
                            "#7201a8"
                          ],
                          [
                            0.3333333333333333,
                            "#9c179e"
                          ],
                          [
                            0.4444444444444444,
                            "#bd3786"
                          ],
                          [
                            0.5555555555555556,
                            "#d8576b"
                          ],
                          [
                            0.6666666666666666,
                            "#ed7953"
                          ],
                          [
                            0.7777777777777778,
                            "#fb9f3a"
                          ],
                          [
                            0.8888888888888888,
                            "#fdca26"
                          ],
                          [
                            1,
                            "#f0f921"
                          ]
                        ],
                        "type": "contour"
                      }
                    ],
                    "contourcarpet": [
                      {
                        "colorbar": {
                          "outlinewidth": 0,
                          "ticks": ""
                        },
                        "type": "contourcarpet"
                      }
                    ],
                    "heatmap": [
                      {
                        "colorbar": {
                          "outlinewidth": 0,
                          "ticks": ""
                        },
                        "colorscale": [
                          [
                            0,
                            "#0d0887"
                          ],
                          [
                            0.1111111111111111,
                            "#46039f"
                          ],
                          [
                            0.2222222222222222,
                            "#7201a8"
                          ],
                          [
                            0.3333333333333333,
                            "#9c179e"
                          ],
                          [
                            0.4444444444444444,
                            "#bd3786"
                          ],
                          [
                            0.5555555555555556,
                            "#d8576b"
                          ],
                          [
                            0.6666666666666666,
                            "#ed7953"
                          ],
                          [
                            0.7777777777777778,
                            "#fb9f3a"
                          ],
                          [
                            0.8888888888888888,
                            "#fdca26"
                          ],
                          [
                            1,
                            "#f0f921"
                          ]
                        ],
                        "type": "heatmap"
                      }
                    ],
                    "heatmapgl": [
                      {
                        "colorbar": {
                          "outlinewidth": 0,
                          "ticks": ""
                        },
                        "colorscale": [
                          [
                            0,
                            "#0d0887"
                          ],
                          [
                            0.1111111111111111,
                            "#46039f"
                          ],
                          [
                            0.2222222222222222,
                            "#7201a8"
                          ],
                          [
                            0.3333333333333333,
                            "#9c179e"
                          ],
                          [
                            0.4444444444444444,
                            "#bd3786"
                          ],
                          [
                            0.5555555555555556,
                            "#d8576b"
                          ],
                          [
                            0.6666666666666666,
                            "#ed7953"
                          ],
                          [
                            0.7777777777777778,
                            "#fb9f3a"
                          ],
                          [
                            0.8888888888888888,
                            "#fdca26"
                          ],
                          [
                            1,
                            "#f0f921"
                          ]
                        ],
                        "type": "heatmapgl"
                      }
                    ],
                    "histogram": [
                      {
                        "marker": {
                          "pattern": {
                            "fillmode": "overlay",
                            "size": 10,
                            "solidity": 0.2
                          }
                        },
                        "type": "histogram"
                      }
                    ],
                    "histogram2d": [
                      {
                        "colorbar": {
                          "outlinewidth": 0,
                          "ticks": ""
                        },
                        "colorscale": [
                          [
                            0,
                            "#0d0887"
                          ],
                          [
                            0.1111111111111111,
                            "#46039f"
                          ],
                          [
                            0.2222222222222222,
                            "#7201a8"
                          ],
                          [
                            0.3333333333333333,
                            "#9c179e"
                          ],
                          [
                            0.4444444444444444,
                            "#bd3786"
                          ],
                          [
                            0.5555555555555556,
                            "#d8576b"
                          ],
                          [
                            0.6666666666666666,
                            "#ed7953"
                          ],
                          [
                            0.7777777777777778,
                            "#fb9f3a"
                          ],
                          [
                            0.8888888888888888,
                            "#fdca26"
                          ],
                          [
                            1,
                            "#f0f921"
                          ]
                        ],
                        "type": "histogram2d"
                      }
                    ],
                    "histogram2dcontour": [
                      {
                        "colorbar": {
                          "outlinewidth": 0,
                          "ticks": ""
                        },
                        "colorscale": [
                          [
                            0,
                            "#0d0887"
                          ],
                          [
                            0.1111111111111111,
                            "#46039f"
                          ],
                          [
                            0.2222222222222222,
                            "#7201a8"
                          ],
                          [
                            0.3333333333333333,
                            "#9c179e"
                          ],
                          [
                            0.4444444444444444,
                            "#bd3786"
                          ],
                          [
                            0.5555555555555556,
                            "#d8576b"
                          ],
                          [
                            0.6666666666666666,
                            "#ed7953"
                          ],
                          [
                            0.7777777777777778,
                            "#fb9f3a"
                          ],
                          [
                            0.8888888888888888,
                            "#fdca26"
                          ],
                          [
                            1,
                            "#f0f921"
                          ]
                        ],
                        "type": "histogram2dcontour"
                      }
                    ],
                    "mesh3d": [
                      {
                        "colorbar": {
                          "outlinewidth": 0,
                          "ticks": ""
                        },
                        "type": "mesh3d"
                      }
                    ],
                    "parcoords": [
                      {
                        "line": {
                          "colorbar": {
                            "outlinewidth": 0,
                            "ticks": ""
                          }
                        },
                        "type": "parcoords"
                      }
                    ],
                    "pie": [
                      {
                        "automargin": true,
                        "type": "pie"
                      }
                    ],
                    "scatter": [
                      {
                        "fillpattern": {
                          "fillmode": "overlay",
                          "size": 10,
                          "solidity": 0.2
                        },
                        "type": "scatter"
                      }
                    ],
                    "scatter3d": [
                      {
                        "line": {
                          "colorbar": {
                            "outlinewidth": 0,
                            "ticks": ""
                          }
                        },
                        "marker": {
                          "colorbar": {
                            "outlinewidth": 0,
                            "ticks": ""
                          }
                        },
                        "type": "scatter3d"
                      }
                    ],
                    "scattercarpet": [
                      {
                        "marker": {
                          "colorbar": {
                            "outlinewidth": 0,
                            "ticks": ""
                          }
                        },
                        "type": "scattercarpet"
                      }
                    ],
                    "scattergeo": [
                      {
                        "marker": {
                          "colorbar": {
                            "outlinewidth": 0,
                            "ticks": ""
                          }
                        },
                        "type": "scattergeo"
                      }
                    ],
                    "scattergl": [
                      {
                        "marker": {
                          "colorbar": {
                            "outlinewidth": 0,
                            "ticks": ""
                          }
                        },
                        "type": "scattergl"
                      }
                    ],
                    "scattermapbox": [
                      {
                        "marker": {
                          "colorbar": {
                            "outlinewidth": 0,
                            "ticks": ""
                          }
                        },
                        "type": "scattermapbox"
                      }
                    ],
                    "scatterpolar": [
                      {
                        "marker": {
                          "colorbar": {
                            "outlinewidth": 0,
                            "ticks": ""
                          }
                        },
                        "type": "scatterpolar"
                      }
                    ],
                    "scatterpolargl": [
                      {
                        "marker": {
                          "colorbar": {
                            "outlinewidth": 0,
                            "ticks": ""
                          }
                        },
                        "type": "scatterpolargl"
                      }
                    ],
                    "scatterternary": [
                      {
                        "marker": {
                          "colorbar": {
                            "outlinewidth": 0,
                            "ticks": ""
                          }
                        },
                        "type": "scatterternary"
                      }
                    ],
                    "surface": [
                      {
                        "colorbar": {
                          "outlinewidth": 0,
                          "ticks": ""
                        },
                        "colorscale": [
                          [
                            0,
                            "#0d0887"
                          ],
                          [
                            0.1111111111111111,
                            "#46039f"
                          ],
                          [
                            0.2222222222222222,
                            "#7201a8"
                          ],
                          [
                            0.3333333333333333,
                            "#9c179e"
                          ],
                          [
                            0.4444444444444444,
                            "#bd3786"
                          ],
                          [
                            0.5555555555555556,
                            "#d8576b"
                          ],
                          [
                            0.6666666666666666,
                            "#ed7953"
                          ],
                          [
                            0.7777777777777778,
                            "#fb9f3a"
                          ],
                          [
                            0.8888888888888888,
                            "#fdca26"
                          ],
                          [
                            1,
                            "#f0f921"
                          ]
                        ],
                        "type": "surface"
                      }
                    ],
                    "table": [
                      {
                        "cells": {
                          "fill": {
                            "color": "#EBF0F8"
                          },
                          "line": {
                            "color": "white"
                          }
                        },
                        "header": {
                          "fill": {
                            "color": "#C8D4E3"
                          },
                          "line": {
                            "color": "white"
                          }
                        },
                        "type": "table"
                      }
                    ]
                  },
                  "layout": {
                    "annotationdefaults": {
                      "arrowcolor": "#2a3f5f",
                      "arrowhead": 0,
                      "arrowwidth": 1
                    },
                    "autotypenumbers": "strict",
                    "coloraxis": {
                      "colorbar": {
                        "outlinewidth": 0,
                        "ticks": ""
                      }
                    },
                    "colorscale": {
                      "diverging": [
                        [
                          0,
                          "#8e0152"
                        ],
                        [
                          0.1,
                          "#c51b7d"
                        ],
                        [
                          0.2,
                          "#de77ae"
                        ],
                        [
                          0.3,
                          "#f1b6da"
                        ],
                        [
                          0.4,
                          "#fde0ef"
                        ],
                        [
                          0.5,
                          "#f7f7f7"
                        ],
                        [
                          0.6,
                          "#e6f5d0"
                        ],
                        [
                          0.7,
                          "#b8e186"
                        ],
                        [
                          0.8,
                          "#7fbc41"
                        ],
                        [
                          0.9,
                          "#4d9221"
                        ],
                        [
                          1,
                          "#276419"
                        ]
                      ],
                      "sequential": [
                        [
                          0,
                          "#0d0887"
                        ],
                        [
                          0.1111111111111111,
                          "#46039f"
                        ],
                        [
                          0.2222222222222222,
                          "#7201a8"
                        ],
                        [
                          0.3333333333333333,
                          "#9c179e"
                        ],
                        [
                          0.4444444444444444,
                          "#bd3786"
                        ],
                        [
                          0.5555555555555556,
                          "#d8576b"
                        ],
                        [
                          0.6666666666666666,
                          "#ed7953"
                        ],
                        [
                          0.7777777777777778,
                          "#fb9f3a"
                        ],
                        [
                          0.8888888888888888,
                          "#fdca26"
                        ],
                        [
                          1,
                          "#f0f921"
                        ]
                      ],
                      "sequentialminus": [
                        [
                          0,
                          "#0d0887"
                        ],
                        [
                          0.1111111111111111,
                          "#46039f"
                        ],
                        [
                          0.2222222222222222,
                          "#7201a8"
                        ],
                        [
                          0.3333333333333333,
                          "#9c179e"
                        ],
                        [
                          0.4444444444444444,
                          "#bd3786"
                        ],
                        [
                          0.5555555555555556,
                          "#d8576b"
                        ],
                        [
                          0.6666666666666666,
                          "#ed7953"
                        ],
                        [
                          0.7777777777777778,
                          "#fb9f3a"
                        ],
                        [
                          0.8888888888888888,
                          "#fdca26"
                        ],
                        [
                          1,
                          "#f0f921"
                        ]
                      ]
                    },
                    "colorway": [
                      "#636efa",
                      "#EF553B",
                      "#00cc96",
                      "#ab63fa",
                      "#FFA15A",
                      "#19d3f3",
                      "#FF6692",
                      "#B6E880",
                      "#FF97FF",
                      "#FECB52"
                    ],
                    "font": {
                      "color": "#2a3f5f"
                    },
                    "geo": {
                      "bgcolor": "white",
                      "lakecolor": "white",
                      "landcolor": "#E5ECF6",
                      "showlakes": true,
                      "showland": true,
                      "subunitcolor": "white"
                    },
                    "hoverlabel": {
                      "align": "left"
                    },
                    "hovermode": "closest",
                    "mapbox": {
                      "style": "light"
                    },
                    "paper_bgcolor": "white",
                    "plot_bgcolor": "#E5ECF6",
                    "polar": {
                      "angularaxis": {
                        "gridcolor": "white",
                        "linecolor": "white",
                        "ticks": ""
                      },
                      "bgcolor": "#E5ECF6",
                      "radialaxis": {
                        "gridcolor": "white",
                        "linecolor": "white",
                        "ticks": ""
                      }
                    },
                    "scene": {
                      "xaxis": {
                        "backgroundcolor": "#E5ECF6",
                        "gridcolor": "white",
                        "gridwidth": 2,
                        "linecolor": "white",
                        "showbackground": true,
                        "ticks": "",
                        "zerolinecolor": "white"
                      },
                      "yaxis": {
                        "backgroundcolor": "#E5ECF6",
                        "gridcolor": "white",
                        "gridwidth": 2,
                        "linecolor": "white",
                        "showbackground": true,
                        "ticks": "",
                        "zerolinecolor": "white"
                      },
                      "zaxis": {
                        "backgroundcolor": "#E5ECF6",
                        "gridcolor": "white",
                        "gridwidth": 2,
                        "linecolor": "white",
                        "showbackground": true,
                        "ticks": "",
                        "zerolinecolor": "white"
                      }
                    },
                    "shapedefaults": {
                      "line": {
                        "color": "#2a3f5f"
                      }
                    },
                    "ternary": {
                      "aaxis": {
                        "gridcolor": "white",
                        "linecolor": "white",
                        "ticks": ""
                      },
                      "baxis": {
                        "gridcolor": "white",
                        "linecolor": "white",
                        "ticks": ""
                      },
                      "bgcolor": "#E5ECF6",
                      "caxis": {
                        "gridcolor": "white",
                        "linecolor": "white",
                        "ticks": ""
                      }
                    },
                    "title": {
                      "x": 0.05
                    },
                    "xaxis": {
                      "automargin": true,
                      "gridcolor": "white",
                      "linecolor": "white",
                      "ticks": "",
                      "title": {
                        "standoff": 15
                      },
                      "zerolinecolor": "white",
                      "zerolinewidth": 2
                    },
                    "yaxis": {
                      "automargin": true,
                      "gridcolor": "white",
                      "linecolor": "white",
                      "ticks": "",
                      "title": {
                        "standoff": 15
                      },
                      "zerolinecolor": "white",
                      "zerolinewidth": 2
                    }
                  }
                },
                "title": {
                  "text": "Продолжительность жизни и качество системы здравоохранения"
                },
                "width": 1000,
                "xaxis": {
                  "title": {
                    "text": "Health"
                  }
                },
                "yaxis": {
                  "title": {
                    "text": "Life expectancy"
                  }
                }
              }
            }
          },
          "metadata": {},
          "output_type": "display_data"
        }
      ],
      "source": [
        "fig = go.Figure()\n",
        "\n",
        "fig.add_trace(go.Scatter(\n",
        "    x = quality_life['Health'],\n",
        "    y = quality_life['Life expectancy'],\n",
        "    mode = 'markers+text',\n",
        "    marker = dict(size=9, color='blue', opacity=0.7),\n",
        "    text = quality_life['Country'],\n",
        "    textposition = 'top left',\n",
        "    name = \"Страны\"\n",
        "))\n",
        "\n",
        "fig.update_layout(\n",
        "    title = \"Продолжительность жизни и качество системы здравоохранения\",\n",
        "    xaxis_title = \"Health\",\n",
        "    yaxis_title = \"Life expectancy\",\n",
        "    width = 1000,\n",
        "    height = 600\n",
        ")\n",
        "\n",
        "fig.show()"
      ]
    },
    {
      "cell_type": "markdown",
      "id": "nb2jkigaK264",
      "metadata": {
        "id": "nb2jkigaK264"
      },
      "source": [
        "Кажется это то, что мы искали. На диаграмме рассеивания явно видно, что между продолжительностью жизни и качеством системы здравоохранения есть положительная корелляция. Это и вполне логично, ведь для поддержания своей жизни в старости нужно хорошее качество медицинских услуг и их доступность. Давайте теперь попробуем отыскать еще какие-то закономерности, посмотрев на разные графики."
      ]
    },
    {
      "cell_type": "code",
      "execution_count": 100,
      "id": "Svwj07YoLXmH",
      "metadata": {
        "colab": {
          "base_uri": "https://localhost:8080/",
          "height": 601
        },
        "id": "Svwj07YoLXmH",
        "outputId": "f87bbea7-1fc3-4d20-d378-cabc138b89a6"
      },
      "outputs": [
        {
          "data": {
            "application/vnd.plotly.v1+json": {
              "config": {
                "plotlyServerURL": "https://plot.ly"
              },
              "data": [
                {
                  "hoverinfo": "text+x+y",
                  "hovertext": [
                    "Afghanistan",
                    "Albania",
                    "Algeria",
                    "Angola",
                    "Argentina",
                    "Armenia",
                    "Australia",
                    "Austria",
                    "Azerbaijan",
                    "Bahrain",
                    "Bangladesh",
                    "Belarus",
                    "Belgium",
                    "Bermuda",
                    "Bolivia",
                    "Bosnia and Herzegovina",
                    "Brazil",
                    "Bulgaria",
                    "Burma",
                    "Burundi",
                    "Cambodia",
                    "Cameroon",
                    "Canada",
                    "Chad",
                    "Chile",
                    "China",
                    "Colombia",
                    "Congo (Dem. Republic)",
                    "Costa Rica",
                    "Croatia",
                    "Cyprus",
                    "Czechia",
                    "Denmark",
                    "Dominican Republic",
                    "Ecuador",
                    "Egypt",
                    "El Salvador",
                    "Estonia",
                    "Ethiopia",
                    "Finland",
                    "France",
                    "Gabon",
                    "Gambia",
                    "Georgia",
                    "Germany",
                    "Ghana",
                    "Greece",
                    "Guatemala",
                    "Honduras",
                    "Hong Kong",
                    "Hungary",
                    "Iceland",
                    "India",
                    "Indonesia",
                    "Iran",
                    "Iraq",
                    "Ireland",
                    "Israel",
                    "Italy",
                    "Ivory Coast",
                    "Jamaica",
                    "Japan",
                    "Jordan",
                    "Kazakhstan",
                    "Kenya",
                    "Kuwait",
                    "Kyrgyzstan",
                    "Laos",
                    "Latvia",
                    "Lebanon",
                    "Lesotho",
                    "Lithuania",
                    "Luxembourg",
                    "Macao",
                    "Madagascar",
                    "Malawi",
                    "Malaysia",
                    "Maldives",
                    "Malta",
                    "Mexico",
                    "Moldova",
                    "Mongolia",
                    "Montenegro",
                    "Morocco",
                    "Mozambique",
                    "Nepal",
                    "Netherlands",
                    "New Zealand",
                    "Nicaragua",
                    "Nigeria",
                    "North Macedonia",
                    "Norway",
                    "Oman",
                    "Pakistan",
                    "Paraguay",
                    "Peru",
                    "Philippines",
                    "Poland",
                    "Portugal",
                    "Qatar",
                    "Romania",
                    "Russia",
                    "Rwanda",
                    "Samoa",
                    "San Marino",
                    "Saudi Arabia",
                    "Senegal",
                    "Serbia",
                    "Sierra Leone",
                    "Singapore",
                    "Slovakia",
                    "Slovenia",
                    "South Africa",
                    "South Korea",
                    "Spain",
                    "Sri Lanka",
                    "Sudan",
                    "Suriname",
                    "Sweden",
                    "Switzerland",
                    "Tajikistan",
                    "Tanzania",
                    "Thailand",
                    "Timor-Leste",
                    "Togo",
                    "Trinidad and Tobago",
                    "Tunisia",
                    "Turkey",
                    "Uganda",
                    "Ukraine",
                    "United Arab Emirates",
                    "United Kingdom",
                    "United States",
                    "Uruguay",
                    "Vietnam",
                    "Zambia",
                    "Zimbabwe"
                  ],
                  "marker": {
                    "color": "orange",
                    "opacity": 0.8,
                    "size": 10
                  },
                  "mode": "markers",
                  "name": "Страны",
                  "type": "scatter",
                  "x": [
                    58,
                    55,
                    78,
                    63,
                    77,
                    50,
                    90,
                    27,
                    56,
                    63,
                    50,
                    22,
                    20,
                    68,
                    85,
                    49,
                    65,
                    50,
                    50,
                    76,
                    52,
                    60,
                    33,
                    50,
                    47,
                    56,
                    61,
                    54,
                    44,
                    57,
                    75,
                    22,
                    17,
                    60,
                    57,
                    68,
                    66,
                    17,
                    81,
                    17,
                    41,
                    44,
                    57,
                    44,
                    21,
                    56,
                    69,
                    61,
                    78,
                    49,
                    42,
                    7,
                    67,
                    39,
                    56,
                    37,
                    2,
                    81,
                    57,
                    52,
                    73,
                    58,
                    52,
                    40,
                    92,
                    32,
                    48,
                    48,
                    19,
                    71,
                    89,
                    20,
                    25,
                    48,
                    77,
                    82,
                    44,
                    62,
                    75,
                    83,
                    40,
                    44,
                    53,
                    81,
                    80,
                    56,
                    20,
                    35,
                    61,
                    53,
                    56,
                    16,
                    43,
                    72,
                    78,
                    70,
                    49,
                    26,
                    68,
                    60,
                    37,
                    33,
                    60,
                    46,
                    62,
                    52,
                    52,
                    51,
                    43,
                    45,
                    34,
                    40,
                    95,
                    56,
                    74,
                    57,
                    40,
                    35,
                    20,
                    34,
                    48,
                    88,
                    46,
                    72,
                    50,
                    51,
                    79,
                    62,
                    71,
                    33,
                    62,
                    6,
                    66,
                    77,
                    52,
                    68,
                    91
                  ],
                  "y": [
                    63,
                    26,
                    36,
                    31,
                    38,
                    23,
                    41,
                    47,
                    19,
                    28,
                    33,
                    37,
                    40,
                    35,
                    33,
                    26,
                    35,
                    40,
                    33,
                    54,
                    35,
                    34,
                    62,
                    44,
                    36,
                    57,
                    28,
                    36,
                    32,
                    40,
                    50,
                    59,
                    45,
                    30,
                    27,
                    52,
                    14,
                    26,
                    43,
                    32,
                    71,
                    73,
                    31,
                    36,
                    42,
                    38,
                    43,
                    26,
                    23,
                    41,
                    57,
                    33,
                    59,
                    38,
                    40,
                    33,
                    42,
                    33,
                    65,
                    37,
                    18,
                    36,
                    27,
                    33,
                    44,
                    25,
                    30,
                    34,
                    24,
                    46,
                    37,
                    23,
                    42,
                    44,
                    33,
                    40,
                    41,
                    18,
                    44,
                    69,
                    15,
                    31,
                    24,
                    36,
                    36,
                    28,
                    37,
                    37,
                    25,
                    41,
                    36,
                    37,
                    31,
                    41,
                    35,
                    34,
                    34,
                    69,
                    37,
                    38,
                    25,
                    42,
                    37,
                    14,
                    47,
                    55,
                    36,
                    11,
                    48,
                    39,
                    41,
                    32,
                    40,
                    39,
                    66,
                    33,
                    24,
                    38,
                    37,
                    46,
                    34,
                    46,
                    63,
                    23,
                    39,
                    30,
                    39,
                    50,
                    37,
                    38,
                    28,
                    42,
                    67,
                    30,
                    33,
                    47,
                    36
                  ]
                }
              ],
              "layout": {
                "height": 600,
                "template": {
                  "data": {
                    "bar": [
                      {
                        "error_x": {
                          "color": "#2a3f5f"
                        },
                        "error_y": {
                          "color": "#2a3f5f"
                        },
                        "marker": {
                          "line": {
                            "color": "#E5ECF6",
                            "width": 0.5
                          },
                          "pattern": {
                            "fillmode": "overlay",
                            "size": 10,
                            "solidity": 0.2
                          }
                        },
                        "type": "bar"
                      }
                    ],
                    "barpolar": [
                      {
                        "marker": {
                          "line": {
                            "color": "#E5ECF6",
                            "width": 0.5
                          },
                          "pattern": {
                            "fillmode": "overlay",
                            "size": 10,
                            "solidity": 0.2
                          }
                        },
                        "type": "barpolar"
                      }
                    ],
                    "carpet": [
                      {
                        "aaxis": {
                          "endlinecolor": "#2a3f5f",
                          "gridcolor": "white",
                          "linecolor": "white",
                          "minorgridcolor": "white",
                          "startlinecolor": "#2a3f5f"
                        },
                        "baxis": {
                          "endlinecolor": "#2a3f5f",
                          "gridcolor": "white",
                          "linecolor": "white",
                          "minorgridcolor": "white",
                          "startlinecolor": "#2a3f5f"
                        },
                        "type": "carpet"
                      }
                    ],
                    "choropleth": [
                      {
                        "colorbar": {
                          "outlinewidth": 0,
                          "ticks": ""
                        },
                        "type": "choropleth"
                      }
                    ],
                    "contour": [
                      {
                        "colorbar": {
                          "outlinewidth": 0,
                          "ticks": ""
                        },
                        "colorscale": [
                          [
                            0,
                            "#0d0887"
                          ],
                          [
                            0.1111111111111111,
                            "#46039f"
                          ],
                          [
                            0.2222222222222222,
                            "#7201a8"
                          ],
                          [
                            0.3333333333333333,
                            "#9c179e"
                          ],
                          [
                            0.4444444444444444,
                            "#bd3786"
                          ],
                          [
                            0.5555555555555556,
                            "#d8576b"
                          ],
                          [
                            0.6666666666666666,
                            "#ed7953"
                          ],
                          [
                            0.7777777777777778,
                            "#fb9f3a"
                          ],
                          [
                            0.8888888888888888,
                            "#fdca26"
                          ],
                          [
                            1,
                            "#f0f921"
                          ]
                        ],
                        "type": "contour"
                      }
                    ],
                    "contourcarpet": [
                      {
                        "colorbar": {
                          "outlinewidth": 0,
                          "ticks": ""
                        },
                        "type": "contourcarpet"
                      }
                    ],
                    "heatmap": [
                      {
                        "colorbar": {
                          "outlinewidth": 0,
                          "ticks": ""
                        },
                        "colorscale": [
                          [
                            0,
                            "#0d0887"
                          ],
                          [
                            0.1111111111111111,
                            "#46039f"
                          ],
                          [
                            0.2222222222222222,
                            "#7201a8"
                          ],
                          [
                            0.3333333333333333,
                            "#9c179e"
                          ],
                          [
                            0.4444444444444444,
                            "#bd3786"
                          ],
                          [
                            0.5555555555555556,
                            "#d8576b"
                          ],
                          [
                            0.6666666666666666,
                            "#ed7953"
                          ],
                          [
                            0.7777777777777778,
                            "#fb9f3a"
                          ],
                          [
                            0.8888888888888888,
                            "#fdca26"
                          ],
                          [
                            1,
                            "#f0f921"
                          ]
                        ],
                        "type": "heatmap"
                      }
                    ],
                    "heatmapgl": [
                      {
                        "colorbar": {
                          "outlinewidth": 0,
                          "ticks": ""
                        },
                        "colorscale": [
                          [
                            0,
                            "#0d0887"
                          ],
                          [
                            0.1111111111111111,
                            "#46039f"
                          ],
                          [
                            0.2222222222222222,
                            "#7201a8"
                          ],
                          [
                            0.3333333333333333,
                            "#9c179e"
                          ],
                          [
                            0.4444444444444444,
                            "#bd3786"
                          ],
                          [
                            0.5555555555555556,
                            "#d8576b"
                          ],
                          [
                            0.6666666666666666,
                            "#ed7953"
                          ],
                          [
                            0.7777777777777778,
                            "#fb9f3a"
                          ],
                          [
                            0.8888888888888888,
                            "#fdca26"
                          ],
                          [
                            1,
                            "#f0f921"
                          ]
                        ],
                        "type": "heatmapgl"
                      }
                    ],
                    "histogram": [
                      {
                        "marker": {
                          "pattern": {
                            "fillmode": "overlay",
                            "size": 10,
                            "solidity": 0.2
                          }
                        },
                        "type": "histogram"
                      }
                    ],
                    "histogram2d": [
                      {
                        "colorbar": {
                          "outlinewidth": 0,
                          "ticks": ""
                        },
                        "colorscale": [
                          [
                            0,
                            "#0d0887"
                          ],
                          [
                            0.1111111111111111,
                            "#46039f"
                          ],
                          [
                            0.2222222222222222,
                            "#7201a8"
                          ],
                          [
                            0.3333333333333333,
                            "#9c179e"
                          ],
                          [
                            0.4444444444444444,
                            "#bd3786"
                          ],
                          [
                            0.5555555555555556,
                            "#d8576b"
                          ],
                          [
                            0.6666666666666666,
                            "#ed7953"
                          ],
                          [
                            0.7777777777777778,
                            "#fb9f3a"
                          ],
                          [
                            0.8888888888888888,
                            "#fdca26"
                          ],
                          [
                            1,
                            "#f0f921"
                          ]
                        ],
                        "type": "histogram2d"
                      }
                    ],
                    "histogram2dcontour": [
                      {
                        "colorbar": {
                          "outlinewidth": 0,
                          "ticks": ""
                        },
                        "colorscale": [
                          [
                            0,
                            "#0d0887"
                          ],
                          [
                            0.1111111111111111,
                            "#46039f"
                          ],
                          [
                            0.2222222222222222,
                            "#7201a8"
                          ],
                          [
                            0.3333333333333333,
                            "#9c179e"
                          ],
                          [
                            0.4444444444444444,
                            "#bd3786"
                          ],
                          [
                            0.5555555555555556,
                            "#d8576b"
                          ],
                          [
                            0.6666666666666666,
                            "#ed7953"
                          ],
                          [
                            0.7777777777777778,
                            "#fb9f3a"
                          ],
                          [
                            0.8888888888888888,
                            "#fdca26"
                          ],
                          [
                            1,
                            "#f0f921"
                          ]
                        ],
                        "type": "histogram2dcontour"
                      }
                    ],
                    "mesh3d": [
                      {
                        "colorbar": {
                          "outlinewidth": 0,
                          "ticks": ""
                        },
                        "type": "mesh3d"
                      }
                    ],
                    "parcoords": [
                      {
                        "line": {
                          "colorbar": {
                            "outlinewidth": 0,
                            "ticks": ""
                          }
                        },
                        "type": "parcoords"
                      }
                    ],
                    "pie": [
                      {
                        "automargin": true,
                        "type": "pie"
                      }
                    ],
                    "scatter": [
                      {
                        "fillpattern": {
                          "fillmode": "overlay",
                          "size": 10,
                          "solidity": 0.2
                        },
                        "type": "scatter"
                      }
                    ],
                    "scatter3d": [
                      {
                        "line": {
                          "colorbar": {
                            "outlinewidth": 0,
                            "ticks": ""
                          }
                        },
                        "marker": {
                          "colorbar": {
                            "outlinewidth": 0,
                            "ticks": ""
                          }
                        },
                        "type": "scatter3d"
                      }
                    ],
                    "scattercarpet": [
                      {
                        "marker": {
                          "colorbar": {
                            "outlinewidth": 0,
                            "ticks": ""
                          }
                        },
                        "type": "scattercarpet"
                      }
                    ],
                    "scattergeo": [
                      {
                        "marker": {
                          "colorbar": {
                            "outlinewidth": 0,
                            "ticks": ""
                          }
                        },
                        "type": "scattergeo"
                      }
                    ],
                    "scattergl": [
                      {
                        "marker": {
                          "colorbar": {
                            "outlinewidth": 0,
                            "ticks": ""
                          }
                        },
                        "type": "scattergl"
                      }
                    ],
                    "scattermapbox": [
                      {
                        "marker": {
                          "colorbar": {
                            "outlinewidth": 0,
                            "ticks": ""
                          }
                        },
                        "type": "scattermapbox"
                      }
                    ],
                    "scatterpolar": [
                      {
                        "marker": {
                          "colorbar": {
                            "outlinewidth": 0,
                            "ticks": ""
                          }
                        },
                        "type": "scatterpolar"
                      }
                    ],
                    "scatterpolargl": [
                      {
                        "marker": {
                          "colorbar": {
                            "outlinewidth": 0,
                            "ticks": ""
                          }
                        },
                        "type": "scatterpolargl"
                      }
                    ],
                    "scatterternary": [
                      {
                        "marker": {
                          "colorbar": {
                            "outlinewidth": 0,
                            "ticks": ""
                          }
                        },
                        "type": "scatterternary"
                      }
                    ],
                    "surface": [
                      {
                        "colorbar": {
                          "outlinewidth": 0,
                          "ticks": ""
                        },
                        "colorscale": [
                          [
                            0,
                            "#0d0887"
                          ],
                          [
                            0.1111111111111111,
                            "#46039f"
                          ],
                          [
                            0.2222222222222222,
                            "#7201a8"
                          ],
                          [
                            0.3333333333333333,
                            "#9c179e"
                          ],
                          [
                            0.4444444444444444,
                            "#bd3786"
                          ],
                          [
                            0.5555555555555556,
                            "#d8576b"
                          ],
                          [
                            0.6666666666666666,
                            "#ed7953"
                          ],
                          [
                            0.7777777777777778,
                            "#fb9f3a"
                          ],
                          [
                            0.8888888888888888,
                            "#fdca26"
                          ],
                          [
                            1,
                            "#f0f921"
                          ]
                        ],
                        "type": "surface"
                      }
                    ],
                    "table": [
                      {
                        "cells": {
                          "fill": {
                            "color": "#EBF0F8"
                          },
                          "line": {
                            "color": "white"
                          }
                        },
                        "header": {
                          "fill": {
                            "color": "#C8D4E3"
                          },
                          "line": {
                            "color": "white"
                          }
                        },
                        "type": "table"
                      }
                    ]
                  },
                  "layout": {
                    "annotationdefaults": {
                      "arrowcolor": "#2a3f5f",
                      "arrowhead": 0,
                      "arrowwidth": 1
                    },
                    "autotypenumbers": "strict",
                    "coloraxis": {
                      "colorbar": {
                        "outlinewidth": 0,
                        "ticks": ""
                      }
                    },
                    "colorscale": {
                      "diverging": [
                        [
                          0,
                          "#8e0152"
                        ],
                        [
                          0.1,
                          "#c51b7d"
                        ],
                        [
                          0.2,
                          "#de77ae"
                        ],
                        [
                          0.3,
                          "#f1b6da"
                        ],
                        [
                          0.4,
                          "#fde0ef"
                        ],
                        [
                          0.5,
                          "#f7f7f7"
                        ],
                        [
                          0.6,
                          "#e6f5d0"
                        ],
                        [
                          0.7,
                          "#b8e186"
                        ],
                        [
                          0.8,
                          "#7fbc41"
                        ],
                        [
                          0.9,
                          "#4d9221"
                        ],
                        [
                          1,
                          "#276419"
                        ]
                      ],
                      "sequential": [
                        [
                          0,
                          "#0d0887"
                        ],
                        [
                          0.1111111111111111,
                          "#46039f"
                        ],
                        [
                          0.2222222222222222,
                          "#7201a8"
                        ],
                        [
                          0.3333333333333333,
                          "#9c179e"
                        ],
                        [
                          0.4444444444444444,
                          "#bd3786"
                        ],
                        [
                          0.5555555555555556,
                          "#d8576b"
                        ],
                        [
                          0.6666666666666666,
                          "#ed7953"
                        ],
                        [
                          0.7777777777777778,
                          "#fb9f3a"
                        ],
                        [
                          0.8888888888888888,
                          "#fdca26"
                        ],
                        [
                          1,
                          "#f0f921"
                        ]
                      ],
                      "sequentialminus": [
                        [
                          0,
                          "#0d0887"
                        ],
                        [
                          0.1111111111111111,
                          "#46039f"
                        ],
                        [
                          0.2222222222222222,
                          "#7201a8"
                        ],
                        [
                          0.3333333333333333,
                          "#9c179e"
                        ],
                        [
                          0.4444444444444444,
                          "#bd3786"
                        ],
                        [
                          0.5555555555555556,
                          "#d8576b"
                        ],
                        [
                          0.6666666666666666,
                          "#ed7953"
                        ],
                        [
                          0.7777777777777778,
                          "#fb9f3a"
                        ],
                        [
                          0.8888888888888888,
                          "#fdca26"
                        ],
                        [
                          1,
                          "#f0f921"
                        ]
                      ]
                    },
                    "colorway": [
                      "#636efa",
                      "#EF553B",
                      "#00cc96",
                      "#ab63fa",
                      "#FFA15A",
                      "#19d3f3",
                      "#FF6692",
                      "#B6E880",
                      "#FF97FF",
                      "#FECB52"
                    ],
                    "font": {
                      "color": "#2a3f5f"
                    },
                    "geo": {
                      "bgcolor": "white",
                      "lakecolor": "white",
                      "landcolor": "#E5ECF6",
                      "showlakes": true,
                      "showland": true,
                      "subunitcolor": "white"
                    },
                    "hoverlabel": {
                      "align": "left"
                    },
                    "hovermode": "closest",
                    "mapbox": {
                      "style": "light"
                    },
                    "paper_bgcolor": "white",
                    "plot_bgcolor": "#E5ECF6",
                    "polar": {
                      "angularaxis": {
                        "gridcolor": "white",
                        "linecolor": "white",
                        "ticks": ""
                      },
                      "bgcolor": "#E5ECF6",
                      "radialaxis": {
                        "gridcolor": "white",
                        "linecolor": "white",
                        "ticks": ""
                      }
                    },
                    "scene": {
                      "xaxis": {
                        "backgroundcolor": "#E5ECF6",
                        "gridcolor": "white",
                        "gridwidth": 2,
                        "linecolor": "white",
                        "showbackground": true,
                        "ticks": "",
                        "zerolinecolor": "white"
                      },
                      "yaxis": {
                        "backgroundcolor": "#E5ECF6",
                        "gridcolor": "white",
                        "gridwidth": 2,
                        "linecolor": "white",
                        "showbackground": true,
                        "ticks": "",
                        "zerolinecolor": "white"
                      },
                      "zaxis": {
                        "backgroundcolor": "#E5ECF6",
                        "gridcolor": "white",
                        "gridwidth": 2,
                        "linecolor": "white",
                        "showbackground": true,
                        "ticks": "",
                        "zerolinecolor": "white"
                      }
                    },
                    "shapedefaults": {
                      "line": {
                        "color": "#2a3f5f"
                      }
                    },
                    "ternary": {
                      "aaxis": {
                        "gridcolor": "white",
                        "linecolor": "white",
                        "ticks": ""
                      },
                      "baxis": {
                        "gridcolor": "white",
                        "linecolor": "white",
                        "ticks": ""
                      },
                      "bgcolor": "#E5ECF6",
                      "caxis": {
                        "gridcolor": "white",
                        "linecolor": "white",
                        "ticks": ""
                      }
                    },
                    "title": {
                      "x": 0.05
                    },
                    "xaxis": {
                      "automargin": true,
                      "gridcolor": "white",
                      "linecolor": "white",
                      "ticks": "",
                      "title": {
                        "standoff": 15
                      },
                      "zerolinecolor": "white",
                      "zerolinewidth": 2
                    },
                    "yaxis": {
                      "automargin": true,
                      "gridcolor": "white",
                      "linecolor": "white",
                      "ticks": "",
                      "title": {
                        "standoff": 15
                      },
                      "zerolinecolor": "white",
                      "zerolinewidth": 2
                    }
                  }
                },
                "title": {
                  "text": "Климат и популярность для эмиграции"
                },
                "width": 1000,
                "xaxis": {
                  "title": {
                    "text": "Климат"
                  }
                },
                "yaxis": {
                  "title": {
                    "text": "Привлекательность страны"
                  }
                }
              }
            }
          },
          "metadata": {},
          "output_type": "display_data"
        }
      ],
      "source": [
        "fig = go.Figure()\n",
        "\n",
        "fig.add_trace(go.Scatter(\n",
        "    x = quality_life['Climate'],\n",
        "    y = quality_life['Popularity'],\n",
        "    mode = 'markers',\n",
        "    marker = dict(size=10, color='orange', opacity=0.8),\n",
        "    hovertext = quality_life['Country'],\n",
        "    hoverinfo = 'text+x+y',\n",
        "    name = \"Страны\"\n",
        "))\n",
        "\n",
        "fig.update_layout(\n",
        "    title = \"Климат и популярность для эмиграции\",\n",
        "    xaxis_title = \"Климат\",\n",
        "    yaxis_title = \"Привлекательность страны\",\n",
        "    width = 1000,\n",
        "    height = 600\n",
        ")\n",
        "\n",
        "fig.show()"
      ]
    },
    {
      "cell_type": "code",
      "execution_count": 101,
      "id": "504aca54",
      "metadata": {},
      "outputs": [
        {
          "data": {
            "application/vnd.plotly.v1+json": {
              "config": {
                "plotlyServerURL": "https://plot.ly"
              },
              "data": [
                {
                  "boxmean": true,
                  "marker": {
                    "color": "blue",
                    "opacity": 0.7
                  },
                  "name": "Creeping",
                  "type": "box",
                  "y": [
                    41,
                    29.41963,
                    34.332561,
                    30.701602,
                    35.9431966484375,
                    26.577630000000003,
                    35.9431966484375,
                    40.913323,
                    33.030185,
                    39.00545,
                    35.9431966484375,
                    42.176074,
                    31.749648000000004,
                    37.3575,
                    43.04274,
                    35.743752,
                    54.81926,
                    46.729344,
                    28.895961999999997,
                    31.25177,
                    26.202102999999997,
                    28.323486,
                    44.579506,
                    38.753173000000004,
                    31.834,
                    27.708506999999997,
                    31.500953,
                    38.024372,
                    32.43345,
                    32.939574,
                    48.276210000000006,
                    48.162824,
                    35,
                    26.13158,
                    36.05703,
                    30.119276,
                    37.89385,
                    34.84458,
                    32.854729999999996,
                    33.65573,
                    35.9431966484375,
                    38.802433,
                    34.255849999999995,
                    36.656411999999996,
                    32.734770000000005,
                    35,
                    40.668428,
                    29.285090000000004,
                    31.403779999999998,
                    34.297183,
                    39.548507,
                    30.020264,
                    25.74387,
                    35.9431966484375,
                    46.156293,
                    33.505824000000004,
                    27.74182,
                    35.9431966484375,
                    45.108196,
                    40.349188000000005,
                    37.268466000000004,
                    34.59202,
                    35.128385,
                    43.709454,
                    38.743454,
                    35.9431966484375,
                    35.9431966484375,
                    36.15772,
                    33.12897,
                    35.9431966484375,
                    24.110219999999998,
                    24.28228,
                    63.0258,
                    32.906574,
                    33.88591,
                    29.765385,
                    33.737928000000004,
                    40.49123,
                    34.923872,
                    37.858006,
                    40.185452,
                    42.702642000000004,
                    26.399003999999998,
                    32.414576000000004,
                    41.334125,
                    36.093006
                  ]
                },
                {
                  "boxmean": true,
                  "marker": {
                    "color": "blue",
                    "opacity": 0.7
                  },
                  "name": "Walking",
                  "type": "box",
                  "y": [
                    27.615731999999998,
                    27.945294999999998,
                    26.554906,
                    33.373156,
                    24.383356,
                    52.01521999999999,
                    37.456092000000005,
                    36.979377,
                    38.757205,
                    33.50009,
                    43.512443,
                    29.17205,
                    32.779779999999995,
                    29.541856,
                    40.21027,
                    29.191532999999996,
                    38.701429999999995,
                    44.877714000000005,
                    42.551258,
                    38.542363,
                    43.454029999999996,
                    25.731638,
                    31.416476,
                    50.274074,
                    29.589266,
                    28.479505,
                    33.85264,
                    36.068243,
                    37.663776,
                    33.99559,
                    28.000000000000004,
                    33.716425,
                    25.627363,
                    40.551677000000005
                  ]
                },
                {
                  "boxmean": true,
                  "marker": {
                    "color": "blue",
                    "opacity": 0.7
                  },
                  "name": "Galloping",
                  "type": "box",
                  "y": [
                    51.263994000000004,
                    42,
                    31,
                    49,
                    31.893092,
                    34.993123999999995,
                    34.803438,
                    35,
                    26.352527999999996,
                    35.127744,
                    35.690176,
                    39.179897000000004,
                    44.364843,
                    51.483124000000004,
                    50.256449999999994
                  ]
                },
                {
                  "boxmean": true,
                  "marker": {
                    "color": "blue",
                    "opacity": 0.7
                  },
                  "name": "Hyperinflation",
                  "type": "box",
                  "y": [
                    31.83245,
                    34.24273
                  ]
                }
              ],
              "layout": {
                "height": 600,
                "template": {
                  "data": {
                    "bar": [
                      {
                        "error_x": {
                          "color": "#2a3f5f"
                        },
                        "error_y": {
                          "color": "#2a3f5f"
                        },
                        "marker": {
                          "line": {
                            "color": "#E5ECF6",
                            "width": 0.5
                          },
                          "pattern": {
                            "fillmode": "overlay",
                            "size": 10,
                            "solidity": 0.2
                          }
                        },
                        "type": "bar"
                      }
                    ],
                    "barpolar": [
                      {
                        "marker": {
                          "line": {
                            "color": "#E5ECF6",
                            "width": 0.5
                          },
                          "pattern": {
                            "fillmode": "overlay",
                            "size": 10,
                            "solidity": 0.2
                          }
                        },
                        "type": "barpolar"
                      }
                    ],
                    "carpet": [
                      {
                        "aaxis": {
                          "endlinecolor": "#2a3f5f",
                          "gridcolor": "white",
                          "linecolor": "white",
                          "minorgridcolor": "white",
                          "startlinecolor": "#2a3f5f"
                        },
                        "baxis": {
                          "endlinecolor": "#2a3f5f",
                          "gridcolor": "white",
                          "linecolor": "white",
                          "minorgridcolor": "white",
                          "startlinecolor": "#2a3f5f"
                        },
                        "type": "carpet"
                      }
                    ],
                    "choropleth": [
                      {
                        "colorbar": {
                          "outlinewidth": 0,
                          "ticks": ""
                        },
                        "type": "choropleth"
                      }
                    ],
                    "contour": [
                      {
                        "colorbar": {
                          "outlinewidth": 0,
                          "ticks": ""
                        },
                        "colorscale": [
                          [
                            0,
                            "#0d0887"
                          ],
                          [
                            0.1111111111111111,
                            "#46039f"
                          ],
                          [
                            0.2222222222222222,
                            "#7201a8"
                          ],
                          [
                            0.3333333333333333,
                            "#9c179e"
                          ],
                          [
                            0.4444444444444444,
                            "#bd3786"
                          ],
                          [
                            0.5555555555555556,
                            "#d8576b"
                          ],
                          [
                            0.6666666666666666,
                            "#ed7953"
                          ],
                          [
                            0.7777777777777778,
                            "#fb9f3a"
                          ],
                          [
                            0.8888888888888888,
                            "#fdca26"
                          ],
                          [
                            1,
                            "#f0f921"
                          ]
                        ],
                        "type": "contour"
                      }
                    ],
                    "contourcarpet": [
                      {
                        "colorbar": {
                          "outlinewidth": 0,
                          "ticks": ""
                        },
                        "type": "contourcarpet"
                      }
                    ],
                    "heatmap": [
                      {
                        "colorbar": {
                          "outlinewidth": 0,
                          "ticks": ""
                        },
                        "colorscale": [
                          [
                            0,
                            "#0d0887"
                          ],
                          [
                            0.1111111111111111,
                            "#46039f"
                          ],
                          [
                            0.2222222222222222,
                            "#7201a8"
                          ],
                          [
                            0.3333333333333333,
                            "#9c179e"
                          ],
                          [
                            0.4444444444444444,
                            "#bd3786"
                          ],
                          [
                            0.5555555555555556,
                            "#d8576b"
                          ],
                          [
                            0.6666666666666666,
                            "#ed7953"
                          ],
                          [
                            0.7777777777777778,
                            "#fb9f3a"
                          ],
                          [
                            0.8888888888888888,
                            "#fdca26"
                          ],
                          [
                            1,
                            "#f0f921"
                          ]
                        ],
                        "type": "heatmap"
                      }
                    ],
                    "heatmapgl": [
                      {
                        "colorbar": {
                          "outlinewidth": 0,
                          "ticks": ""
                        },
                        "colorscale": [
                          [
                            0,
                            "#0d0887"
                          ],
                          [
                            0.1111111111111111,
                            "#46039f"
                          ],
                          [
                            0.2222222222222222,
                            "#7201a8"
                          ],
                          [
                            0.3333333333333333,
                            "#9c179e"
                          ],
                          [
                            0.4444444444444444,
                            "#bd3786"
                          ],
                          [
                            0.5555555555555556,
                            "#d8576b"
                          ],
                          [
                            0.6666666666666666,
                            "#ed7953"
                          ],
                          [
                            0.7777777777777778,
                            "#fb9f3a"
                          ],
                          [
                            0.8888888888888888,
                            "#fdca26"
                          ],
                          [
                            1,
                            "#f0f921"
                          ]
                        ],
                        "type": "heatmapgl"
                      }
                    ],
                    "histogram": [
                      {
                        "marker": {
                          "pattern": {
                            "fillmode": "overlay",
                            "size": 10,
                            "solidity": 0.2
                          }
                        },
                        "type": "histogram"
                      }
                    ],
                    "histogram2d": [
                      {
                        "colorbar": {
                          "outlinewidth": 0,
                          "ticks": ""
                        },
                        "colorscale": [
                          [
                            0,
                            "#0d0887"
                          ],
                          [
                            0.1111111111111111,
                            "#46039f"
                          ],
                          [
                            0.2222222222222222,
                            "#7201a8"
                          ],
                          [
                            0.3333333333333333,
                            "#9c179e"
                          ],
                          [
                            0.4444444444444444,
                            "#bd3786"
                          ],
                          [
                            0.5555555555555556,
                            "#d8576b"
                          ],
                          [
                            0.6666666666666666,
                            "#ed7953"
                          ],
                          [
                            0.7777777777777778,
                            "#fb9f3a"
                          ],
                          [
                            0.8888888888888888,
                            "#fdca26"
                          ],
                          [
                            1,
                            "#f0f921"
                          ]
                        ],
                        "type": "histogram2d"
                      }
                    ],
                    "histogram2dcontour": [
                      {
                        "colorbar": {
                          "outlinewidth": 0,
                          "ticks": ""
                        },
                        "colorscale": [
                          [
                            0,
                            "#0d0887"
                          ],
                          [
                            0.1111111111111111,
                            "#46039f"
                          ],
                          [
                            0.2222222222222222,
                            "#7201a8"
                          ],
                          [
                            0.3333333333333333,
                            "#9c179e"
                          ],
                          [
                            0.4444444444444444,
                            "#bd3786"
                          ],
                          [
                            0.5555555555555556,
                            "#d8576b"
                          ],
                          [
                            0.6666666666666666,
                            "#ed7953"
                          ],
                          [
                            0.7777777777777778,
                            "#fb9f3a"
                          ],
                          [
                            0.8888888888888888,
                            "#fdca26"
                          ],
                          [
                            1,
                            "#f0f921"
                          ]
                        ],
                        "type": "histogram2dcontour"
                      }
                    ],
                    "mesh3d": [
                      {
                        "colorbar": {
                          "outlinewidth": 0,
                          "ticks": ""
                        },
                        "type": "mesh3d"
                      }
                    ],
                    "parcoords": [
                      {
                        "line": {
                          "colorbar": {
                            "outlinewidth": 0,
                            "ticks": ""
                          }
                        },
                        "type": "parcoords"
                      }
                    ],
                    "pie": [
                      {
                        "automargin": true,
                        "type": "pie"
                      }
                    ],
                    "scatter": [
                      {
                        "fillpattern": {
                          "fillmode": "overlay",
                          "size": 10,
                          "solidity": 0.2
                        },
                        "type": "scatter"
                      }
                    ],
                    "scatter3d": [
                      {
                        "line": {
                          "colorbar": {
                            "outlinewidth": 0,
                            "ticks": ""
                          }
                        },
                        "marker": {
                          "colorbar": {
                            "outlinewidth": 0,
                            "ticks": ""
                          }
                        },
                        "type": "scatter3d"
                      }
                    ],
                    "scattercarpet": [
                      {
                        "marker": {
                          "colorbar": {
                            "outlinewidth": 0,
                            "ticks": ""
                          }
                        },
                        "type": "scattercarpet"
                      }
                    ],
                    "scattergeo": [
                      {
                        "marker": {
                          "colorbar": {
                            "outlinewidth": 0,
                            "ticks": ""
                          }
                        },
                        "type": "scattergeo"
                      }
                    ],
                    "scattergl": [
                      {
                        "marker": {
                          "colorbar": {
                            "outlinewidth": 0,
                            "ticks": ""
                          }
                        },
                        "type": "scattergl"
                      }
                    ],
                    "scattermapbox": [
                      {
                        "marker": {
                          "colorbar": {
                            "outlinewidth": 0,
                            "ticks": ""
                          }
                        },
                        "type": "scattermapbox"
                      }
                    ],
                    "scatterpolar": [
                      {
                        "marker": {
                          "colorbar": {
                            "outlinewidth": 0,
                            "ticks": ""
                          }
                        },
                        "type": "scatterpolar"
                      }
                    ],
                    "scatterpolargl": [
                      {
                        "marker": {
                          "colorbar": {
                            "outlinewidth": 0,
                            "ticks": ""
                          }
                        },
                        "type": "scatterpolargl"
                      }
                    ],
                    "scatterternary": [
                      {
                        "marker": {
                          "colorbar": {
                            "outlinewidth": 0,
                            "ticks": ""
                          }
                        },
                        "type": "scatterternary"
                      }
                    ],
                    "surface": [
                      {
                        "colorbar": {
                          "outlinewidth": 0,
                          "ticks": ""
                        },
                        "colorscale": [
                          [
                            0,
                            "#0d0887"
                          ],
                          [
                            0.1111111111111111,
                            "#46039f"
                          ],
                          [
                            0.2222222222222222,
                            "#7201a8"
                          ],
                          [
                            0.3333333333333333,
                            "#9c179e"
                          ],
                          [
                            0.4444444444444444,
                            "#bd3786"
                          ],
                          [
                            0.5555555555555556,
                            "#d8576b"
                          ],
                          [
                            0.6666666666666666,
                            "#ed7953"
                          ],
                          [
                            0.7777777777777778,
                            "#fb9f3a"
                          ],
                          [
                            0.8888888888888888,
                            "#fdca26"
                          ],
                          [
                            1,
                            "#f0f921"
                          ]
                        ],
                        "type": "surface"
                      }
                    ],
                    "table": [
                      {
                        "cells": {
                          "fill": {
                            "color": "#EBF0F8"
                          },
                          "line": {
                            "color": "white"
                          }
                        },
                        "header": {
                          "fill": {
                            "color": "#C8D4E3"
                          },
                          "line": {
                            "color": "white"
                          }
                        },
                        "type": "table"
                      }
                    ]
                  },
                  "layout": {
                    "annotationdefaults": {
                      "arrowcolor": "#2a3f5f",
                      "arrowhead": 0,
                      "arrowwidth": 1
                    },
                    "autotypenumbers": "strict",
                    "coloraxis": {
                      "colorbar": {
                        "outlinewidth": 0,
                        "ticks": ""
                      }
                    },
                    "colorscale": {
                      "diverging": [
                        [
                          0,
                          "#8e0152"
                        ],
                        [
                          0.1,
                          "#c51b7d"
                        ],
                        [
                          0.2,
                          "#de77ae"
                        ],
                        [
                          0.3,
                          "#f1b6da"
                        ],
                        [
                          0.4,
                          "#fde0ef"
                        ],
                        [
                          0.5,
                          "#f7f7f7"
                        ],
                        [
                          0.6,
                          "#e6f5d0"
                        ],
                        [
                          0.7,
                          "#b8e186"
                        ],
                        [
                          0.8,
                          "#7fbc41"
                        ],
                        [
                          0.9,
                          "#4d9221"
                        ],
                        [
                          1,
                          "#276419"
                        ]
                      ],
                      "sequential": [
                        [
                          0,
                          "#0d0887"
                        ],
                        [
                          0.1111111111111111,
                          "#46039f"
                        ],
                        [
                          0.2222222222222222,
                          "#7201a8"
                        ],
                        [
                          0.3333333333333333,
                          "#9c179e"
                        ],
                        [
                          0.4444444444444444,
                          "#bd3786"
                        ],
                        [
                          0.5555555555555556,
                          "#d8576b"
                        ],
                        [
                          0.6666666666666666,
                          "#ed7953"
                        ],
                        [
                          0.7777777777777778,
                          "#fb9f3a"
                        ],
                        [
                          0.8888888888888888,
                          "#fdca26"
                        ],
                        [
                          1,
                          "#f0f921"
                        ]
                      ],
                      "sequentialminus": [
                        [
                          0,
                          "#0d0887"
                        ],
                        [
                          0.1111111111111111,
                          "#46039f"
                        ],
                        [
                          0.2222222222222222,
                          "#7201a8"
                        ],
                        [
                          0.3333333333333333,
                          "#9c179e"
                        ],
                        [
                          0.4444444444444444,
                          "#bd3786"
                        ],
                        [
                          0.5555555555555556,
                          "#d8576b"
                        ],
                        [
                          0.6666666666666666,
                          "#ed7953"
                        ],
                        [
                          0.7777777777777778,
                          "#fb9f3a"
                        ],
                        [
                          0.8888888888888888,
                          "#fdca26"
                        ],
                        [
                          1,
                          "#f0f921"
                        ]
                      ]
                    },
                    "colorway": [
                      "#636efa",
                      "#EF553B",
                      "#00cc96",
                      "#ab63fa",
                      "#FFA15A",
                      "#19d3f3",
                      "#FF6692",
                      "#B6E880",
                      "#FF97FF",
                      "#FECB52"
                    ],
                    "font": {
                      "color": "#2a3f5f"
                    },
                    "geo": {
                      "bgcolor": "white",
                      "lakecolor": "white",
                      "landcolor": "#E5ECF6",
                      "showlakes": true,
                      "showland": true,
                      "subunitcolor": "white"
                    },
                    "hoverlabel": {
                      "align": "left"
                    },
                    "hovermode": "closest",
                    "mapbox": {
                      "style": "light"
                    },
                    "paper_bgcolor": "white",
                    "plot_bgcolor": "#E5ECF6",
                    "polar": {
                      "angularaxis": {
                        "gridcolor": "white",
                        "linecolor": "white",
                        "ticks": ""
                      },
                      "bgcolor": "#E5ECF6",
                      "radialaxis": {
                        "gridcolor": "white",
                        "linecolor": "white",
                        "ticks": ""
                      }
                    },
                    "scene": {
                      "xaxis": {
                        "backgroundcolor": "#E5ECF6",
                        "gridcolor": "white",
                        "gridwidth": 2,
                        "linecolor": "white",
                        "showbackground": true,
                        "ticks": "",
                        "zerolinecolor": "white"
                      },
                      "yaxis": {
                        "backgroundcolor": "#E5ECF6",
                        "gridcolor": "white",
                        "gridwidth": 2,
                        "linecolor": "white",
                        "showbackground": true,
                        "ticks": "",
                        "zerolinecolor": "white"
                      },
                      "zaxis": {
                        "backgroundcolor": "#E5ECF6",
                        "gridcolor": "white",
                        "gridwidth": 2,
                        "linecolor": "white",
                        "showbackground": true,
                        "ticks": "",
                        "zerolinecolor": "white"
                      }
                    },
                    "shapedefaults": {
                      "line": {
                        "color": "#2a3f5f"
                      }
                    },
                    "ternary": {
                      "aaxis": {
                        "gridcolor": "white",
                        "linecolor": "white",
                        "ticks": ""
                      },
                      "baxis": {
                        "gridcolor": "white",
                        "linecolor": "white",
                        "ticks": ""
                      },
                      "bgcolor": "#E5ECF6",
                      "caxis": {
                        "gridcolor": "white",
                        "linecolor": "white",
                        "ticks": ""
                      }
                    },
                    "title": {
                      "x": 0.05
                    },
                    "xaxis": {
                      "automargin": true,
                      "gridcolor": "white",
                      "linecolor": "white",
                      "ticks": "",
                      "title": {
                        "standoff": 15
                      },
                      "zerolinecolor": "white",
                      "zerolinewidth": 2
                    },
                    "yaxis": {
                      "automargin": true,
                      "gridcolor": "white",
                      "linecolor": "white",
                      "ticks": "",
                      "title": {
                        "standoff": 15
                      },
                      "zerolinecolor": "white",
                      "zerolinewidth": 2
                    }
                  }
                },
                "title": {
                  "text": "Экономическое неравенство в зависимости от типа инфляции"
                },
                "width": 900,
                "xaxis": {
                  "title": {
                    "text": "Тип инфляции"
                  }
                },
                "yaxis": {
                  "title": {
                    "text": "Gini"
                  }
                }
              }
            }
          },
          "metadata": {},
          "output_type": "display_data"
        }
      ],
      "source": [
        "fig = go.Figure()\n",
        "\n",
        "for inflation_type in quality_life['Type of inflation'].unique():\n",
        "    fig.add_trace(go.Box(\n",
        "        y = quality_life[quality_life['Type of inflation'] == inflation_type]['Gini'],\n",
        "        name = inflation_type,\n",
        "        boxmean = True,\n",
        "        marker = dict(color='blue', opacity=0.7)\n",
        "    ))\n",
        "\n",
        "fig.update_layout(\n",
        "    title = \"Экономическое неравенство в зависимости от типа инфляции\",\n",
        "    xaxis_title = \"Тип инфляции\",\n",
        "    yaxis_title = \"Gini\",\n",
        "    width = 900,\n",
        "    height = 600\n",
        ")\n",
        "\n",
        "fig.show()"
      ]
    },
    {
      "cell_type": "markdown",
      "id": "Gvps-_FQSJrb",
      "metadata": {
        "id": "Gvps-_FQSJrb"
      },
      "source": [
        "Исходя из ящика с усами, построенного для индекса Джини в зависимости от типа инфляции, медиана индекса Джини всегда находится на примерно одном и том же уровне вне зависимости от типа инфляции (33-36%). Самый большой интерквантильный размах у галлопирующей инфляции в то время, как у гиперинфляции он очень низкий и хвосты очень короткие."
      ]
    },
    {
      "cell_type": "code",
      "execution_count": 102,
      "id": "XZTNiwmARUf1",
      "metadata": {
        "colab": {
          "base_uri": "https://localhost:8080/",
          "height": 497
        },
        "id": "XZTNiwmARUf1",
        "outputId": "cba4f717-b255-4ed5-bf87-4465e4584065"
      },
      "outputs": [
        {
          "data": {
            "application/vnd.plotly.v1+json": {
              "config": {
                "plotlyServerURL": "https://plot.ly"
              },
              "data": [
                {
                  "boxmean": true,
                  "marker": {
                    "color": "blue",
                    "opacity": 0.7
                  },
                  "name": "Creeping",
                  "type": "box",
                  "y": [
                    4788,
                    209496,
                    791200,
                    740194,
                    244260,
                    600300,
                    645606,
                    108528,
                    153596,
                    294780,
                    72352,
                    20520,
                    758540,
                    17112,
                    453618,
                    229770,
                    64860,
                    347553,
                    353626,
                    423708,
                    529542,
                    817000,
                    193248,
                    48321,
                    655040,
                    790500,
                    555768,
                    62400,
                    732260,
                    322080,
                    103376,
                    51428,
                    634865,
                    731768,
                    263032,
                    725760,
                    332424,
                    376025,
                    725754,
                    184800,
                    272976,
                    98192,
                    476412,
                    508200,
                    920700,
                    594270,
                    369460,
                    217152,
                    569664,
                    221000,
                    194880,
                    165095,
                    790272,
                    864500,
                    59130,
                    233856,
                    872289,
                    319056,
                    160284,
                    212520,
                    135876,
                    572880,
                    434280,
                    235008,
                    397404,
                    577854,
                    214650,
                    273728,
                    206712,
                    738700,
                    435299,
                    560640,
                    109134,
                    577125,
                    443840,
                    826848,
                    891891,
                    98838,
                    234240,
                    106575,
                    132600,
                    89280,
                    495690,
                    657020,
                    433755,
                    178220
                  ]
                },
                {
                  "boxmean": true,
                  "marker": {
                    "color": "blue",
                    "opacity": 0.7
                  },
                  "name": "Walking",
                  "type": "box",
                  "y": [
                    81480,
                    170748,
                    41952,
                    82732,
                    83916,
                    99900,
                    21142,
                    137350,
                    141094,
                    255024,
                    232560,
                    351120,
                    174432,
                    5568,
                    105820,
                    159408,
                    97416,
                    34560,
                    117992,
                    124488,
                    88504,
                    175644,
                    186912,
                    3744,
                    57408,
                    429939,
                    321024,
                    91650,
                    205712,
                    38454,
                    101010,
                    152684,
                    123984,
                    434026
                  ]
                },
                {
                  "boxmean": true,
                  "marker": {
                    "color": "blue",
                    "opacity": 0.7
                  },
                  "name": "Galloping",
                  "type": "box",
                  "y": [
                    35640,
                    140712,
                    46872,
                    2240,
                    77688,
                    25947,
                    22515,
                    98136,
                    56376,
                    9936,
                    89148,
                    138116,
                    102486,
                    65280,
                    30044
                  ]
                },
                {
                  "boxmean": true,
                  "marker": {
                    "color": "blue",
                    "opacity": 0.7
                  },
                  "name": "Hyperinflation",
                  "type": "box",
                  "y": [
                    19000,
                    4840
                  ]
                }
              ],
              "layout": {
                "height": 600,
                "template": {
                  "data": {
                    "bar": [
                      {
                        "error_x": {
                          "color": "#2a3f5f"
                        },
                        "error_y": {
                          "color": "#2a3f5f"
                        },
                        "marker": {
                          "line": {
                            "color": "#E5ECF6",
                            "width": 0.5
                          },
                          "pattern": {
                            "fillmode": "overlay",
                            "size": 10,
                            "solidity": 0.2
                          }
                        },
                        "type": "bar"
                      }
                    ],
                    "barpolar": [
                      {
                        "marker": {
                          "line": {
                            "color": "#E5ECF6",
                            "width": 0.5
                          },
                          "pattern": {
                            "fillmode": "overlay",
                            "size": 10,
                            "solidity": 0.2
                          }
                        },
                        "type": "barpolar"
                      }
                    ],
                    "carpet": [
                      {
                        "aaxis": {
                          "endlinecolor": "#2a3f5f",
                          "gridcolor": "white",
                          "linecolor": "white",
                          "minorgridcolor": "white",
                          "startlinecolor": "#2a3f5f"
                        },
                        "baxis": {
                          "endlinecolor": "#2a3f5f",
                          "gridcolor": "white",
                          "linecolor": "white",
                          "minorgridcolor": "white",
                          "startlinecolor": "#2a3f5f"
                        },
                        "type": "carpet"
                      }
                    ],
                    "choropleth": [
                      {
                        "colorbar": {
                          "outlinewidth": 0,
                          "ticks": ""
                        },
                        "type": "choropleth"
                      }
                    ],
                    "contour": [
                      {
                        "colorbar": {
                          "outlinewidth": 0,
                          "ticks": ""
                        },
                        "colorscale": [
                          [
                            0,
                            "#0d0887"
                          ],
                          [
                            0.1111111111111111,
                            "#46039f"
                          ],
                          [
                            0.2222222222222222,
                            "#7201a8"
                          ],
                          [
                            0.3333333333333333,
                            "#9c179e"
                          ],
                          [
                            0.4444444444444444,
                            "#bd3786"
                          ],
                          [
                            0.5555555555555556,
                            "#d8576b"
                          ],
                          [
                            0.6666666666666666,
                            "#ed7953"
                          ],
                          [
                            0.7777777777777778,
                            "#fb9f3a"
                          ],
                          [
                            0.8888888888888888,
                            "#fdca26"
                          ],
                          [
                            1,
                            "#f0f921"
                          ]
                        ],
                        "type": "contour"
                      }
                    ],
                    "contourcarpet": [
                      {
                        "colorbar": {
                          "outlinewidth": 0,
                          "ticks": ""
                        },
                        "type": "contourcarpet"
                      }
                    ],
                    "heatmap": [
                      {
                        "colorbar": {
                          "outlinewidth": 0,
                          "ticks": ""
                        },
                        "colorscale": [
                          [
                            0,
                            "#0d0887"
                          ],
                          [
                            0.1111111111111111,
                            "#46039f"
                          ],
                          [
                            0.2222222222222222,
                            "#7201a8"
                          ],
                          [
                            0.3333333333333333,
                            "#9c179e"
                          ],
                          [
                            0.4444444444444444,
                            "#bd3786"
                          ],
                          [
                            0.5555555555555556,
                            "#d8576b"
                          ],
                          [
                            0.6666666666666666,
                            "#ed7953"
                          ],
                          [
                            0.7777777777777778,
                            "#fb9f3a"
                          ],
                          [
                            0.8888888888888888,
                            "#fdca26"
                          ],
                          [
                            1,
                            "#f0f921"
                          ]
                        ],
                        "type": "heatmap"
                      }
                    ],
                    "heatmapgl": [
                      {
                        "colorbar": {
                          "outlinewidth": 0,
                          "ticks": ""
                        },
                        "colorscale": [
                          [
                            0,
                            "#0d0887"
                          ],
                          [
                            0.1111111111111111,
                            "#46039f"
                          ],
                          [
                            0.2222222222222222,
                            "#7201a8"
                          ],
                          [
                            0.3333333333333333,
                            "#9c179e"
                          ],
                          [
                            0.4444444444444444,
                            "#bd3786"
                          ],
                          [
                            0.5555555555555556,
                            "#d8576b"
                          ],
                          [
                            0.6666666666666666,
                            "#ed7953"
                          ],
                          [
                            0.7777777777777778,
                            "#fb9f3a"
                          ],
                          [
                            0.8888888888888888,
                            "#fdca26"
                          ],
                          [
                            1,
                            "#f0f921"
                          ]
                        ],
                        "type": "heatmapgl"
                      }
                    ],
                    "histogram": [
                      {
                        "marker": {
                          "pattern": {
                            "fillmode": "overlay",
                            "size": 10,
                            "solidity": 0.2
                          }
                        },
                        "type": "histogram"
                      }
                    ],
                    "histogram2d": [
                      {
                        "colorbar": {
                          "outlinewidth": 0,
                          "ticks": ""
                        },
                        "colorscale": [
                          [
                            0,
                            "#0d0887"
                          ],
                          [
                            0.1111111111111111,
                            "#46039f"
                          ],
                          [
                            0.2222222222222222,
                            "#7201a8"
                          ],
                          [
                            0.3333333333333333,
                            "#9c179e"
                          ],
                          [
                            0.4444444444444444,
                            "#bd3786"
                          ],
                          [
                            0.5555555555555556,
                            "#d8576b"
                          ],
                          [
                            0.6666666666666666,
                            "#ed7953"
                          ],
                          [
                            0.7777777777777778,
                            "#fb9f3a"
                          ],
                          [
                            0.8888888888888888,
                            "#fdca26"
                          ],
                          [
                            1,
                            "#f0f921"
                          ]
                        ],
                        "type": "histogram2d"
                      }
                    ],
                    "histogram2dcontour": [
                      {
                        "colorbar": {
                          "outlinewidth": 0,
                          "ticks": ""
                        },
                        "colorscale": [
                          [
                            0,
                            "#0d0887"
                          ],
                          [
                            0.1111111111111111,
                            "#46039f"
                          ],
                          [
                            0.2222222222222222,
                            "#7201a8"
                          ],
                          [
                            0.3333333333333333,
                            "#9c179e"
                          ],
                          [
                            0.4444444444444444,
                            "#bd3786"
                          ],
                          [
                            0.5555555555555556,
                            "#d8576b"
                          ],
                          [
                            0.6666666666666666,
                            "#ed7953"
                          ],
                          [
                            0.7777777777777778,
                            "#fb9f3a"
                          ],
                          [
                            0.8888888888888888,
                            "#fdca26"
                          ],
                          [
                            1,
                            "#f0f921"
                          ]
                        ],
                        "type": "histogram2dcontour"
                      }
                    ],
                    "mesh3d": [
                      {
                        "colorbar": {
                          "outlinewidth": 0,
                          "ticks": ""
                        },
                        "type": "mesh3d"
                      }
                    ],
                    "parcoords": [
                      {
                        "line": {
                          "colorbar": {
                            "outlinewidth": 0,
                            "ticks": ""
                          }
                        },
                        "type": "parcoords"
                      }
                    ],
                    "pie": [
                      {
                        "automargin": true,
                        "type": "pie"
                      }
                    ],
                    "scatter": [
                      {
                        "fillpattern": {
                          "fillmode": "overlay",
                          "size": 10,
                          "solidity": 0.2
                        },
                        "type": "scatter"
                      }
                    ],
                    "scatter3d": [
                      {
                        "line": {
                          "colorbar": {
                            "outlinewidth": 0,
                            "ticks": ""
                          }
                        },
                        "marker": {
                          "colorbar": {
                            "outlinewidth": 0,
                            "ticks": ""
                          }
                        },
                        "type": "scatter3d"
                      }
                    ],
                    "scattercarpet": [
                      {
                        "marker": {
                          "colorbar": {
                            "outlinewidth": 0,
                            "ticks": ""
                          }
                        },
                        "type": "scattercarpet"
                      }
                    ],
                    "scattergeo": [
                      {
                        "marker": {
                          "colorbar": {
                            "outlinewidth": 0,
                            "ticks": ""
                          }
                        },
                        "type": "scattergeo"
                      }
                    ],
                    "scattergl": [
                      {
                        "marker": {
                          "colorbar": {
                            "outlinewidth": 0,
                            "ticks": ""
                          }
                        },
                        "type": "scattergl"
                      }
                    ],
                    "scattermapbox": [
                      {
                        "marker": {
                          "colorbar": {
                            "outlinewidth": 0,
                            "ticks": ""
                          }
                        },
                        "type": "scattermapbox"
                      }
                    ],
                    "scatterpolar": [
                      {
                        "marker": {
                          "colorbar": {
                            "outlinewidth": 0,
                            "ticks": ""
                          }
                        },
                        "type": "scatterpolar"
                      }
                    ],
                    "scatterpolargl": [
                      {
                        "marker": {
                          "colorbar": {
                            "outlinewidth": 0,
                            "ticks": ""
                          }
                        },
                        "type": "scatterpolargl"
                      }
                    ],
                    "scatterternary": [
                      {
                        "marker": {
                          "colorbar": {
                            "outlinewidth": 0,
                            "ticks": ""
                          }
                        },
                        "type": "scatterternary"
                      }
                    ],
                    "surface": [
                      {
                        "colorbar": {
                          "outlinewidth": 0,
                          "ticks": ""
                        },
                        "colorscale": [
                          [
                            0,
                            "#0d0887"
                          ],
                          [
                            0.1111111111111111,
                            "#46039f"
                          ],
                          [
                            0.2222222222222222,
                            "#7201a8"
                          ],
                          [
                            0.3333333333333333,
                            "#9c179e"
                          ],
                          [
                            0.4444444444444444,
                            "#bd3786"
                          ],
                          [
                            0.5555555555555556,
                            "#d8576b"
                          ],
                          [
                            0.6666666666666666,
                            "#ed7953"
                          ],
                          [
                            0.7777777777777778,
                            "#fb9f3a"
                          ],
                          [
                            0.8888888888888888,
                            "#fdca26"
                          ],
                          [
                            1,
                            "#f0f921"
                          ]
                        ],
                        "type": "surface"
                      }
                    ],
                    "table": [
                      {
                        "cells": {
                          "fill": {
                            "color": "#EBF0F8"
                          },
                          "line": {
                            "color": "white"
                          }
                        },
                        "header": {
                          "fill": {
                            "color": "#C8D4E3"
                          },
                          "line": {
                            "color": "white"
                          }
                        },
                        "type": "table"
                      }
                    ]
                  },
                  "layout": {
                    "annotationdefaults": {
                      "arrowcolor": "#2a3f5f",
                      "arrowhead": 0,
                      "arrowwidth": 1
                    },
                    "autotypenumbers": "strict",
                    "coloraxis": {
                      "colorbar": {
                        "outlinewidth": 0,
                        "ticks": ""
                      }
                    },
                    "colorscale": {
                      "diverging": [
                        [
                          0,
                          "#8e0152"
                        ],
                        [
                          0.1,
                          "#c51b7d"
                        ],
                        [
                          0.2,
                          "#de77ae"
                        ],
                        [
                          0.3,
                          "#f1b6da"
                        ],
                        [
                          0.4,
                          "#fde0ef"
                        ],
                        [
                          0.5,
                          "#f7f7f7"
                        ],
                        [
                          0.6,
                          "#e6f5d0"
                        ],
                        [
                          0.7,
                          "#b8e186"
                        ],
                        [
                          0.8,
                          "#7fbc41"
                        ],
                        [
                          0.9,
                          "#4d9221"
                        ],
                        [
                          1,
                          "#276419"
                        ]
                      ],
                      "sequential": [
                        [
                          0,
                          "#0d0887"
                        ],
                        [
                          0.1111111111111111,
                          "#46039f"
                        ],
                        [
                          0.2222222222222222,
                          "#7201a8"
                        ],
                        [
                          0.3333333333333333,
                          "#9c179e"
                        ],
                        [
                          0.4444444444444444,
                          "#bd3786"
                        ],
                        [
                          0.5555555555555556,
                          "#d8576b"
                        ],
                        [
                          0.6666666666666666,
                          "#ed7953"
                        ],
                        [
                          0.7777777777777778,
                          "#fb9f3a"
                        ],
                        [
                          0.8888888888888888,
                          "#fdca26"
                        ],
                        [
                          1,
                          "#f0f921"
                        ]
                      ],
                      "sequentialminus": [
                        [
                          0,
                          "#0d0887"
                        ],
                        [
                          0.1111111111111111,
                          "#46039f"
                        ],
                        [
                          0.2222222222222222,
                          "#7201a8"
                        ],
                        [
                          0.3333333333333333,
                          "#9c179e"
                        ],
                        [
                          0.4444444444444444,
                          "#bd3786"
                        ],
                        [
                          0.5555555555555556,
                          "#d8576b"
                        ],
                        [
                          0.6666666666666666,
                          "#ed7953"
                        ],
                        [
                          0.7777777777777778,
                          "#fb9f3a"
                        ],
                        [
                          0.8888888888888888,
                          "#fdca26"
                        ],
                        [
                          1,
                          "#f0f921"
                        ]
                      ]
                    },
                    "colorway": [
                      "#636efa",
                      "#EF553B",
                      "#00cc96",
                      "#ab63fa",
                      "#FFA15A",
                      "#19d3f3",
                      "#FF6692",
                      "#B6E880",
                      "#FF97FF",
                      "#FECB52"
                    ],
                    "font": {
                      "color": "#2a3f5f"
                    },
                    "geo": {
                      "bgcolor": "white",
                      "lakecolor": "white",
                      "landcolor": "#E5ECF6",
                      "showlakes": true,
                      "showland": true,
                      "subunitcolor": "white"
                    },
                    "hoverlabel": {
                      "align": "left"
                    },
                    "hovermode": "closest",
                    "mapbox": {
                      "style": "light"
                    },
                    "paper_bgcolor": "white",
                    "plot_bgcolor": "#E5ECF6",
                    "polar": {
                      "angularaxis": {
                        "gridcolor": "white",
                        "linecolor": "white",
                        "ticks": ""
                      },
                      "bgcolor": "#E5ECF6",
                      "radialaxis": {
                        "gridcolor": "white",
                        "linecolor": "white",
                        "ticks": ""
                      }
                    },
                    "scene": {
                      "xaxis": {
                        "backgroundcolor": "#E5ECF6",
                        "gridcolor": "white",
                        "gridwidth": 2,
                        "linecolor": "white",
                        "showbackground": true,
                        "ticks": "",
                        "zerolinecolor": "white"
                      },
                      "yaxis": {
                        "backgroundcolor": "#E5ECF6",
                        "gridcolor": "white",
                        "gridwidth": 2,
                        "linecolor": "white",
                        "showbackground": true,
                        "ticks": "",
                        "zerolinecolor": "white"
                      },
                      "zaxis": {
                        "backgroundcolor": "#E5ECF6",
                        "gridcolor": "white",
                        "gridwidth": 2,
                        "linecolor": "white",
                        "showbackground": true,
                        "ticks": "",
                        "zerolinecolor": "white"
                      }
                    },
                    "shapedefaults": {
                      "line": {
                        "color": "#2a3f5f"
                      }
                    },
                    "ternary": {
                      "aaxis": {
                        "gridcolor": "white",
                        "linecolor": "white",
                        "ticks": ""
                      },
                      "baxis": {
                        "gridcolor": "white",
                        "linecolor": "white",
                        "ticks": ""
                      },
                      "bgcolor": "#E5ECF6",
                      "caxis": {
                        "gridcolor": "white",
                        "linecolor": "white",
                        "ticks": ""
                      }
                    },
                    "title": {
                      "x": 0.05
                    },
                    "xaxis": {
                      "automargin": true,
                      "gridcolor": "white",
                      "linecolor": "white",
                      "ticks": "",
                      "title": {
                        "standoff": 15
                      },
                      "zerolinecolor": "white",
                      "zerolinewidth": 2
                    },
                    "yaxis": {
                      "automargin": true,
                      "gridcolor": "white",
                      "linecolor": "white",
                      "ticks": "",
                      "title": {
                        "standoff": 15
                      },
                      "zerolinecolor": "white",
                      "zerolinewidth": 2
                    }
                  }
                },
                "title": {
                  "text": "Связь развития институтов и типа инфляции"
                },
                "width": 900,
                "xaxis": {
                  "title": {
                    "text": "Тип инфляции"
                  }
                },
                "yaxis": {
                  "title": {
                    "text": "Institutions"
                  }
                }
              }
            }
          },
          "metadata": {},
          "output_type": "display_data"
        }
      ],
      "source": [
        "quality_life['Institutions'] = (\n",
        "    quality_life['Stability'] * quality_life['Rights'] * quality_life['Safety']\n",
        ")\n",
        "\n",
        "fig = go.Figure()\n",
        "\n",
        "for inflation_type in quality_life['Type of inflation'].unique():\n",
        "    fig.add_trace(go.Box(\n",
        "        y = quality_life[quality_life['Type of inflation'] == inflation_type]['Institutions'],\n",
        "        name = inflation_type,\n",
        "        boxmean = True,\n",
        "        marker = dict(color='blue', opacity=0.7)\n",
        "    ))\n",
        "\n",
        "fig.update_layout(\n",
        "    title = \"Связь развития институтов и типа инфляции\",\n",
        "    xaxis_title = \"Тип инфляции\",\n",
        "    yaxis_title = \"Institutions\",\n",
        "    width = 900,\n",
        "    height = 600\n",
        ")\n",
        "\n",
        "fig.show()"
      ]
    },
    {
      "cell_type": "markdown",
      "id": "YHjoEwrkTluH",
      "metadata": {
        "id": "YHjoEwrkTluH"
      },
      "source": [
        "Объединив политическую и экономическую стабильность, правовую систему государства и безопасность в один показатель, отражающий развитие институтов в конкретной стране, мы получили весьма интересные наблюдения. Гиперинфляция и галопирующая инфляция наблюдаются в странах с низким уровнем развития институтов, а наиболее благоприятные ползучая и умеренная инфляции соответствуют странам с более высоким институциональным развитием. Причем для перехода от умеренной инфляции (до 10%) к ползучей (до 5%) требуется сильно больший уровень стабильности, правовой системы и безопасности."
      ]
    },
    {
      "cell_type": "markdown",
      "id": "1cc9a53c",
      "metadata": {},
      "source": [
        "Хотя у нас и было предположение, что чем благоприятнее климат, тем более привлекательна страна в плане эмиграции, но всё же прямая такая зависимость явно отсутствует."
      ]
    },
    {
      "cell_type": "markdown",
      "id": "2b29c783",
      "metadata": {},
      "source": [
        "## **Гипотезы**"
      ]
    },
    {
      "cell_type": "markdown",
      "id": "b7d06b88",
      "metadata": {},
      "source": [
        "#### Гипотеза 1: Проверка гипотезы: Влияние уровня образования на продолжительность жизни"
      ]
    },
    {
      "cell_type": "code",
      "execution_count": 103,
      "id": "dd56db93",
      "metadata": {},
      "outputs": [],
      "source": [
        "df_life = quality_life[['Education level', 'Life expectancy']].dropna()\n",
        "\n",
        "shapiro_edu = stats.shapiro(df_life['Education level'])\n",
        "shapiro_life = stats.shapiro(df_life['Life expectancy'])\n",
        "\n",
        "pearson_corr: float\n",
        "pearson_p: float\n",
        "pearson_corr, pearson_p = stats.pearsonr(df_life['Education level'], df_life['Life expectancy'])\n",
        "spearman_corr: float\n",
        "spearman_p: float\n",
        "spearman_corr, spearman_p = stats.spearmanr(df_life['Education level'], df_life['Life expectancy'])"
      ]
    },
    {
      "cell_type": "code",
      "execution_count": 104,
      "id": "46f8993b",
      "metadata": {},
      "outputs": [
        {
          "data": {
            "application/vnd.plotly.v1+json": {
              "config": {
                "plotlyServerURL": "https://plot.ly"
              },
              "data": [
                {
                  "hoverinfo": "text+x+y",
                  "hovertext": [
                    0,
                    1,
                    2,
                    3,
                    4,
                    5,
                    6,
                    7,
                    8,
                    9,
                    10,
                    11,
                    12,
                    13,
                    14,
                    15,
                    16,
                    17,
                    18,
                    19,
                    20,
                    21,
                    22,
                    23,
                    24,
                    25,
                    26,
                    27,
                    28,
                    29,
                    30,
                    31,
                    32,
                    33,
                    34,
                    35,
                    36,
                    37,
                    38,
                    39,
                    40,
                    41,
                    42,
                    43,
                    44,
                    45,
                    46,
                    47,
                    48,
                    49,
                    50,
                    51,
                    52,
                    53,
                    54,
                    55,
                    56,
                    57,
                    58,
                    59,
                    60,
                    61,
                    62,
                    63,
                    64,
                    65,
                    66,
                    67,
                    68,
                    69,
                    70,
                    71,
                    72,
                    73,
                    74,
                    75,
                    76,
                    77,
                    78,
                    79,
                    80,
                    81,
                    82,
                    83,
                    84,
                    85,
                    86,
                    87,
                    88,
                    89,
                    90,
                    91,
                    92,
                    93,
                    94,
                    95,
                    96,
                    97,
                    98,
                    99,
                    100,
                    101,
                    102,
                    103,
                    104,
                    105,
                    106,
                    107,
                    108,
                    109,
                    110,
                    111,
                    112,
                    113,
                    114,
                    115,
                    116,
                    117,
                    118,
                    119,
                    120,
                    121,
                    122,
                    123,
                    124,
                    125,
                    126,
                    127,
                    128,
                    129,
                    130,
                    131,
                    132,
                    133,
                    134,
                    135,
                    136
                  ],
                  "marker": {
                    "color": "blue",
                    "opacity": 0.7,
                    "size": 8
                  },
                  "mode": "markers",
                  "name": "Страны",
                  "type": "scatter",
                  "x": [
                    37.3,
                    99,
                    87,
                    72.4,
                    98,
                    100,
                    100,
                    100,
                    99,
                    95,
                    75,
                    100,
                    98,
                    77.7,
                    95,
                    96,
                    94,
                    99,
                    93.1,
                    66,
                    83,
                    88,
                    99,
                    44,
                    98,
                    95,
                    95,
                    80.6,
                    98,
                    99,
                    100,
                    100,
                    100,
                    99,
                    95,
                    77,
                    88,
                    100,
                    62,
                    100,
                    99,
                    95,
                    69,
                    100,
                    99,
                    71,
                    99,
                    81,
                    89,
                    97,
                    100,
                    100,
                    73,
                    95,
                    88,
                    90,
                    100,
                    99,
                    99,
                    93.6,
                    99,
                    100,
                    94,
                    100,
                    94,
                    92,
                    100,
                    83,
                    100,
                    95,
                    94,
                    100,
                    96,
                    98,
                    81,
                    82,
                    95,
                    90,
                    100,
                    95,
                    100,
                    99,
                    99,
                    66,
                    45.999996,
                    67,
                    97,
                    100,
                    85,
                    77,
                    98,
                    100,
                    94.86,
                    57,
                    97,
                    96,
                    99,
                    100,
                    97,
                    97,
                    99,
                    100,
                    80,
                    100,
                    100,
                    92,
                    53,
                    99,
                    51,
                    97,
                    100,
                    100,
                    96,
                    98,
                    99,
                    92,
                    50,
                    100,
                    100,
                    100,
                    98,
                    88,
                    97,
                    68.1,
                    67,
                    99,
                    84,
                    95,
                    85,
                    100,
                    94,
                    99,
                    100,
                    99,
                    95,
                    95,
                    97
                  ],
                  "y": [
                    61.9824,
                    76.4626,
                    76.3767,
                    61.6434,
                    75.3899,
                    72.0431,
                    84.5265,
                    81.5797,
                    69.3658,
                    78.7605,
                    72.3811,
                    72.438,
                    81.8787,
                    79.2801,
                    63.6304,
                    75.3003,
                    72.7504,
                    71.798,
                    69.1,
                    61.6627,
                    69.5835,
                    60.3334,
                    82.6565,
                    52.5254,
                    78.9435,
                    78.2107,
                    72.8296,
                    63.5,
                    77.0232,
                    77.5804,
                    81.2033,
                    77.7283,
                    81.3753,
                    72.6146,
                    73.67,
                    70.2207,
                    70.7479,
                    77.1436,
                    64.9748,
                    82.0381,
                    82.4988,
                    65.821,
                    62.083,
                    71.694,
                    80.6301,
                    63.7954,
                    80.1106,
                    69.2368,
                    70.1229,
                    85.4734,
                    74.5301,
                    82.6782,
                    67.2398,
                    67.5703,
                    73.8749,
                    70.3779,
                    81.9976,
                    82.255,
                    82.8502,
                    61.9,
                    70.5003,
                    84.7839,
                    74.2563,
                    69.3622,
                    61.427,
                    78.6729,
                    69.9774,
                    68.0608,
                    73.5786,
                    75.0472,
                    53.062,
                    73.7201,
                    82.6287,
                    85.3994,
                    64.4853,
                    62.9044,
                    74.8839,
                    79.9182,
                    83.7769,
                    70.2127,
                    68.8459,
                    70.9754,
                    76.3426,
                    74.0419,
                    59.3247,
                    68.4495,
                    81.6873,
                    82.4513,
                    73.8368,
                    52.676,
                    73.8415,
                    83.2339,
                    72.5406,
                    66.0979,
                    70.2617,
                    72.3769,
                    69.2664,
                    76.4572,
                    81.0443,
                    79.2716,
                    74.1847,
                    69.419,
                    66.0722,
                    72.7675,
                    80.8786,
                    76.936,
                    67.0926,
                    74.1923,
                    60.0624,
                    82.7545,
                    74.9101,
                    80.6904,
                    62.341,
                    83.6978,
                    83.01,
                    76.3991,
                    65.2667,
                    70.2743,
                    82.9833,
                    83.9872,
                    71.5942,
                    66.2007,
                    78.7154,
                    67,
                    61.6194,
                    72.9709,
                    73.7719,
                    76.0324,
                    62.7048,
                    71.624,
                    78.7104,
                    80.7422,
                    77.1982,
                    75.4356,
                    73.6181,
                    61.2234,
                    59.2531
                  ]
                }
              ],
              "layout": {
                "height": 600,
                "template": {
                  "data": {
                    "bar": [
                      {
                        "error_x": {
                          "color": "#2a3f5f"
                        },
                        "error_y": {
                          "color": "#2a3f5f"
                        },
                        "marker": {
                          "line": {
                            "color": "#E5ECF6",
                            "width": 0.5
                          },
                          "pattern": {
                            "fillmode": "overlay",
                            "size": 10,
                            "solidity": 0.2
                          }
                        },
                        "type": "bar"
                      }
                    ],
                    "barpolar": [
                      {
                        "marker": {
                          "line": {
                            "color": "#E5ECF6",
                            "width": 0.5
                          },
                          "pattern": {
                            "fillmode": "overlay",
                            "size": 10,
                            "solidity": 0.2
                          }
                        },
                        "type": "barpolar"
                      }
                    ],
                    "carpet": [
                      {
                        "aaxis": {
                          "endlinecolor": "#2a3f5f",
                          "gridcolor": "white",
                          "linecolor": "white",
                          "minorgridcolor": "white",
                          "startlinecolor": "#2a3f5f"
                        },
                        "baxis": {
                          "endlinecolor": "#2a3f5f",
                          "gridcolor": "white",
                          "linecolor": "white",
                          "minorgridcolor": "white",
                          "startlinecolor": "#2a3f5f"
                        },
                        "type": "carpet"
                      }
                    ],
                    "choropleth": [
                      {
                        "colorbar": {
                          "outlinewidth": 0,
                          "ticks": ""
                        },
                        "type": "choropleth"
                      }
                    ],
                    "contour": [
                      {
                        "colorbar": {
                          "outlinewidth": 0,
                          "ticks": ""
                        },
                        "colorscale": [
                          [
                            0,
                            "#0d0887"
                          ],
                          [
                            0.1111111111111111,
                            "#46039f"
                          ],
                          [
                            0.2222222222222222,
                            "#7201a8"
                          ],
                          [
                            0.3333333333333333,
                            "#9c179e"
                          ],
                          [
                            0.4444444444444444,
                            "#bd3786"
                          ],
                          [
                            0.5555555555555556,
                            "#d8576b"
                          ],
                          [
                            0.6666666666666666,
                            "#ed7953"
                          ],
                          [
                            0.7777777777777778,
                            "#fb9f3a"
                          ],
                          [
                            0.8888888888888888,
                            "#fdca26"
                          ],
                          [
                            1,
                            "#f0f921"
                          ]
                        ],
                        "type": "contour"
                      }
                    ],
                    "contourcarpet": [
                      {
                        "colorbar": {
                          "outlinewidth": 0,
                          "ticks": ""
                        },
                        "type": "contourcarpet"
                      }
                    ],
                    "heatmap": [
                      {
                        "colorbar": {
                          "outlinewidth": 0,
                          "ticks": ""
                        },
                        "colorscale": [
                          [
                            0,
                            "#0d0887"
                          ],
                          [
                            0.1111111111111111,
                            "#46039f"
                          ],
                          [
                            0.2222222222222222,
                            "#7201a8"
                          ],
                          [
                            0.3333333333333333,
                            "#9c179e"
                          ],
                          [
                            0.4444444444444444,
                            "#bd3786"
                          ],
                          [
                            0.5555555555555556,
                            "#d8576b"
                          ],
                          [
                            0.6666666666666666,
                            "#ed7953"
                          ],
                          [
                            0.7777777777777778,
                            "#fb9f3a"
                          ],
                          [
                            0.8888888888888888,
                            "#fdca26"
                          ],
                          [
                            1,
                            "#f0f921"
                          ]
                        ],
                        "type": "heatmap"
                      }
                    ],
                    "heatmapgl": [
                      {
                        "colorbar": {
                          "outlinewidth": 0,
                          "ticks": ""
                        },
                        "colorscale": [
                          [
                            0,
                            "#0d0887"
                          ],
                          [
                            0.1111111111111111,
                            "#46039f"
                          ],
                          [
                            0.2222222222222222,
                            "#7201a8"
                          ],
                          [
                            0.3333333333333333,
                            "#9c179e"
                          ],
                          [
                            0.4444444444444444,
                            "#bd3786"
                          ],
                          [
                            0.5555555555555556,
                            "#d8576b"
                          ],
                          [
                            0.6666666666666666,
                            "#ed7953"
                          ],
                          [
                            0.7777777777777778,
                            "#fb9f3a"
                          ],
                          [
                            0.8888888888888888,
                            "#fdca26"
                          ],
                          [
                            1,
                            "#f0f921"
                          ]
                        ],
                        "type": "heatmapgl"
                      }
                    ],
                    "histogram": [
                      {
                        "marker": {
                          "pattern": {
                            "fillmode": "overlay",
                            "size": 10,
                            "solidity": 0.2
                          }
                        },
                        "type": "histogram"
                      }
                    ],
                    "histogram2d": [
                      {
                        "colorbar": {
                          "outlinewidth": 0,
                          "ticks": ""
                        },
                        "colorscale": [
                          [
                            0,
                            "#0d0887"
                          ],
                          [
                            0.1111111111111111,
                            "#46039f"
                          ],
                          [
                            0.2222222222222222,
                            "#7201a8"
                          ],
                          [
                            0.3333333333333333,
                            "#9c179e"
                          ],
                          [
                            0.4444444444444444,
                            "#bd3786"
                          ],
                          [
                            0.5555555555555556,
                            "#d8576b"
                          ],
                          [
                            0.6666666666666666,
                            "#ed7953"
                          ],
                          [
                            0.7777777777777778,
                            "#fb9f3a"
                          ],
                          [
                            0.8888888888888888,
                            "#fdca26"
                          ],
                          [
                            1,
                            "#f0f921"
                          ]
                        ],
                        "type": "histogram2d"
                      }
                    ],
                    "histogram2dcontour": [
                      {
                        "colorbar": {
                          "outlinewidth": 0,
                          "ticks": ""
                        },
                        "colorscale": [
                          [
                            0,
                            "#0d0887"
                          ],
                          [
                            0.1111111111111111,
                            "#46039f"
                          ],
                          [
                            0.2222222222222222,
                            "#7201a8"
                          ],
                          [
                            0.3333333333333333,
                            "#9c179e"
                          ],
                          [
                            0.4444444444444444,
                            "#bd3786"
                          ],
                          [
                            0.5555555555555556,
                            "#d8576b"
                          ],
                          [
                            0.6666666666666666,
                            "#ed7953"
                          ],
                          [
                            0.7777777777777778,
                            "#fb9f3a"
                          ],
                          [
                            0.8888888888888888,
                            "#fdca26"
                          ],
                          [
                            1,
                            "#f0f921"
                          ]
                        ],
                        "type": "histogram2dcontour"
                      }
                    ],
                    "mesh3d": [
                      {
                        "colorbar": {
                          "outlinewidth": 0,
                          "ticks": ""
                        },
                        "type": "mesh3d"
                      }
                    ],
                    "parcoords": [
                      {
                        "line": {
                          "colorbar": {
                            "outlinewidth": 0,
                            "ticks": ""
                          }
                        },
                        "type": "parcoords"
                      }
                    ],
                    "pie": [
                      {
                        "automargin": true,
                        "type": "pie"
                      }
                    ],
                    "scatter": [
                      {
                        "fillpattern": {
                          "fillmode": "overlay",
                          "size": 10,
                          "solidity": 0.2
                        },
                        "type": "scatter"
                      }
                    ],
                    "scatter3d": [
                      {
                        "line": {
                          "colorbar": {
                            "outlinewidth": 0,
                            "ticks": ""
                          }
                        },
                        "marker": {
                          "colorbar": {
                            "outlinewidth": 0,
                            "ticks": ""
                          }
                        },
                        "type": "scatter3d"
                      }
                    ],
                    "scattercarpet": [
                      {
                        "marker": {
                          "colorbar": {
                            "outlinewidth": 0,
                            "ticks": ""
                          }
                        },
                        "type": "scattercarpet"
                      }
                    ],
                    "scattergeo": [
                      {
                        "marker": {
                          "colorbar": {
                            "outlinewidth": 0,
                            "ticks": ""
                          }
                        },
                        "type": "scattergeo"
                      }
                    ],
                    "scattergl": [
                      {
                        "marker": {
                          "colorbar": {
                            "outlinewidth": 0,
                            "ticks": ""
                          }
                        },
                        "type": "scattergl"
                      }
                    ],
                    "scattermapbox": [
                      {
                        "marker": {
                          "colorbar": {
                            "outlinewidth": 0,
                            "ticks": ""
                          }
                        },
                        "type": "scattermapbox"
                      }
                    ],
                    "scatterpolar": [
                      {
                        "marker": {
                          "colorbar": {
                            "outlinewidth": 0,
                            "ticks": ""
                          }
                        },
                        "type": "scatterpolar"
                      }
                    ],
                    "scatterpolargl": [
                      {
                        "marker": {
                          "colorbar": {
                            "outlinewidth": 0,
                            "ticks": ""
                          }
                        },
                        "type": "scatterpolargl"
                      }
                    ],
                    "scatterternary": [
                      {
                        "marker": {
                          "colorbar": {
                            "outlinewidth": 0,
                            "ticks": ""
                          }
                        },
                        "type": "scatterternary"
                      }
                    ],
                    "surface": [
                      {
                        "colorbar": {
                          "outlinewidth": 0,
                          "ticks": ""
                        },
                        "colorscale": [
                          [
                            0,
                            "#0d0887"
                          ],
                          [
                            0.1111111111111111,
                            "#46039f"
                          ],
                          [
                            0.2222222222222222,
                            "#7201a8"
                          ],
                          [
                            0.3333333333333333,
                            "#9c179e"
                          ],
                          [
                            0.4444444444444444,
                            "#bd3786"
                          ],
                          [
                            0.5555555555555556,
                            "#d8576b"
                          ],
                          [
                            0.6666666666666666,
                            "#ed7953"
                          ],
                          [
                            0.7777777777777778,
                            "#fb9f3a"
                          ],
                          [
                            0.8888888888888888,
                            "#fdca26"
                          ],
                          [
                            1,
                            "#f0f921"
                          ]
                        ],
                        "type": "surface"
                      }
                    ],
                    "table": [
                      {
                        "cells": {
                          "fill": {
                            "color": "#EBF0F8"
                          },
                          "line": {
                            "color": "white"
                          }
                        },
                        "header": {
                          "fill": {
                            "color": "#C8D4E3"
                          },
                          "line": {
                            "color": "white"
                          }
                        },
                        "type": "table"
                      }
                    ]
                  },
                  "layout": {
                    "annotationdefaults": {
                      "arrowcolor": "#2a3f5f",
                      "arrowhead": 0,
                      "arrowwidth": 1
                    },
                    "autotypenumbers": "strict",
                    "coloraxis": {
                      "colorbar": {
                        "outlinewidth": 0,
                        "ticks": ""
                      }
                    },
                    "colorscale": {
                      "diverging": [
                        [
                          0,
                          "#8e0152"
                        ],
                        [
                          0.1,
                          "#c51b7d"
                        ],
                        [
                          0.2,
                          "#de77ae"
                        ],
                        [
                          0.3,
                          "#f1b6da"
                        ],
                        [
                          0.4,
                          "#fde0ef"
                        ],
                        [
                          0.5,
                          "#f7f7f7"
                        ],
                        [
                          0.6,
                          "#e6f5d0"
                        ],
                        [
                          0.7,
                          "#b8e186"
                        ],
                        [
                          0.8,
                          "#7fbc41"
                        ],
                        [
                          0.9,
                          "#4d9221"
                        ],
                        [
                          1,
                          "#276419"
                        ]
                      ],
                      "sequential": [
                        [
                          0,
                          "#0d0887"
                        ],
                        [
                          0.1111111111111111,
                          "#46039f"
                        ],
                        [
                          0.2222222222222222,
                          "#7201a8"
                        ],
                        [
                          0.3333333333333333,
                          "#9c179e"
                        ],
                        [
                          0.4444444444444444,
                          "#bd3786"
                        ],
                        [
                          0.5555555555555556,
                          "#d8576b"
                        ],
                        [
                          0.6666666666666666,
                          "#ed7953"
                        ],
                        [
                          0.7777777777777778,
                          "#fb9f3a"
                        ],
                        [
                          0.8888888888888888,
                          "#fdca26"
                        ],
                        [
                          1,
                          "#f0f921"
                        ]
                      ],
                      "sequentialminus": [
                        [
                          0,
                          "#0d0887"
                        ],
                        [
                          0.1111111111111111,
                          "#46039f"
                        ],
                        [
                          0.2222222222222222,
                          "#7201a8"
                        ],
                        [
                          0.3333333333333333,
                          "#9c179e"
                        ],
                        [
                          0.4444444444444444,
                          "#bd3786"
                        ],
                        [
                          0.5555555555555556,
                          "#d8576b"
                        ],
                        [
                          0.6666666666666666,
                          "#ed7953"
                        ],
                        [
                          0.7777777777777778,
                          "#fb9f3a"
                        ],
                        [
                          0.8888888888888888,
                          "#fdca26"
                        ],
                        [
                          1,
                          "#f0f921"
                        ]
                      ]
                    },
                    "colorway": [
                      "#636efa",
                      "#EF553B",
                      "#00cc96",
                      "#ab63fa",
                      "#FFA15A",
                      "#19d3f3",
                      "#FF6692",
                      "#B6E880",
                      "#FF97FF",
                      "#FECB52"
                    ],
                    "font": {
                      "color": "#2a3f5f"
                    },
                    "geo": {
                      "bgcolor": "white",
                      "lakecolor": "white",
                      "landcolor": "#E5ECF6",
                      "showlakes": true,
                      "showland": true,
                      "subunitcolor": "white"
                    },
                    "hoverlabel": {
                      "align": "left"
                    },
                    "hovermode": "closest",
                    "mapbox": {
                      "style": "light"
                    },
                    "paper_bgcolor": "white",
                    "plot_bgcolor": "#E5ECF6",
                    "polar": {
                      "angularaxis": {
                        "gridcolor": "white",
                        "linecolor": "white",
                        "ticks": ""
                      },
                      "bgcolor": "#E5ECF6",
                      "radialaxis": {
                        "gridcolor": "white",
                        "linecolor": "white",
                        "ticks": ""
                      }
                    },
                    "scene": {
                      "xaxis": {
                        "backgroundcolor": "#E5ECF6",
                        "gridcolor": "white",
                        "gridwidth": 2,
                        "linecolor": "white",
                        "showbackground": true,
                        "ticks": "",
                        "zerolinecolor": "white"
                      },
                      "yaxis": {
                        "backgroundcolor": "#E5ECF6",
                        "gridcolor": "white",
                        "gridwidth": 2,
                        "linecolor": "white",
                        "showbackground": true,
                        "ticks": "",
                        "zerolinecolor": "white"
                      },
                      "zaxis": {
                        "backgroundcolor": "#E5ECF6",
                        "gridcolor": "white",
                        "gridwidth": 2,
                        "linecolor": "white",
                        "showbackground": true,
                        "ticks": "",
                        "zerolinecolor": "white"
                      }
                    },
                    "shapedefaults": {
                      "line": {
                        "color": "#2a3f5f"
                      }
                    },
                    "ternary": {
                      "aaxis": {
                        "gridcolor": "white",
                        "linecolor": "white",
                        "ticks": ""
                      },
                      "baxis": {
                        "gridcolor": "white",
                        "linecolor": "white",
                        "ticks": ""
                      },
                      "bgcolor": "#E5ECF6",
                      "caxis": {
                        "gridcolor": "white",
                        "linecolor": "white",
                        "ticks": ""
                      }
                    },
                    "title": {
                      "x": 0.05
                    },
                    "xaxis": {
                      "automargin": true,
                      "gridcolor": "white",
                      "linecolor": "white",
                      "ticks": "",
                      "title": {
                        "standoff": 15
                      },
                      "zerolinecolor": "white",
                      "zerolinewidth": 2
                    },
                    "yaxis": {
                      "automargin": true,
                      "gridcolor": "white",
                      "linecolor": "white",
                      "ticks": "",
                      "title": {
                        "standoff": 15
                      },
                      "zerolinecolor": "white",
                      "zerolinewidth": 2
                    }
                  }
                },
                "title": {
                  "text": "Связь уровня образования и продолжительности жизни"
                },
                "width": 900,
                "xaxis": {
                  "title": {
                    "text": "Уровень образования (%)"
                  }
                },
                "yaxis": {
                  "title": {
                    "text": "Продолжительность жизни (лет)"
                  }
                }
              }
            }
          },
          "metadata": {},
          "output_type": "display_data"
        }
      ],
      "source": [
        "fig = go.Figure()\n",
        "\n",
        "fig.add_trace(go.Scatter(\n",
        "    x = df_life['Education level'],\n",
        "    y = df_life['Life expectancy'],\n",
        "    mode = 'markers',\n",
        "    marker = dict(size=8, color='blue', opacity=0.7),\n",
        "    hovertext = df_life.index,\n",
        "    hoverinfo = 'text+x+y',\n",
        "    name = \"Страны\"\n",
        "))\n",
        "\n",
        "fig.update_layout(\n",
        "    title = \"Связь уровня образования и продолжительности жизни\",\n",
        "    xaxis_title = \"Уровень образования (%)\",\n",
        "    yaxis_title = \"Продолжительность жизни (лет)\",\n",
        "    width = 900,\n",
        "    height = 600\n",
        ")\n",
        "\n",
        "fig.show()"
      ]
    },
    {
      "cell_type": "code",
      "execution_count": 105,
      "id": "ebe0d7d5",
      "metadata": {},
      "outputs": [
        {
          "data": {
            "text/plain": [
              "{'Shapiro-Wilk Education p-value': 2.4588654951116645e-15,\n",
              " 'Shapiro-Wilk Life Expectancy p-value': 0.0021852462086826563,\n",
              " 'Pearson Corr': 0.5936330048635492,\n",
              " 'Pearson p-value': 2.0893501788014177e-14,\n",
              " 'Spearman Corr': 0.5839281986881277,\n",
              " 'Spearman p-value': 6.913317214185513e-14}"
            ]
          },
          "execution_count": 105,
          "metadata": {},
          "output_type": "execute_result"
        }
      ],
      "source": [
        "life_results = {\n",
        "    \"Shapiro-Wilk Education p-value\": shapiro_edu.pvalue,\n",
        "    \"Shapiro-Wilk Life Expectancy p-value\": shapiro_life.pvalue,\n",
        "    \"Pearson Corr\": pearson_corr,\n",
        "    \"Pearson p-value\": pearson_p,\n",
        "    \"Spearman Corr\": spearman_corr,\n",
        "    \"Spearman p-value\": spearman_p\n",
        "}\n",
        "\n",
        "life_results"
      ]
    },
    {
      "cell_type": "markdown",
      "id": "13abaa5c",
      "metadata": {},
      "source": [
        "Критерий Шапиро-Уилка показал, что данные не нормальны (p < 0.05).\n",
        "\n",
        "Корреляция Пирсона (r = 0.59) и Спирмена (r = 0.58) указывает на умеренную положительную связь.\n",
        "\n",
        "p-значения (< 0.0001) подтверждают статистическую значимость корреляции.\n",
        "\n",
        "График показывает, что страны с высоким уровнем образования, как правило, имеют большую продолжительность жизни.\n",
        "\n",
        "Вывод: Люди с лучшим образованием получают больше знаний о здоровье, имеют лучший доступ к медицинским услугам и более высокий уровень дохода, что увеличивает продолжительность жизни."
      ]
    },
    {
      "cell_type": "markdown",
      "id": "cfbff324",
      "metadata": {},
      "source": [
        "#### Гипотеза 2: Связь показателя здоровья с продолжительностью жизни"
      ]
    },
    {
      "cell_type": "code",
      "execution_count": 106,
      "id": "936da7d6",
      "metadata": {},
      "outputs": [
        {
          "name": "stdout",
          "output_type": "stream",
          "text": [
            "Pearson correlation (Health vs LifeExp): 0.9174, p-value = 0.0000\n",
            "Spearman correlation (Health vs LifeExp): 0.9007, p-value = 0.0000\n",
            "Linear regression: slope = 0.2645, intercept = 57.6645\n",
            "R-squared = 0.8417, p-value (slope) = 7.007944035680107e-56\n"
          ]
        }
      ],
      "source": [
        "df_health: pd.DataFrame = quality_life[['Country', 'Health', 'Life expectancy']].dropna()\n",
        "\n",
        "pearson_health: PearsonRResult = pearsonr(df_health['Health'], df_health['Life expectancy'])\n",
        "spearman_health: SignificanceResult = spearmanr(df_health['Health'], df_health['Life expectancy'])\n",
        "\n",
        "print(f\"Pearson correlation (Health vs LifeExp): {pearson_health[0]:.4f}, p-value = {pearson_health[1]:.4f}\")\n",
        "print(f\"Spearman correlation (Health vs LifeExp): {spearman_health.correlation:.4f}, p-value = {spearman_health.pvalue:.4f}\")\n",
        "\n",
        "reg_health: LinregressResult = linregress(df_health['Health'], df_health['Life expectancy'])\n",
        "\n",
        "print(f\"Linear regression: slope = {reg_health.slope:.4f}, intercept = {reg_health.intercept:.4f}\")\n",
        "print(f\"R-squared = {reg_health.rvalue**2:.4f}, p-value (slope) = {reg_health.pvalue}\")\n",
        "\n",
        "\n"
      ]
    },
    {
      "cell_type": "code",
      "execution_count": 107,
      "id": "3754cde0",
      "metadata": {},
      "outputs": [
        {
          "data": {
            "application/vnd.plotly.v1+json": {
              "config": {
                "plotlyServerURL": "https://plot.ly"
              },
              "data": [
                {
                  "hoverinfo": "text+x+y",
                  "hovertext": [
                    "Afghanistan",
                    "Albania",
                    "Algeria",
                    "Angola",
                    "Argentina",
                    "Armenia",
                    "Australia",
                    "Austria",
                    "Azerbaijan",
                    "Bahrain",
                    "Bangladesh",
                    "Belarus",
                    "Belgium",
                    "Bermuda",
                    "Bolivia",
                    "Bosnia and Herzegovina",
                    "Brazil",
                    "Bulgaria",
                    "Burma",
                    "Burundi",
                    "Cambodia",
                    "Cameroon",
                    "Canada",
                    "Chad",
                    "Chile",
                    "China",
                    "Colombia",
                    "Congo (Dem. Republic)",
                    "Costa Rica",
                    "Croatia",
                    "Cyprus",
                    "Czechia",
                    "Denmark",
                    "Dominican Republic",
                    "Ecuador",
                    "Egypt",
                    "El Salvador",
                    "Estonia",
                    "Ethiopia",
                    "Finland",
                    "France",
                    "Gabon",
                    "Gambia",
                    "Georgia",
                    "Germany",
                    "Ghana",
                    "Greece",
                    "Guatemala",
                    "Honduras",
                    "Hong Kong",
                    "Hungary",
                    "Iceland",
                    "India",
                    "Indonesia",
                    "Iran",
                    "Iraq",
                    "Ireland",
                    "Israel",
                    "Italy",
                    "Ivory Coast",
                    "Jamaica",
                    "Japan",
                    "Jordan",
                    "Kazakhstan",
                    "Kenya",
                    "Kuwait",
                    "Kyrgyzstan",
                    "Laos",
                    "Latvia",
                    "Lebanon",
                    "Lesotho",
                    "Lithuania",
                    "Luxembourg",
                    "Macao",
                    "Madagascar",
                    "Malawi",
                    "Malaysia",
                    "Maldives",
                    "Malta",
                    "Mexico",
                    "Moldova",
                    "Mongolia",
                    "Montenegro",
                    "Morocco",
                    "Mozambique",
                    "Nepal",
                    "Netherlands",
                    "New Zealand",
                    "Nicaragua",
                    "Nigeria",
                    "North Macedonia",
                    "Norway",
                    "Oman",
                    "Pakistan",
                    "Paraguay",
                    "Peru",
                    "Philippines",
                    "Poland",
                    "Portugal",
                    "Qatar",
                    "Romania",
                    "Russia",
                    "Rwanda",
                    "Samoa",
                    "San Marino",
                    "Saudi Arabia",
                    "Senegal",
                    "Serbia",
                    "Sierra Leone",
                    "Singapore",
                    "Slovakia",
                    "Slovenia",
                    "South Africa",
                    "South Korea",
                    "Spain",
                    "Sri Lanka",
                    "Sudan",
                    "Suriname",
                    "Sweden",
                    "Switzerland",
                    "Tajikistan",
                    "Tanzania",
                    "Thailand",
                    "Timor-Leste",
                    "Togo",
                    "Trinidad and Tobago",
                    "Tunisia",
                    "Turkey",
                    "Uganda",
                    "Ukraine",
                    "United Arab Emirates",
                    "United Kingdom",
                    "United States",
                    "Uruguay",
                    "Vietnam",
                    "Zambia",
                    "Zimbabwe"
                  ],
                  "marker": {
                    "color": "green",
                    "opacity": 0.7,
                    "size": 8
                  },
                  "mode": "markers+text",
                  "name": "Страны",
                  "type": "scatter",
                  "x": [
                    20,
                    64,
                    61,
                    10,
                    79,
                    70,
                    87,
                    97,
                    70,
                    61,
                    44,
                    82,
                    88,
                    96,
                    45,
                    69,
                    63,
                    81,
                    32,
                    9,
                    28,
                    9,
                    78,
                    0,
                    68,
                    67,
                    62,
                    6,
                    64,
                    80,
                    77,
                    90,
                    85,
                    52,
                    60,
                    44,
                    49,
                    81,
                    16,
                    87,
                    91,
                    32,
                    21,
                    67,
                    96,
                    26,
                    89,
                    44,
                    46,
                    100,
                    81,
                    87,
                    35,
                    39,
                    60,
                    42,
                    82,
                    84,
                    87,
                    11,
                    51,
                    92,
                    60,
                    69,
                    25,
                    66,
                    57,
                    30,
                    77,
                    65,
                    12,
                    82,
                    85,
                    100,
                    22,
                    20,
                    61,
                    72,
                    91,
                    54,
                    67,
                    60,
                    68,
                    53,
                    10,
                    34,
                    83,
                    81,
                    45,
                    12,
                    70,
                    90,
                    64,
                    31,
                    51,
                    54,
                    45,
                    79,
                    82,
                    62,
                    73,
                    74,
                    27,
                    50,
                    91,
                    61,
                    33,
                    71,
                    6,
                    79,
                    77,
                    83,
                    31,
                    92,
                    87,
                    62,
                    18,
                    50,
                    85,
                    93,
                    53,
                    21,
                    65,
                    42,
                    12,
                    61,
                    60,
                    64,
                    14,
                    71,
                    65,
                    78,
                    71,
                    75,
                    54,
                    18,
                    13
                  ],
                  "y": [
                    61.9824,
                    76.4626,
                    76.3767,
                    61.6434,
                    75.3899,
                    72.0431,
                    84.5265,
                    81.5797,
                    69.3658,
                    78.7605,
                    72.3811,
                    72.438,
                    81.8787,
                    79.2801,
                    63.6304,
                    75.3003,
                    72.7504,
                    71.798,
                    69.1,
                    61.6627,
                    69.5835,
                    60.3334,
                    82.6565,
                    52.5254,
                    78.9435,
                    78.2107,
                    72.8296,
                    63.5,
                    77.0232,
                    77.5804,
                    81.2033,
                    77.7283,
                    81.3753,
                    72.6146,
                    73.67,
                    70.2207,
                    70.7479,
                    77.1436,
                    64.9748,
                    82.0381,
                    82.4988,
                    65.821,
                    62.083,
                    71.694,
                    80.6301,
                    63.7954,
                    80.1106,
                    69.2368,
                    70.1229,
                    85.4734,
                    74.5301,
                    82.6782,
                    67.2398,
                    67.5703,
                    73.8749,
                    70.3779,
                    81.9976,
                    82.255,
                    82.8502,
                    61.9,
                    70.5003,
                    84.7839,
                    74.2563,
                    69.3622,
                    61.427,
                    78.6729,
                    69.9774,
                    68.0608,
                    73.5786,
                    75.0472,
                    53.062,
                    73.7201,
                    82.6287,
                    85.3994,
                    64.4853,
                    62.9044,
                    74.8839,
                    79.9182,
                    83.7769,
                    70.2127,
                    68.8459,
                    70.9754,
                    76.3426,
                    74.0419,
                    59.3247,
                    68.4495,
                    81.6873,
                    82.4513,
                    73.8368,
                    52.676,
                    73.8415,
                    83.2339,
                    72.5406,
                    66.0979,
                    70.2617,
                    72.3769,
                    69.2664,
                    76.4572,
                    81.0443,
                    79.2716,
                    74.1847,
                    69.419,
                    66.0722,
                    72.7675,
                    80.8786,
                    76.936,
                    67.0926,
                    74.1923,
                    60.0624,
                    82.7545,
                    74.9101,
                    80.6904,
                    62.341,
                    83.6978,
                    83.01,
                    76.3991,
                    65.2667,
                    70.2743,
                    82.9833,
                    83.9872,
                    71.5942,
                    66.2007,
                    78.7154,
                    67,
                    61.6194,
                    72.9709,
                    73.7719,
                    76.0324,
                    62.7048,
                    71.624,
                    78.7104,
                    80.7422,
                    77.1982,
                    75.4356,
                    73.6181,
                    61.2234,
                    59.2531
                  ]
                }
              ],
              "layout": {
                "height": 600,
                "template": {
                  "data": {
                    "bar": [
                      {
                        "error_x": {
                          "color": "#2a3f5f"
                        },
                        "error_y": {
                          "color": "#2a3f5f"
                        },
                        "marker": {
                          "line": {
                            "color": "#E5ECF6",
                            "width": 0.5
                          },
                          "pattern": {
                            "fillmode": "overlay",
                            "size": 10,
                            "solidity": 0.2
                          }
                        },
                        "type": "bar"
                      }
                    ],
                    "barpolar": [
                      {
                        "marker": {
                          "line": {
                            "color": "#E5ECF6",
                            "width": 0.5
                          },
                          "pattern": {
                            "fillmode": "overlay",
                            "size": 10,
                            "solidity": 0.2
                          }
                        },
                        "type": "barpolar"
                      }
                    ],
                    "carpet": [
                      {
                        "aaxis": {
                          "endlinecolor": "#2a3f5f",
                          "gridcolor": "white",
                          "linecolor": "white",
                          "minorgridcolor": "white",
                          "startlinecolor": "#2a3f5f"
                        },
                        "baxis": {
                          "endlinecolor": "#2a3f5f",
                          "gridcolor": "white",
                          "linecolor": "white",
                          "minorgridcolor": "white",
                          "startlinecolor": "#2a3f5f"
                        },
                        "type": "carpet"
                      }
                    ],
                    "choropleth": [
                      {
                        "colorbar": {
                          "outlinewidth": 0,
                          "ticks": ""
                        },
                        "type": "choropleth"
                      }
                    ],
                    "contour": [
                      {
                        "colorbar": {
                          "outlinewidth": 0,
                          "ticks": ""
                        },
                        "colorscale": [
                          [
                            0,
                            "#0d0887"
                          ],
                          [
                            0.1111111111111111,
                            "#46039f"
                          ],
                          [
                            0.2222222222222222,
                            "#7201a8"
                          ],
                          [
                            0.3333333333333333,
                            "#9c179e"
                          ],
                          [
                            0.4444444444444444,
                            "#bd3786"
                          ],
                          [
                            0.5555555555555556,
                            "#d8576b"
                          ],
                          [
                            0.6666666666666666,
                            "#ed7953"
                          ],
                          [
                            0.7777777777777778,
                            "#fb9f3a"
                          ],
                          [
                            0.8888888888888888,
                            "#fdca26"
                          ],
                          [
                            1,
                            "#f0f921"
                          ]
                        ],
                        "type": "contour"
                      }
                    ],
                    "contourcarpet": [
                      {
                        "colorbar": {
                          "outlinewidth": 0,
                          "ticks": ""
                        },
                        "type": "contourcarpet"
                      }
                    ],
                    "heatmap": [
                      {
                        "colorbar": {
                          "outlinewidth": 0,
                          "ticks": ""
                        },
                        "colorscale": [
                          [
                            0,
                            "#0d0887"
                          ],
                          [
                            0.1111111111111111,
                            "#46039f"
                          ],
                          [
                            0.2222222222222222,
                            "#7201a8"
                          ],
                          [
                            0.3333333333333333,
                            "#9c179e"
                          ],
                          [
                            0.4444444444444444,
                            "#bd3786"
                          ],
                          [
                            0.5555555555555556,
                            "#d8576b"
                          ],
                          [
                            0.6666666666666666,
                            "#ed7953"
                          ],
                          [
                            0.7777777777777778,
                            "#fb9f3a"
                          ],
                          [
                            0.8888888888888888,
                            "#fdca26"
                          ],
                          [
                            1,
                            "#f0f921"
                          ]
                        ],
                        "type": "heatmap"
                      }
                    ],
                    "heatmapgl": [
                      {
                        "colorbar": {
                          "outlinewidth": 0,
                          "ticks": ""
                        },
                        "colorscale": [
                          [
                            0,
                            "#0d0887"
                          ],
                          [
                            0.1111111111111111,
                            "#46039f"
                          ],
                          [
                            0.2222222222222222,
                            "#7201a8"
                          ],
                          [
                            0.3333333333333333,
                            "#9c179e"
                          ],
                          [
                            0.4444444444444444,
                            "#bd3786"
                          ],
                          [
                            0.5555555555555556,
                            "#d8576b"
                          ],
                          [
                            0.6666666666666666,
                            "#ed7953"
                          ],
                          [
                            0.7777777777777778,
                            "#fb9f3a"
                          ],
                          [
                            0.8888888888888888,
                            "#fdca26"
                          ],
                          [
                            1,
                            "#f0f921"
                          ]
                        ],
                        "type": "heatmapgl"
                      }
                    ],
                    "histogram": [
                      {
                        "marker": {
                          "pattern": {
                            "fillmode": "overlay",
                            "size": 10,
                            "solidity": 0.2
                          }
                        },
                        "type": "histogram"
                      }
                    ],
                    "histogram2d": [
                      {
                        "colorbar": {
                          "outlinewidth": 0,
                          "ticks": ""
                        },
                        "colorscale": [
                          [
                            0,
                            "#0d0887"
                          ],
                          [
                            0.1111111111111111,
                            "#46039f"
                          ],
                          [
                            0.2222222222222222,
                            "#7201a8"
                          ],
                          [
                            0.3333333333333333,
                            "#9c179e"
                          ],
                          [
                            0.4444444444444444,
                            "#bd3786"
                          ],
                          [
                            0.5555555555555556,
                            "#d8576b"
                          ],
                          [
                            0.6666666666666666,
                            "#ed7953"
                          ],
                          [
                            0.7777777777777778,
                            "#fb9f3a"
                          ],
                          [
                            0.8888888888888888,
                            "#fdca26"
                          ],
                          [
                            1,
                            "#f0f921"
                          ]
                        ],
                        "type": "histogram2d"
                      }
                    ],
                    "histogram2dcontour": [
                      {
                        "colorbar": {
                          "outlinewidth": 0,
                          "ticks": ""
                        },
                        "colorscale": [
                          [
                            0,
                            "#0d0887"
                          ],
                          [
                            0.1111111111111111,
                            "#46039f"
                          ],
                          [
                            0.2222222222222222,
                            "#7201a8"
                          ],
                          [
                            0.3333333333333333,
                            "#9c179e"
                          ],
                          [
                            0.4444444444444444,
                            "#bd3786"
                          ],
                          [
                            0.5555555555555556,
                            "#d8576b"
                          ],
                          [
                            0.6666666666666666,
                            "#ed7953"
                          ],
                          [
                            0.7777777777777778,
                            "#fb9f3a"
                          ],
                          [
                            0.8888888888888888,
                            "#fdca26"
                          ],
                          [
                            1,
                            "#f0f921"
                          ]
                        ],
                        "type": "histogram2dcontour"
                      }
                    ],
                    "mesh3d": [
                      {
                        "colorbar": {
                          "outlinewidth": 0,
                          "ticks": ""
                        },
                        "type": "mesh3d"
                      }
                    ],
                    "parcoords": [
                      {
                        "line": {
                          "colorbar": {
                            "outlinewidth": 0,
                            "ticks": ""
                          }
                        },
                        "type": "parcoords"
                      }
                    ],
                    "pie": [
                      {
                        "automargin": true,
                        "type": "pie"
                      }
                    ],
                    "scatter": [
                      {
                        "fillpattern": {
                          "fillmode": "overlay",
                          "size": 10,
                          "solidity": 0.2
                        },
                        "type": "scatter"
                      }
                    ],
                    "scatter3d": [
                      {
                        "line": {
                          "colorbar": {
                            "outlinewidth": 0,
                            "ticks": ""
                          }
                        },
                        "marker": {
                          "colorbar": {
                            "outlinewidth": 0,
                            "ticks": ""
                          }
                        },
                        "type": "scatter3d"
                      }
                    ],
                    "scattercarpet": [
                      {
                        "marker": {
                          "colorbar": {
                            "outlinewidth": 0,
                            "ticks": ""
                          }
                        },
                        "type": "scattercarpet"
                      }
                    ],
                    "scattergeo": [
                      {
                        "marker": {
                          "colorbar": {
                            "outlinewidth": 0,
                            "ticks": ""
                          }
                        },
                        "type": "scattergeo"
                      }
                    ],
                    "scattergl": [
                      {
                        "marker": {
                          "colorbar": {
                            "outlinewidth": 0,
                            "ticks": ""
                          }
                        },
                        "type": "scattergl"
                      }
                    ],
                    "scattermapbox": [
                      {
                        "marker": {
                          "colorbar": {
                            "outlinewidth": 0,
                            "ticks": ""
                          }
                        },
                        "type": "scattermapbox"
                      }
                    ],
                    "scatterpolar": [
                      {
                        "marker": {
                          "colorbar": {
                            "outlinewidth": 0,
                            "ticks": ""
                          }
                        },
                        "type": "scatterpolar"
                      }
                    ],
                    "scatterpolargl": [
                      {
                        "marker": {
                          "colorbar": {
                            "outlinewidth": 0,
                            "ticks": ""
                          }
                        },
                        "type": "scatterpolargl"
                      }
                    ],
                    "scatterternary": [
                      {
                        "marker": {
                          "colorbar": {
                            "outlinewidth": 0,
                            "ticks": ""
                          }
                        },
                        "type": "scatterternary"
                      }
                    ],
                    "surface": [
                      {
                        "colorbar": {
                          "outlinewidth": 0,
                          "ticks": ""
                        },
                        "colorscale": [
                          [
                            0,
                            "#0d0887"
                          ],
                          [
                            0.1111111111111111,
                            "#46039f"
                          ],
                          [
                            0.2222222222222222,
                            "#7201a8"
                          ],
                          [
                            0.3333333333333333,
                            "#9c179e"
                          ],
                          [
                            0.4444444444444444,
                            "#bd3786"
                          ],
                          [
                            0.5555555555555556,
                            "#d8576b"
                          ],
                          [
                            0.6666666666666666,
                            "#ed7953"
                          ],
                          [
                            0.7777777777777778,
                            "#fb9f3a"
                          ],
                          [
                            0.8888888888888888,
                            "#fdca26"
                          ],
                          [
                            1,
                            "#f0f921"
                          ]
                        ],
                        "type": "surface"
                      }
                    ],
                    "table": [
                      {
                        "cells": {
                          "fill": {
                            "color": "#EBF0F8"
                          },
                          "line": {
                            "color": "white"
                          }
                        },
                        "header": {
                          "fill": {
                            "color": "#C8D4E3"
                          },
                          "line": {
                            "color": "white"
                          }
                        },
                        "type": "table"
                      }
                    ]
                  },
                  "layout": {
                    "annotationdefaults": {
                      "arrowcolor": "#2a3f5f",
                      "arrowhead": 0,
                      "arrowwidth": 1
                    },
                    "autotypenumbers": "strict",
                    "coloraxis": {
                      "colorbar": {
                        "outlinewidth": 0,
                        "ticks": ""
                      }
                    },
                    "colorscale": {
                      "diverging": [
                        [
                          0,
                          "#8e0152"
                        ],
                        [
                          0.1,
                          "#c51b7d"
                        ],
                        [
                          0.2,
                          "#de77ae"
                        ],
                        [
                          0.3,
                          "#f1b6da"
                        ],
                        [
                          0.4,
                          "#fde0ef"
                        ],
                        [
                          0.5,
                          "#f7f7f7"
                        ],
                        [
                          0.6,
                          "#e6f5d0"
                        ],
                        [
                          0.7,
                          "#b8e186"
                        ],
                        [
                          0.8,
                          "#7fbc41"
                        ],
                        [
                          0.9,
                          "#4d9221"
                        ],
                        [
                          1,
                          "#276419"
                        ]
                      ],
                      "sequential": [
                        [
                          0,
                          "#0d0887"
                        ],
                        [
                          0.1111111111111111,
                          "#46039f"
                        ],
                        [
                          0.2222222222222222,
                          "#7201a8"
                        ],
                        [
                          0.3333333333333333,
                          "#9c179e"
                        ],
                        [
                          0.4444444444444444,
                          "#bd3786"
                        ],
                        [
                          0.5555555555555556,
                          "#d8576b"
                        ],
                        [
                          0.6666666666666666,
                          "#ed7953"
                        ],
                        [
                          0.7777777777777778,
                          "#fb9f3a"
                        ],
                        [
                          0.8888888888888888,
                          "#fdca26"
                        ],
                        [
                          1,
                          "#f0f921"
                        ]
                      ],
                      "sequentialminus": [
                        [
                          0,
                          "#0d0887"
                        ],
                        [
                          0.1111111111111111,
                          "#46039f"
                        ],
                        [
                          0.2222222222222222,
                          "#7201a8"
                        ],
                        [
                          0.3333333333333333,
                          "#9c179e"
                        ],
                        [
                          0.4444444444444444,
                          "#bd3786"
                        ],
                        [
                          0.5555555555555556,
                          "#d8576b"
                        ],
                        [
                          0.6666666666666666,
                          "#ed7953"
                        ],
                        [
                          0.7777777777777778,
                          "#fb9f3a"
                        ],
                        [
                          0.8888888888888888,
                          "#fdca26"
                        ],
                        [
                          1,
                          "#f0f921"
                        ]
                      ]
                    },
                    "colorway": [
                      "#636efa",
                      "#EF553B",
                      "#00cc96",
                      "#ab63fa",
                      "#FFA15A",
                      "#19d3f3",
                      "#FF6692",
                      "#B6E880",
                      "#FF97FF",
                      "#FECB52"
                    ],
                    "font": {
                      "color": "#2a3f5f"
                    },
                    "geo": {
                      "bgcolor": "white",
                      "lakecolor": "white",
                      "landcolor": "#E5ECF6",
                      "showlakes": true,
                      "showland": true,
                      "subunitcolor": "white"
                    },
                    "hoverlabel": {
                      "align": "left"
                    },
                    "hovermode": "closest",
                    "mapbox": {
                      "style": "light"
                    },
                    "paper_bgcolor": "white",
                    "plot_bgcolor": "#E5ECF6",
                    "polar": {
                      "angularaxis": {
                        "gridcolor": "white",
                        "linecolor": "white",
                        "ticks": ""
                      },
                      "bgcolor": "#E5ECF6",
                      "radialaxis": {
                        "gridcolor": "white",
                        "linecolor": "white",
                        "ticks": ""
                      }
                    },
                    "scene": {
                      "xaxis": {
                        "backgroundcolor": "#E5ECF6",
                        "gridcolor": "white",
                        "gridwidth": 2,
                        "linecolor": "white",
                        "showbackground": true,
                        "ticks": "",
                        "zerolinecolor": "white"
                      },
                      "yaxis": {
                        "backgroundcolor": "#E5ECF6",
                        "gridcolor": "white",
                        "gridwidth": 2,
                        "linecolor": "white",
                        "showbackground": true,
                        "ticks": "",
                        "zerolinecolor": "white"
                      },
                      "zaxis": {
                        "backgroundcolor": "#E5ECF6",
                        "gridcolor": "white",
                        "gridwidth": 2,
                        "linecolor": "white",
                        "showbackground": true,
                        "ticks": "",
                        "zerolinecolor": "white"
                      }
                    },
                    "shapedefaults": {
                      "line": {
                        "color": "#2a3f5f"
                      }
                    },
                    "ternary": {
                      "aaxis": {
                        "gridcolor": "white",
                        "linecolor": "white",
                        "ticks": ""
                      },
                      "baxis": {
                        "gridcolor": "white",
                        "linecolor": "white",
                        "ticks": ""
                      },
                      "bgcolor": "#E5ECF6",
                      "caxis": {
                        "gridcolor": "white",
                        "linecolor": "white",
                        "ticks": ""
                      }
                    },
                    "title": {
                      "x": 0.05
                    },
                    "xaxis": {
                      "automargin": true,
                      "gridcolor": "white",
                      "linecolor": "white",
                      "ticks": "",
                      "title": {
                        "standoff": 15
                      },
                      "zerolinecolor": "white",
                      "zerolinewidth": 2
                    },
                    "yaxis": {
                      "automargin": true,
                      "gridcolor": "white",
                      "linecolor": "white",
                      "ticks": "",
                      "title": {
                        "standoff": 15
                      },
                      "zerolinecolor": "white",
                      "zerolinewidth": 2
                    }
                  }
                },
                "title": {
                  "text": "Здоровье VS продолжительность жизни"
                },
                "width": 800,
                "xaxis": {
                  "title": {
                    "text": "Качество здравоохранения"
                  }
                },
                "yaxis": {
                  "title": {
                    "text": "Ожидаемое кол-во жизни"
                  }
                }
              }
            }
          },
          "metadata": {},
          "output_type": "display_data"
        }
      ],
      "source": [
        "fig = go.Figure()\n",
        "fig.add_trace(go.Scatter(\n",
        "    x = df_health['Health'], \n",
        "    y = df_health['Life expectancy'],\n",
        "    mode = 'markers+text', \n",
        "    hovertext = df_health['Country'], \n",
        "    hoverinfo = 'text+x+y',\n",
        "    marker = dict(size = 8, color = 'green', opacity = 0.7),\n",
        "    name = \"Страны\"\n",
        "))\n",
        "fig.update_layout(\n",
        "    title = \"Здоровье VS продолжительность жизни\", \n",
        "    xaxis_title = \"Качество здравоохранения\", \n",
        "    yaxis_title = \"Ожидаемое кол-во жизни\",\n",
        "    width = 800, \n",
        "    height = 600\n",
        ")\n",
        "fig.show()"
      ]
    },
    {
      "cell_type": "markdown",
      "id": "d9b0a7ae",
      "metadata": {},
      "source": [
        "Корреляция Пирсона (r = 0.917) и Спирмена (r = 0.901) говорит о сильной положительной связи.\n",
        "\n",
        "Высокий R² = 0.842 означает, что 84.2% вариации продолжительности жизни объясняется качеством здравоохранения.\n",
        "\n",
        "Наклон в линейной регрессии (0.264) показывает, что улучшение системы здравоохранения на 1 пункт повышает ожидаемую продолжительность жизни на 0.26 лет.\n",
        "\n",
        "Вывод: Хорошая система здравоохранения способствует увеличению продолжительности жизни, снижению смертности и доступу к качественным медицинским услугам."
      ]
    },
    {
      "cell_type": "markdown",
      "id": "fca7bcd7",
      "metadata": {},
      "source": [
        "#### Гипотеза 3: Связь стоимости жизни и скорректированного ВВП"
      ]
    },
    {
      "cell_type": "code",
      "execution_count": 108,
      "id": "2e1722c7",
      "metadata": {},
      "outputs": [
        {
          "name": "stdout",
          "output_type": "stream",
          "text": [
            "Pearson correlation (Costs vs Corrected GDP): -0.3213, p-value = 0.0001\n",
            "Spearman correlation (Costs vs Corrected GDP): -0.5027, p-value = 3.844757021764013e-10\n",
            "Linear regression: slope = -1156.2623, intercept = 71729.0313\n",
            "R-squared = 0.1032, p-value (slope) = 0.0001\n"
          ]
        }
      ],
      "source": [
        "df_costs: pd.DataFrame = quality_life[['Country', 'Costs', 'Corrected_GDP']].dropna()\n",
        "\n",
        "pearson_costs: PearsonRResult = pearsonr(df_costs['Costs'], df_costs['Corrected_GDP'])\n",
        "spearman_costs: SignificanceResult = spearmanr(df_costs['Costs'], df_costs['Corrected_GDP'])\n",
        "\n",
        "print(f\"Pearson correlation (Costs vs Corrected GDP): {pearson_costs[0]:.4f}, p-value = {pearson_costs[1]:.4f}\")\n",
        "print(f\"Spearman correlation (Costs vs Corrected GDP): {spearman_costs.correlation:.4f}, p-value = {spearman_costs.pvalue}\")\n",
        "\n",
        "reg_costs: LinregressResult = linregress(df_costs['Costs'], df_costs['Corrected_GDP'])\n",
        "\n",
        "print(f\"Linear regression: slope = {reg_costs.slope:.4f}, intercept = {reg_costs.intercept:.4f}\")\n",
        "print(f\"R-squared = {reg_costs.rvalue**2:.4f}, p-value (slope) = {reg_costs.pvalue:.4f}\")\n",
        "\n"
      ]
    },
    {
      "cell_type": "code",
      "execution_count": 109,
      "id": "91133c20",
      "metadata": {},
      "outputs": [
        {
          "data": {
            "application/vnd.plotly.v1+json": {
              "config": {
                "plotlyServerURL": "https://plot.ly"
              },
              "data": [
                {
                  "hoverinfo": "text+x+y",
                  "hovertext": [
                    "Afghanistan",
                    "Albania",
                    "Algeria",
                    "Angola",
                    "Argentina",
                    "Armenia",
                    "Australia",
                    "Austria",
                    "Azerbaijan",
                    "Bahrain",
                    "Bangladesh",
                    "Belarus",
                    "Belgium",
                    "Bermuda",
                    "Bolivia",
                    "Bosnia and Herzegovina",
                    "Brazil",
                    "Bulgaria",
                    "Burma",
                    "Burundi",
                    "Cambodia",
                    "Cameroon",
                    "Canada",
                    "Chad",
                    "Chile",
                    "China",
                    "Colombia",
                    "Congo (Dem. Republic)",
                    "Costa Rica",
                    "Croatia",
                    "Cyprus",
                    "Czechia",
                    "Denmark",
                    "Dominican Republic",
                    "Ecuador",
                    "Egypt",
                    "El Salvador",
                    "Estonia",
                    "Ethiopia",
                    "Finland",
                    "France",
                    "Gabon",
                    "Gambia",
                    "Georgia",
                    "Germany",
                    "Ghana",
                    "Greece",
                    "Guatemala",
                    "Honduras",
                    "Hong Kong",
                    "Hungary",
                    "Iceland",
                    "India",
                    "Indonesia",
                    "Iran",
                    "Iraq",
                    "Ireland",
                    "Israel",
                    "Italy",
                    "Ivory Coast",
                    "Jamaica",
                    "Japan",
                    "Jordan",
                    "Kazakhstan",
                    "Kenya",
                    "Kuwait",
                    "Kyrgyzstan",
                    "Laos",
                    "Latvia",
                    "Lebanon",
                    "Lesotho",
                    "Lithuania",
                    "Luxembourg",
                    "Macao",
                    "Madagascar",
                    "Malawi",
                    "Malaysia",
                    "Maldives",
                    "Malta",
                    "Mexico",
                    "Moldova",
                    "Mongolia",
                    "Montenegro",
                    "Morocco",
                    "Mozambique",
                    "Nepal",
                    "Netherlands",
                    "New Zealand",
                    "Nicaragua",
                    "Nigeria",
                    "North Macedonia",
                    "Norway",
                    "Oman",
                    "Pakistan",
                    "Paraguay",
                    "Peru",
                    "Philippines",
                    "Poland",
                    "Portugal",
                    "Qatar",
                    "Romania",
                    "Russia",
                    "Rwanda",
                    "Samoa",
                    "San Marino",
                    "Saudi Arabia",
                    "Senegal",
                    "Serbia",
                    "Sierra Leone",
                    "Singapore",
                    "Slovakia",
                    "Slovenia",
                    "South Africa",
                    "South Korea",
                    "Spain",
                    "Sri Lanka",
                    "Sudan",
                    "Suriname",
                    "Sweden",
                    "Switzerland",
                    "Tajikistan",
                    "Tanzania",
                    "Thailand",
                    "Timor-Leste",
                    "Togo",
                    "Trinidad and Tobago",
                    "Tunisia",
                    "Turkey",
                    "Uganda",
                    "Ukraine",
                    "United Arab Emirates",
                    "United Kingdom",
                    "United States",
                    "Uruguay",
                    "Vietnam",
                    "Zambia",
                    "Zimbabwe"
                  ],
                  "marker": {
                    "color": "orange",
                    "opacity": 0.7,
                    "size": 8
                  },
                  "mode": "markers",
                  "name": "Страны",
                  "type": "scatter",
                  "x": [
                    63,
                    57,
                    55,
                    53,
                    41,
                    57,
                    23,
                    37,
                    64,
                    72,
                    61,
                    40,
                    32,
                    34,
                    51,
                    70,
                    44,
                    62,
                    73,
                    66,
                    66,
                    51,
                    37,
                    49,
                    54,
                    38,
                    46,
                    60,
                    46,
                    67,
                    53,
                    49,
                    35,
                    49,
                    61,
                    59,
                    50,
                    43,
                    63,
                    46,
                    29,
                    46,
                    58,
                    58,
                    44,
                    42,
                    44,
                    45,
                    57,
                    61,
                    56,
                    36,
                    45,
                    54,
                    43,
                    75,
                    35,
                    36,
                    30,
                    57,
                    47,
                    27,
                    63,
                    60,
                    45,
                    74,
                    71,
                    73,
                    55,
                    41,
                    57,
                    43,
                    46,
                    61,
                    66,
                    50,
                    46,
                    59,
                    41,
                    34,
                    62,
                    70,
                    61,
                    45,
                    53,
                    57,
                    40,
                    26,
                    41,
                    57,
                    64,
                    42,
                    68,
                    63,
                    66,
                    50,
                    46,
                    58,
                    44,
                    70,
                    68,
                    62,
                    58,
                    58,
                    61,
                    76,
                    56,
                    57,
                    64,
                    55,
                    42,
                    57,
                    49,
                    42,
                    43,
                    56,
                    66,
                    62,
                    40,
                    44,
                    51,
                    56,
                    55,
                    67,
                    54,
                    48,
                    47,
                    59,
                    57,
                    60,
                    67,
                    34,
                    37,
                    47,
                    51,
                    58,
                    37
                  ],
                  "y": [
                    134.43827796609378,
                    218.19757248415755,
                    2113.003203899459,
                    592.8232887307797,
                    6728.374588663811,
                    172.20341486213002,
                    42484.1831224381,
                    8760.200220947858,
                    619.4857724106355,
                    344.8836192288205,
                    4473.291941592072,
                    1284.9987641527964,
                    13223.857465853744,
                    130.44161395635894,
                    459.1513010011991,
                    223.07141753115593,
                    17590.39897822128,
                    813.8550794494705,
                    606.081081081081,
                    25.91183557189371,
                    257.76707348703206,
                    504.16108829364333,
                    35947.94076276905,
                    147.58549611796198,
                    3279.8431963109574,
                    293609.1935852432,
                    3061.82966726615,
                    123.98852459016393,
                    732.3749773407793,
                    719.8622437843089,
                    361.6674350904449,
                    4159.119863776816,
                    7930.2750295874075,
                    1187.8558901730883,
                    948.9943128480328,
                    4587.454299853333,
                    353.6852943559764,
                    576.1756890720981,
                    1130.123035320611,
                    4558.788071714697,
                    67537.31488339115,
                    266.59999091481734,
                    20.9055913779661,
                    209.9747689076432,
                    63962.02338141483,
                    1039.849346154119,
                    3202.1186484312993,
                    967.6068318959906,
                    254.6163551440862,
                    3859.4274193548385,
                    2264.946673004613,
                    510.1440908562405,
                    46035.7214060446,
                    13794.305956364406,
                    5320.928503227273,
                    1925.469027865037,
                    9786.845929203238,
                    8200.135929011636,
                    44439.27011972567,
                    166.19827586206895,
                    182.57773559506106,
                    120035.04131672064,
                    467.6889248812578,
                    2288.0682998401544,
                    1461.8863999248006,
                    1168.3740770141699,
                    95.63942544444446,
                    155.69818836608107,
                    466.3770675485151,
                    375.43994825806556,
                    22.55657420290878,
                    956.12819995348,
                    1223.7440761553385,
                    319.758064516129,
                    124.79885283971247,
                    151.86464234225588,
                    4708.4156145541965,
                    63.708914701780905,
                    289.7925088784209,
                    20563.97291878883,
                    161.41261986423956,
                    147.6616963309707,
                    62.1149189045148,
                    1877.4996195032297,
                    145.28034666423534,
                    445.51563019194185,
                    18324.943211420188,
                    6062.8982553275055,
                    181.348837093233,
                    4930.6670886425045,
                    141.42850719042744,
                    8239.0014362695,
                    818.738572719958,
                    3831.472093495721,
                    327.30999369664,
                    2616.6564550603202,
                    5259.937180710584,
                    8236.27475515924,
                    3691.6677809482267,
                    1641.6824947043376,
                    2736.0530889479073,
                    18672.132203174602,
                    105.47590819178748,
                    8.761251523295165,
                    19.169337625055793,
                    7225.822644464811,
                    308.78535900829127,
                    727.3034021598382,
                    42.041158090562305,
                    4847.69299885559,
                    2029.6103953488368,
                    806.1141699401552,
                    3098.5535861989047,
                    39234.36315012093,
                    21447.721551681578,
                    967.8140116356559,
                    335.94617601065585,
                    28.8143081245751,
                    10909.598188688304,
                    11789.350138298794,
                    113.44895550453467,
                    737.6543024997011,
                    5875.073498268501,
                    22.023529411764706,
                    94.1626052492231,
                    298.5868538533339,
                    644.7085553177926,
                    7602.219665634167,
                    400.19479348519155,
                    2435.592385274974,
                    4492.05918178546,
                    60295.47374600222,
                    359947.2636178658,
                    760.5950747977494,
                    4499.760156382631,
                    182.12453692044517,
                    371.3910866168696
                  ]
                }
              ],
              "layout": {
                "height": 600,
                "template": {
                  "data": {
                    "bar": [
                      {
                        "error_x": {
                          "color": "#2a3f5f"
                        },
                        "error_y": {
                          "color": "#2a3f5f"
                        },
                        "marker": {
                          "line": {
                            "color": "#E5ECF6",
                            "width": 0.5
                          },
                          "pattern": {
                            "fillmode": "overlay",
                            "size": 10,
                            "solidity": 0.2
                          }
                        },
                        "type": "bar"
                      }
                    ],
                    "barpolar": [
                      {
                        "marker": {
                          "line": {
                            "color": "#E5ECF6",
                            "width": 0.5
                          },
                          "pattern": {
                            "fillmode": "overlay",
                            "size": 10,
                            "solidity": 0.2
                          }
                        },
                        "type": "barpolar"
                      }
                    ],
                    "carpet": [
                      {
                        "aaxis": {
                          "endlinecolor": "#2a3f5f",
                          "gridcolor": "white",
                          "linecolor": "white",
                          "minorgridcolor": "white",
                          "startlinecolor": "#2a3f5f"
                        },
                        "baxis": {
                          "endlinecolor": "#2a3f5f",
                          "gridcolor": "white",
                          "linecolor": "white",
                          "minorgridcolor": "white",
                          "startlinecolor": "#2a3f5f"
                        },
                        "type": "carpet"
                      }
                    ],
                    "choropleth": [
                      {
                        "colorbar": {
                          "outlinewidth": 0,
                          "ticks": ""
                        },
                        "type": "choropleth"
                      }
                    ],
                    "contour": [
                      {
                        "colorbar": {
                          "outlinewidth": 0,
                          "ticks": ""
                        },
                        "colorscale": [
                          [
                            0,
                            "#0d0887"
                          ],
                          [
                            0.1111111111111111,
                            "#46039f"
                          ],
                          [
                            0.2222222222222222,
                            "#7201a8"
                          ],
                          [
                            0.3333333333333333,
                            "#9c179e"
                          ],
                          [
                            0.4444444444444444,
                            "#bd3786"
                          ],
                          [
                            0.5555555555555556,
                            "#d8576b"
                          ],
                          [
                            0.6666666666666666,
                            "#ed7953"
                          ],
                          [
                            0.7777777777777778,
                            "#fb9f3a"
                          ],
                          [
                            0.8888888888888888,
                            "#fdca26"
                          ],
                          [
                            1,
                            "#f0f921"
                          ]
                        ],
                        "type": "contour"
                      }
                    ],
                    "contourcarpet": [
                      {
                        "colorbar": {
                          "outlinewidth": 0,
                          "ticks": ""
                        },
                        "type": "contourcarpet"
                      }
                    ],
                    "heatmap": [
                      {
                        "colorbar": {
                          "outlinewidth": 0,
                          "ticks": ""
                        },
                        "colorscale": [
                          [
                            0,
                            "#0d0887"
                          ],
                          [
                            0.1111111111111111,
                            "#46039f"
                          ],
                          [
                            0.2222222222222222,
                            "#7201a8"
                          ],
                          [
                            0.3333333333333333,
                            "#9c179e"
                          ],
                          [
                            0.4444444444444444,
                            "#bd3786"
                          ],
                          [
                            0.5555555555555556,
                            "#d8576b"
                          ],
                          [
                            0.6666666666666666,
                            "#ed7953"
                          ],
                          [
                            0.7777777777777778,
                            "#fb9f3a"
                          ],
                          [
                            0.8888888888888888,
                            "#fdca26"
                          ],
                          [
                            1,
                            "#f0f921"
                          ]
                        ],
                        "type": "heatmap"
                      }
                    ],
                    "heatmapgl": [
                      {
                        "colorbar": {
                          "outlinewidth": 0,
                          "ticks": ""
                        },
                        "colorscale": [
                          [
                            0,
                            "#0d0887"
                          ],
                          [
                            0.1111111111111111,
                            "#46039f"
                          ],
                          [
                            0.2222222222222222,
                            "#7201a8"
                          ],
                          [
                            0.3333333333333333,
                            "#9c179e"
                          ],
                          [
                            0.4444444444444444,
                            "#bd3786"
                          ],
                          [
                            0.5555555555555556,
                            "#d8576b"
                          ],
                          [
                            0.6666666666666666,
                            "#ed7953"
                          ],
                          [
                            0.7777777777777778,
                            "#fb9f3a"
                          ],
                          [
                            0.8888888888888888,
                            "#fdca26"
                          ],
                          [
                            1,
                            "#f0f921"
                          ]
                        ],
                        "type": "heatmapgl"
                      }
                    ],
                    "histogram": [
                      {
                        "marker": {
                          "pattern": {
                            "fillmode": "overlay",
                            "size": 10,
                            "solidity": 0.2
                          }
                        },
                        "type": "histogram"
                      }
                    ],
                    "histogram2d": [
                      {
                        "colorbar": {
                          "outlinewidth": 0,
                          "ticks": ""
                        },
                        "colorscale": [
                          [
                            0,
                            "#0d0887"
                          ],
                          [
                            0.1111111111111111,
                            "#46039f"
                          ],
                          [
                            0.2222222222222222,
                            "#7201a8"
                          ],
                          [
                            0.3333333333333333,
                            "#9c179e"
                          ],
                          [
                            0.4444444444444444,
                            "#bd3786"
                          ],
                          [
                            0.5555555555555556,
                            "#d8576b"
                          ],
                          [
                            0.6666666666666666,
                            "#ed7953"
                          ],
                          [
                            0.7777777777777778,
                            "#fb9f3a"
                          ],
                          [
                            0.8888888888888888,
                            "#fdca26"
                          ],
                          [
                            1,
                            "#f0f921"
                          ]
                        ],
                        "type": "histogram2d"
                      }
                    ],
                    "histogram2dcontour": [
                      {
                        "colorbar": {
                          "outlinewidth": 0,
                          "ticks": ""
                        },
                        "colorscale": [
                          [
                            0,
                            "#0d0887"
                          ],
                          [
                            0.1111111111111111,
                            "#46039f"
                          ],
                          [
                            0.2222222222222222,
                            "#7201a8"
                          ],
                          [
                            0.3333333333333333,
                            "#9c179e"
                          ],
                          [
                            0.4444444444444444,
                            "#bd3786"
                          ],
                          [
                            0.5555555555555556,
                            "#d8576b"
                          ],
                          [
                            0.6666666666666666,
                            "#ed7953"
                          ],
                          [
                            0.7777777777777778,
                            "#fb9f3a"
                          ],
                          [
                            0.8888888888888888,
                            "#fdca26"
                          ],
                          [
                            1,
                            "#f0f921"
                          ]
                        ],
                        "type": "histogram2dcontour"
                      }
                    ],
                    "mesh3d": [
                      {
                        "colorbar": {
                          "outlinewidth": 0,
                          "ticks": ""
                        },
                        "type": "mesh3d"
                      }
                    ],
                    "parcoords": [
                      {
                        "line": {
                          "colorbar": {
                            "outlinewidth": 0,
                            "ticks": ""
                          }
                        },
                        "type": "parcoords"
                      }
                    ],
                    "pie": [
                      {
                        "automargin": true,
                        "type": "pie"
                      }
                    ],
                    "scatter": [
                      {
                        "fillpattern": {
                          "fillmode": "overlay",
                          "size": 10,
                          "solidity": 0.2
                        },
                        "type": "scatter"
                      }
                    ],
                    "scatter3d": [
                      {
                        "line": {
                          "colorbar": {
                            "outlinewidth": 0,
                            "ticks": ""
                          }
                        },
                        "marker": {
                          "colorbar": {
                            "outlinewidth": 0,
                            "ticks": ""
                          }
                        },
                        "type": "scatter3d"
                      }
                    ],
                    "scattercarpet": [
                      {
                        "marker": {
                          "colorbar": {
                            "outlinewidth": 0,
                            "ticks": ""
                          }
                        },
                        "type": "scattercarpet"
                      }
                    ],
                    "scattergeo": [
                      {
                        "marker": {
                          "colorbar": {
                            "outlinewidth": 0,
                            "ticks": ""
                          }
                        },
                        "type": "scattergeo"
                      }
                    ],
                    "scattergl": [
                      {
                        "marker": {
                          "colorbar": {
                            "outlinewidth": 0,
                            "ticks": ""
                          }
                        },
                        "type": "scattergl"
                      }
                    ],
                    "scattermapbox": [
                      {
                        "marker": {
                          "colorbar": {
                            "outlinewidth": 0,
                            "ticks": ""
                          }
                        },
                        "type": "scattermapbox"
                      }
                    ],
                    "scatterpolar": [
                      {
                        "marker": {
                          "colorbar": {
                            "outlinewidth": 0,
                            "ticks": ""
                          }
                        },
                        "type": "scatterpolar"
                      }
                    ],
                    "scatterpolargl": [
                      {
                        "marker": {
                          "colorbar": {
                            "outlinewidth": 0,
                            "ticks": ""
                          }
                        },
                        "type": "scatterpolargl"
                      }
                    ],
                    "scatterternary": [
                      {
                        "marker": {
                          "colorbar": {
                            "outlinewidth": 0,
                            "ticks": ""
                          }
                        },
                        "type": "scatterternary"
                      }
                    ],
                    "surface": [
                      {
                        "colorbar": {
                          "outlinewidth": 0,
                          "ticks": ""
                        },
                        "colorscale": [
                          [
                            0,
                            "#0d0887"
                          ],
                          [
                            0.1111111111111111,
                            "#46039f"
                          ],
                          [
                            0.2222222222222222,
                            "#7201a8"
                          ],
                          [
                            0.3333333333333333,
                            "#9c179e"
                          ],
                          [
                            0.4444444444444444,
                            "#bd3786"
                          ],
                          [
                            0.5555555555555556,
                            "#d8576b"
                          ],
                          [
                            0.6666666666666666,
                            "#ed7953"
                          ],
                          [
                            0.7777777777777778,
                            "#fb9f3a"
                          ],
                          [
                            0.8888888888888888,
                            "#fdca26"
                          ],
                          [
                            1,
                            "#f0f921"
                          ]
                        ],
                        "type": "surface"
                      }
                    ],
                    "table": [
                      {
                        "cells": {
                          "fill": {
                            "color": "#EBF0F8"
                          },
                          "line": {
                            "color": "white"
                          }
                        },
                        "header": {
                          "fill": {
                            "color": "#C8D4E3"
                          },
                          "line": {
                            "color": "white"
                          }
                        },
                        "type": "table"
                      }
                    ]
                  },
                  "layout": {
                    "annotationdefaults": {
                      "arrowcolor": "#2a3f5f",
                      "arrowhead": 0,
                      "arrowwidth": 1
                    },
                    "autotypenumbers": "strict",
                    "coloraxis": {
                      "colorbar": {
                        "outlinewidth": 0,
                        "ticks": ""
                      }
                    },
                    "colorscale": {
                      "diverging": [
                        [
                          0,
                          "#8e0152"
                        ],
                        [
                          0.1,
                          "#c51b7d"
                        ],
                        [
                          0.2,
                          "#de77ae"
                        ],
                        [
                          0.3,
                          "#f1b6da"
                        ],
                        [
                          0.4,
                          "#fde0ef"
                        ],
                        [
                          0.5,
                          "#f7f7f7"
                        ],
                        [
                          0.6,
                          "#e6f5d0"
                        ],
                        [
                          0.7,
                          "#b8e186"
                        ],
                        [
                          0.8,
                          "#7fbc41"
                        ],
                        [
                          0.9,
                          "#4d9221"
                        ],
                        [
                          1,
                          "#276419"
                        ]
                      ],
                      "sequential": [
                        [
                          0,
                          "#0d0887"
                        ],
                        [
                          0.1111111111111111,
                          "#46039f"
                        ],
                        [
                          0.2222222222222222,
                          "#7201a8"
                        ],
                        [
                          0.3333333333333333,
                          "#9c179e"
                        ],
                        [
                          0.4444444444444444,
                          "#bd3786"
                        ],
                        [
                          0.5555555555555556,
                          "#d8576b"
                        ],
                        [
                          0.6666666666666666,
                          "#ed7953"
                        ],
                        [
                          0.7777777777777778,
                          "#fb9f3a"
                        ],
                        [
                          0.8888888888888888,
                          "#fdca26"
                        ],
                        [
                          1,
                          "#f0f921"
                        ]
                      ],
                      "sequentialminus": [
                        [
                          0,
                          "#0d0887"
                        ],
                        [
                          0.1111111111111111,
                          "#46039f"
                        ],
                        [
                          0.2222222222222222,
                          "#7201a8"
                        ],
                        [
                          0.3333333333333333,
                          "#9c179e"
                        ],
                        [
                          0.4444444444444444,
                          "#bd3786"
                        ],
                        [
                          0.5555555555555556,
                          "#d8576b"
                        ],
                        [
                          0.6666666666666666,
                          "#ed7953"
                        ],
                        [
                          0.7777777777777778,
                          "#fb9f3a"
                        ],
                        [
                          0.8888888888888888,
                          "#fdca26"
                        ],
                        [
                          1,
                          "#f0f921"
                        ]
                      ]
                    },
                    "colorway": [
                      "#636efa",
                      "#EF553B",
                      "#00cc96",
                      "#ab63fa",
                      "#FFA15A",
                      "#19d3f3",
                      "#FF6692",
                      "#B6E880",
                      "#FF97FF",
                      "#FECB52"
                    ],
                    "font": {
                      "color": "#2a3f5f"
                    },
                    "geo": {
                      "bgcolor": "white",
                      "lakecolor": "white",
                      "landcolor": "#E5ECF6",
                      "showlakes": true,
                      "showland": true,
                      "subunitcolor": "white"
                    },
                    "hoverlabel": {
                      "align": "left"
                    },
                    "hovermode": "closest",
                    "mapbox": {
                      "style": "light"
                    },
                    "paper_bgcolor": "white",
                    "plot_bgcolor": "#E5ECF6",
                    "polar": {
                      "angularaxis": {
                        "gridcolor": "white",
                        "linecolor": "white",
                        "ticks": ""
                      },
                      "bgcolor": "#E5ECF6",
                      "radialaxis": {
                        "gridcolor": "white",
                        "linecolor": "white",
                        "ticks": ""
                      }
                    },
                    "scene": {
                      "xaxis": {
                        "backgroundcolor": "#E5ECF6",
                        "gridcolor": "white",
                        "gridwidth": 2,
                        "linecolor": "white",
                        "showbackground": true,
                        "ticks": "",
                        "zerolinecolor": "white"
                      },
                      "yaxis": {
                        "backgroundcolor": "#E5ECF6",
                        "gridcolor": "white",
                        "gridwidth": 2,
                        "linecolor": "white",
                        "showbackground": true,
                        "ticks": "",
                        "zerolinecolor": "white"
                      },
                      "zaxis": {
                        "backgroundcolor": "#E5ECF6",
                        "gridcolor": "white",
                        "gridwidth": 2,
                        "linecolor": "white",
                        "showbackground": true,
                        "ticks": "",
                        "zerolinecolor": "white"
                      }
                    },
                    "shapedefaults": {
                      "line": {
                        "color": "#2a3f5f"
                      }
                    },
                    "ternary": {
                      "aaxis": {
                        "gridcolor": "white",
                        "linecolor": "white",
                        "ticks": ""
                      },
                      "baxis": {
                        "gridcolor": "white",
                        "linecolor": "white",
                        "ticks": ""
                      },
                      "bgcolor": "#E5ECF6",
                      "caxis": {
                        "gridcolor": "white",
                        "linecolor": "white",
                        "ticks": ""
                      }
                    },
                    "title": {
                      "x": 0.05
                    },
                    "xaxis": {
                      "automargin": true,
                      "gridcolor": "white",
                      "linecolor": "white",
                      "ticks": "",
                      "title": {
                        "standoff": 15
                      },
                      "zerolinecolor": "white",
                      "zerolinewidth": 2
                    },
                    "yaxis": {
                      "automargin": true,
                      "gridcolor": "white",
                      "linecolor": "white",
                      "ticks": "",
                      "title": {
                        "standoff": 15
                      },
                      "zerolinecolor": "white",
                      "zerolinewidth": 2
                    }
                  }
                },
                "title": {
                  "text": "Стоимость жизни vs Скорректированный ВВП"
                },
                "width": 800,
                "xaxis": {
                  "title": {
                    "text": "Индекс стоимости жизни"
                  }
                },
                "yaxis": {
                  "title": {
                    "text": "Скорректированный ВВП (mio usd)"
                  }
                }
              }
            }
          },
          "metadata": {},
          "output_type": "display_data"
        }
      ],
      "source": [
        "fig = go.Figure()\n",
        "fig.add_trace(go.Scatter(\n",
        "    x = df_costs['Costs'], y = df_costs['Corrected_GDP'],\n",
        "    mode = 'markers', \n",
        "    marker = dict(size = 8, color = 'orange', opacity = 0.7),\n",
        "    hovertext = df_costs['Country'], \n",
        "    hoverinfo = 'text+x+y',\n",
        "    name = \"Страны\"\n",
        "))\n",
        "\n",
        "fig.update_layout(title = \"Стоимость жизни vs Скорректированный ВВП\", \n",
        "                  xaxis_title = \"Индекс стоимости жизни\", \n",
        "                  yaxis_title = \"Скорректированный ВВП (mio usd)\",\n",
        "                  width = 800, height = 600)\n",
        "\n",
        "fig.show()\n"
      ]
    },
    {
      "cell_type": "markdown",
      "id": "34f96a9a",
      "metadata": {},
      "source": [
        "Корреляция Пирсона (-0.321) и Спирмена (-0.503) говорит об отрицательной связи.\n",
        "\n",
        "p-значения < 0.0001 показывают статистическую значимость зависимости.\n",
        "\n",
        "Низкий R² = 0.103 указывает, что стоимость жизни объясняет лишь 10.3% вариации скорректированного ВВП.\n",
        "\n",
        "Но по графику понятно, что все эти результаты связаы с тем, что очень большая часть выборки имеет маленький ВВП и раную цену жизни. Поэтому говорить, что  высокая стоимость жизни приводит к снижению доступного ВВП после корректировки на индекс стоимости жизни"
      ]
    },
    {
      "cell_type": "markdown",
      "id": "3658f47b",
      "metadata": {},
      "source": []
    }
  ],
  "metadata": {
    "colab": {
      "provenance": []
    },
    "kernelspec": {
      "display_name": "base",
      "language": "python",
      "name": "python3"
    },
    "language_info": {
      "codemirror_mode": {
        "name": "ipython",
        "version": 3
      },
      "file_extension": ".py",
      "mimetype": "text/x-python",
      "name": "python",
      "nbconvert_exporter": "python",
      "pygments_lexer": "ipython3",
      "version": "3.11.7"
    }
  },
  "nbformat": 4,
  "nbformat_minor": 5
}
